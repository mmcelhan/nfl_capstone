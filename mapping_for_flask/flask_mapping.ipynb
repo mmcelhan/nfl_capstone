{
 "cells": [
  {
   "cell_type": "code",
   "execution_count": 1,
   "metadata": {},
   "outputs": [],
   "source": [
    "import pandas as pd"
   ]
  },
  {
   "cell_type": "code",
   "execution_count": 89,
   "metadata": {},
   "outputs": [],
   "source": [
    "def return_conference(college):\n",
    "    ''' function that recieves college and returns conference'''\n",
    "    df = pd.read_csv('..//data_mart//dimensions_colleges.csv')\n",
    "    df = df[['college', 'conference']]\n",
    "    conference = df[df['college'] == college]['conference']\n",
    "    if conference.empty:\n",
    "        conference = \"\"\n",
    "    else:\n",
    "        conference = conference.values[0]\n",
    "    return conference\n",
    "\n",
    "\n",
    "def return_rainfall(college):\n",
    "    '''function that recieves college and returns that annual rainfall'''\n",
    "    rainfall = 0\n",
    "    df_colleges = pd.read_csv('..//data_mart//dimensions_colleges.csv')\n",
    "    df_colleges = df_colleges[['fms_city_id', 'college']]\n",
    "    \n",
    "    df_cities = pd.read_csv('..//data_mart//facts_cities_metrics.csv')\n",
    "    df_cities = df_cities[['fms_city_id', 'ann_rain_inch']]\n",
    "    \n",
    "    df = pd.merge(df_colleges, df_cities, how='left', on='fms_city_id')\n",
    "    \n",
    "    rainfall = df[df['college'] == college]['ann_rain_inch']\n",
    "    if rainfall.empty:\n",
    "        rainfall = df['ann_rain_inch'].mean()  # return mean rain for country if no match\n",
    "    else:\n",
    "        rainfall = rainfall.values[0]   \n",
    "    return rainfall\n",
    "    "
   ]
  },
  {
   "cell_type": "code",
   "execution_count": 96,
   "metadata": {},
   "outputs": [
    {
     "name": "stdout",
     "output_type": "stream",
     "text": [
      "   \n",
      "sec\n",
      "   \n",
      "   \n",
      "\n",
      "   \n"
     ]
    }
   ],
   "source": [
    "conference = return_conference(\"Texas\")\n",
    "print(\"   \")\n",
    "print(conference)\n",
    "print(\"   \")\n",
    "\n",
    "conference = return_conference(\"Bananas\")\n",
    "print(\"   \")\n",
    "print(conference)\n",
    "print(\"   \")"
   ]
  },
  {
   "cell_type": "code",
   "execution_count": 97,
   "metadata": {},
   "outputs": [
    {
     "name": "stdout",
     "output_type": "stream",
     "text": [
      "   \n",
      "58.16\n",
      "   \n",
      "   \n",
      "41.23694704049844\n",
      "   \n"
     ]
    }
   ],
   "source": [
    "rainfall = return_rainfall(\"Ole Miss\")\n",
    "print(\"   \")\n",
    "print(rainfall)\n",
    "print(\"   \")\n",
    "\n",
    "rainfall = return_rainfall(\"Bananas\")\n",
    "print(\"   \")\n",
    "print(rainfall)\n",
    "print(\"   \")"
   ]
  },
  {
   "cell_type": "code",
   "execution_count": null,
   "metadata": {},
   "outputs": [],
   "source": []
  }
 ],
 "metadata": {
  "kernelspec": {
   "display_name": "Python 3",
   "language": "python",
   "name": "python3"
  },
  "language_info": {
   "codemirror_mode": {
    "name": "ipython",
    "version": 3
   },
   "file_extension": ".py",
   "mimetype": "text/x-python",
   "name": "python",
   "nbconvert_exporter": "python",
   "pygments_lexer": "ipython3",
   "version": "3.7.4"
  }
 },
 "nbformat": 4,
 "nbformat_minor": 2
}
