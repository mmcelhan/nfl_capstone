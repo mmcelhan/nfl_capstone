{
 "cells": [
  {
   "cell_type": "code",
   "execution_count": 23,
   "metadata": {},
   "outputs": [],
   "source": [
    "#import libraries\n",
    "import os\n",
    "from pandas import read_csv\n",
    "import pandas as pd\n",
    "from matplotlib import pyplot\n",
    "from sklearn.model_selection import train_test_split\n",
    "from sklearn.model_selection import cross_val_score\n",
    "from sklearn.model_selection import StratifiedKFold\n",
    "from sklearn.linear_model import LogisticRegression\n",
    "from sklearn.tree import DecisionTreeClassifier\n",
    "from sklearn.neighbors import KNeighborsClassifier\n",
    "from sklearn.discriminant_analysis import LinearDiscriminantAnalysis\n",
    "from sklearn.naive_bayes import GaussianNB\n",
    "from sklearn.svm import SVC\n",
    "from sklearn.utils import shuffle\n",
    "%matplotlib inline\n",
    "\n",
    "import pandas_profiling\n",
    "import numpy as np\n",
    "\n",
    "\n",
    "from scipy.stats import skew, norm\n",
    "from scipy import stats\n",
    "from scipy.special import boxcox1p\n",
    "from sklearn.preprocessing import LabelEncoder, PolynomialFeatures, RobustScaler\n",
    "from sklearn import linear_model\n",
    "from sklearn.linear_model import ElasticNetCV, ElasticNet, LinearRegression, Lasso, LassoCV, Ridge, RidgeCV, LogisticRegression\n",
    "from sklearn.tree import DecisionTreeRegressor\n",
    "from sklearn.ensemble import AdaBoostRegressor, AdaBoostClassifier, ExtraTreesClassifier, VotingClassifier\n",
    "from sklearn.ensemble import GradientBoostingRegressor, GradientBoostingClassifier, RandomForestClassifier\n",
    "from sklearn.decomposition import PCA\n",
    "from sklearn.model_selection import GridSearchCV\n",
    "from sklearn.pipeline import make_pipeline, Pipeline\n",
    "from sklearn.preprocessing import RobustScaler\n",
    "from sklearn.metrics import r2_score, mean_squared_error, mean_squared_log_error, classification_report, accuracy_score\n",
    "from math import sqrt\n",
    "\n",
    "\n",
    "\n",
    "from lightgbm import LGBMRegressor\n",
    "import lightgbm as lgb"
   ]
  },
  {
   "cell_type": "code",
   "execution_count": 2,
   "metadata": {},
   "outputs": [
    {
     "name": "stdout",
     "output_type": "stream",
     "text": [
      "C:\\Users\\jonat\\Desktop\\capstone\\nfl2\\nfl_capstone\n",
      "C:\\Users\\jonat\\Desktop\\capstone\\nfl2\\nfl_capstone//data_mart//reporting_wr.csv\n"
     ]
    },
    {
     "data": {
      "text/html": [
       "<div>\n",
       "<style scoped>\n",
       "    .dataframe tbody tr th:only-of-type {\n",
       "        vertical-align: middle;\n",
       "    }\n",
       "\n",
       "    .dataframe tbody tr th {\n",
       "        vertical-align: top;\n",
       "    }\n",
       "\n",
       "    .dataframe thead th {\n",
       "        text-align: right;\n",
       "    }\n",
       "</style>\n",
       "<table border=\"1\" class=\"dataframe\">\n",
       "  <thead>\n",
       "    <tr style=\"text-align: right;\">\n",
       "      <th></th>\n",
       "      <th>espn_id</th>\n",
       "      <th>full_name</th>\n",
       "      <th>first_name</th>\n",
       "      <th>last_name</th>\n",
       "      <th>position</th>\n",
       "      <th>position_group</th>\n",
       "      <th>section</th>\n",
       "      <th>college</th>\n",
       "      <th>draft_year</th>\n",
       "      <th>selection_number</th>\n",
       "      <th>...</th>\n",
       "      <th>receiving_rec_yards_zscore</th>\n",
       "      <th>receiving_receptions_zscore</th>\n",
       "      <th>receiving_rush_att_zscore</th>\n",
       "      <th>receiving_rush_td_zscore</th>\n",
       "      <th>receiving_rush_yds_zscore</th>\n",
       "      <th>receiving_scrim_plays_zscore</th>\n",
       "      <th>receiving_scrim_tds_zscore</th>\n",
       "      <th>receiving_scrim_yds_zscore</th>\n",
       "      <th>receiving_seasons_zscore</th>\n",
       "      <th>max_madden_zscore</th>\n",
       "    </tr>\n",
       "    <tr>\n",
       "      <th>fms_id</th>\n",
       "      <th></th>\n",
       "      <th></th>\n",
       "      <th></th>\n",
       "      <th></th>\n",
       "      <th></th>\n",
       "      <th></th>\n",
       "      <th></th>\n",
       "      <th></th>\n",
       "      <th></th>\n",
       "      <th></th>\n",
       "      <th></th>\n",
       "      <th></th>\n",
       "      <th></th>\n",
       "      <th></th>\n",
       "      <th></th>\n",
       "      <th></th>\n",
       "      <th></th>\n",
       "      <th></th>\n",
       "      <th></th>\n",
       "      <th></th>\n",
       "      <th></th>\n",
       "    </tr>\n",
       "  </thead>\n",
       "  <tbody>\n",
       "    <tr>\n",
       "      <th>2</th>\n",
       "      <td>4047646.0</td>\n",
       "      <td>A.J. Brown</td>\n",
       "      <td>A.J.</td>\n",
       "      <td>Brown</td>\n",
       "      <td>WR</td>\n",
       "      <td>WR</td>\n",
       "      <td>O</td>\n",
       "      <td>Ole Miss</td>\n",
       "      <td>2019</td>\n",
       "      <td>NaN</td>\n",
       "      <td>...</td>\n",
       "      <td>1.020082</td>\n",
       "      <td>0.745111</td>\n",
       "      <td>-0.597165</td>\n",
       "      <td>-0.440830</td>\n",
       "      <td>-0.564573</td>\n",
       "      <td>0.523967</td>\n",
       "      <td>0.277925</td>\n",
       "      <td>0.911099</td>\n",
       "      <td>-0.273056</td>\n",
       "      <td>-0.215460</td>\n",
       "    </tr>\n",
       "    <tr>\n",
       "      <th>216</th>\n",
       "      <td>3914328.0</td>\n",
       "      <td>Andy Isabella</td>\n",
       "      <td>Andy</td>\n",
       "      <td>Isabella</td>\n",
       "      <td>WR</td>\n",
       "      <td>WR</td>\n",
       "      <td>O</td>\n",
       "      <td>UMass</td>\n",
       "      <td>2019</td>\n",
       "      <td>NaN</td>\n",
       "      <td>...</td>\n",
       "      <td>1.596537</td>\n",
       "      <td>1.364694</td>\n",
       "      <td>1.560318</td>\n",
       "      <td>1.048808</td>\n",
       "      <td>2.030272</td>\n",
       "      <td>1.613414</td>\n",
       "      <td>1.681258</td>\n",
       "      <td>1.821476</td>\n",
       "      <td>0.634520</td>\n",
       "      <td>-0.215460</td>\n",
       "    </tr>\n",
       "    <tr>\n",
       "      <th>248</th>\n",
       "      <td>4049301.0</td>\n",
       "      <td>Anthony Johnson</td>\n",
       "      <td>Anthony</td>\n",
       "      <td>Johnson</td>\n",
       "      <td>WR</td>\n",
       "      <td>WR</td>\n",
       "      <td>O</td>\n",
       "      <td>Buffalo</td>\n",
       "      <td>2019</td>\n",
       "      <td>NaN</td>\n",
       "      <td>...</td>\n",
       "      <td>0.363859</td>\n",
       "      <td>-0.080999</td>\n",
       "      <td>-0.381417</td>\n",
       "      <td>-0.440830</td>\n",
       "      <td>-0.602509</td>\n",
       "      <td>-0.166902</td>\n",
       "      <td>0.925617</td>\n",
       "      <td>0.270539</td>\n",
       "      <td>-1.180632</td>\n",
       "      <td>-1.023346</td>\n",
       "    </tr>\n",
       "    <tr>\n",
       "      <th>275</th>\n",
       "      <td>4043161.0</td>\n",
       "      <td>Antoine Wesley</td>\n",
       "      <td>Antoine</td>\n",
       "      <td>Wesley</td>\n",
       "      <td>WR</td>\n",
       "      <td>WR</td>\n",
       "      <td>O</td>\n",
       "      <td>Texas Tech</td>\n",
       "      <td>2019</td>\n",
       "      <td>NaN</td>\n",
       "      <td>...</td>\n",
       "      <td>-0.508269</td>\n",
       "      <td>-0.597318</td>\n",
       "      <td>-0.543228</td>\n",
       "      <td>-0.440830</td>\n",
       "      <td>-0.579748</td>\n",
       "      <td>-0.671767</td>\n",
       "      <td>-0.801563</td>\n",
       "      <td>-0.570839</td>\n",
       "      <td>-0.273056</td>\n",
       "      <td>NaN</td>\n",
       "    </tr>\n",
       "    <tr>\n",
       "      <th>434</th>\n",
       "      <td>3917067.0</td>\n",
       "      <td>Bisi Johnson</td>\n",
       "      <td>Bisi</td>\n",
       "      <td>Johnson</td>\n",
       "      <td>WR</td>\n",
       "      <td>WR</td>\n",
       "      <td>O</td>\n",
       "      <td>Colorado State</td>\n",
       "      <td>2019</td>\n",
       "      <td>NaN</td>\n",
       "      <td>...</td>\n",
       "      <td>-0.006263</td>\n",
       "      <td>-0.199015</td>\n",
       "      <td>-0.543228</td>\n",
       "      <td>-0.440830</td>\n",
       "      <td>-0.465939</td>\n",
       "      <td>-0.313047</td>\n",
       "      <td>-0.585665</td>\n",
       "      <td>-0.069308</td>\n",
       "      <td>0.634520</td>\n",
       "      <td>NaN</td>\n",
       "    </tr>\n",
       "  </tbody>\n",
       "</table>\n",
       "<p>5 rows × 59 columns</p>\n",
       "</div>"
      ],
      "text/plain": [
       "          espn_id        full_name first_name last_name position  \\\n",
       "fms_id                                                             \n",
       "2       4047646.0       A.J. Brown       A.J.     Brown       WR   \n",
       "216     3914328.0    Andy Isabella       Andy  Isabella       WR   \n",
       "248     4049301.0  Anthony Johnson    Anthony   Johnson       WR   \n",
       "275     4043161.0   Antoine Wesley    Antoine    Wesley       WR   \n",
       "434     3917067.0     Bisi Johnson       Bisi   Johnson       WR   \n",
       "\n",
       "       position_group section         college  draft_year  selection_number  \\\n",
       "fms_id                                                                        \n",
       "2                  WR       O        Ole Miss        2019               NaN   \n",
       "216                WR       O           UMass        2019               NaN   \n",
       "248                WR       O         Buffalo        2019               NaN   \n",
       "275                WR       O      Texas Tech        2019               NaN   \n",
       "434                WR       O  Colorado State        2019               NaN   \n",
       "\n",
       "        ...  receiving_rec_yards_zscore  receiving_receptions_zscore  \\\n",
       "fms_id  ...                                                            \n",
       "2       ...                    1.020082                     0.745111   \n",
       "216     ...                    1.596537                     1.364694   \n",
       "248     ...                    0.363859                    -0.080999   \n",
       "275     ...                   -0.508269                    -0.597318   \n",
       "434     ...                   -0.006263                    -0.199015   \n",
       "\n",
       "        receiving_rush_att_zscore receiving_rush_td_zscore  \\\n",
       "fms_id                                                       \n",
       "2                       -0.597165                -0.440830   \n",
       "216                      1.560318                 1.048808   \n",
       "248                     -0.381417                -0.440830   \n",
       "275                     -0.543228                -0.440830   \n",
       "434                     -0.543228                -0.440830   \n",
       "\n",
       "       receiving_rush_yds_zscore receiving_scrim_plays_zscore  \\\n",
       "fms_id                                                          \n",
       "2                      -0.564573                     0.523967   \n",
       "216                     2.030272                     1.613414   \n",
       "248                    -0.602509                    -0.166902   \n",
       "275                    -0.579748                    -0.671767   \n",
       "434                    -0.465939                    -0.313047   \n",
       "\n",
       "       receiving_scrim_tds_zscore  receiving_scrim_yds_zscore  \\\n",
       "fms_id                                                          \n",
       "2                        0.277925                    0.911099   \n",
       "216                      1.681258                    1.821476   \n",
       "248                      0.925617                    0.270539   \n",
       "275                     -0.801563                   -0.570839   \n",
       "434                     -0.585665                   -0.069308   \n",
       "\n",
       "        receiving_seasons_zscore  max_madden_zscore  \n",
       "fms_id                                               \n",
       "2                      -0.273056          -0.215460  \n",
       "216                     0.634520          -0.215460  \n",
       "248                    -1.180632          -1.023346  \n",
       "275                    -0.273056                NaN  \n",
       "434                     0.634520                NaN  \n",
       "\n",
       "[5 rows x 59 columns]"
      ]
     },
     "execution_count": 2,
     "metadata": {},
     "output_type": "execute_result"
    }
   ],
   "source": [
    "#import data\n",
    "current_path = os.getcwd()\n",
    "current_path = os.path.dirname(current_path)\n",
    "print(current_path)\n",
    "#C:\\Users\\jonat\\Desktop\\capstone\\nfl2\\nfl_capstone\\data_mart\n",
    "dataset = current_path + '//data_mart//reporting_wr.csv'\n",
    "print(dataset)\n",
    "dataset = pd.read_csv(dataset, index_col = 0)\n",
    "dataset.head()\n",
    "\n",
    "#https://stackoverflow.com/questions/9856683/using-pythons-os-path-how-do-i-go-up-one-directory"
   ]
  },
  {
   "cell_type": "code",
   "execution_count": null,
   "metadata": {},
   "outputs": [],
   "source": [
    "#pandas_profiling.ProfileReport(dataset)"
   ]
  },
  {
   "cell_type": "code",
   "execution_count": 3,
   "metadata": {},
   "outputs": [
    {
     "data": {
      "text/html": [
       "<div>\n",
       "<style scoped>\n",
       "    .dataframe tbody tr th:only-of-type {\n",
       "        vertical-align: middle;\n",
       "    }\n",
       "\n",
       "    .dataframe tbody tr th {\n",
       "        vertical-align: top;\n",
       "    }\n",
       "\n",
       "    .dataframe thead th {\n",
       "        text-align: right;\n",
       "    }\n",
       "</style>\n",
       "<table border=\"1\" class=\"dataframe\">\n",
       "  <thead>\n",
       "    <tr style=\"text-align: right;\">\n",
       "      <th></th>\n",
       "      <th>espn_id</th>\n",
       "      <th>draft_year</th>\n",
       "      <th>selection_number</th>\n",
       "      <th>position_rank</th>\n",
       "      <th>position_group_rank</th>\n",
       "      <th>section_rank</th>\n",
       "      <th>college_weight_pounds</th>\n",
       "      <th>college_height_inches</th>\n",
       "      <th>hw_ratio</th>\n",
       "      <th>forty</th>\n",
       "      <th>...</th>\n",
       "      <th>receiving_rec_yards_zscore</th>\n",
       "      <th>receiving_receptions_zscore</th>\n",
       "      <th>receiving_rush_att_zscore</th>\n",
       "      <th>receiving_rush_td_zscore</th>\n",
       "      <th>receiving_rush_yds_zscore</th>\n",
       "      <th>receiving_scrim_plays_zscore</th>\n",
       "      <th>receiving_scrim_tds_zscore</th>\n",
       "      <th>receiving_scrim_yds_zscore</th>\n",
       "      <th>receiving_seasons_zscore</th>\n",
       "      <th>max_madden_zscore</th>\n",
       "    </tr>\n",
       "  </thead>\n",
       "  <tbody>\n",
       "    <tr>\n",
       "      <th>count</th>\n",
       "      <td>9.900000e+01</td>\n",
       "      <td>811.000000</td>\n",
       "      <td>765.000000</td>\n",
       "      <td>765.000000</td>\n",
       "      <td>765.000000</td>\n",
       "      <td>765.000000</td>\n",
       "      <td>811.000000</td>\n",
       "      <td>811.000000</td>\n",
       "      <td>811.000000</td>\n",
       "      <td>787.000000</td>\n",
       "      <td>...</td>\n",
       "      <td>8.110000e+02</td>\n",
       "      <td>8.110000e+02</td>\n",
       "      <td>8.110000e+02</td>\n",
       "      <td>8.110000e+02</td>\n",
       "      <td>8.110000e+02</td>\n",
       "      <td>8.110000e+02</td>\n",
       "      <td>8.110000e+02</td>\n",
       "      <td>8.110000e+02</td>\n",
       "      <td>8.110000e+02</td>\n",
       "      <td>3.230000e+02</td>\n",
       "    </tr>\n",
       "    <tr>\n",
       "      <th>mean</th>\n",
       "      <td>3.469118e+06</td>\n",
       "      <td>2009.817509</td>\n",
       "      <td>185.003922</td>\n",
       "      <td>21.166013</td>\n",
       "      <td>21.166013</td>\n",
       "      <td>64.852288</td>\n",
       "      <td>201.985203</td>\n",
       "      <td>72.688039</td>\n",
       "      <td>0.361295</td>\n",
       "      <td>4.511931</td>\n",
       "      <td>...</td>\n",
       "      <td>6.570987e-17</td>\n",
       "      <td>1.138971e-16</td>\n",
       "      <td>-3.942592e-17</td>\n",
       "      <td>1.095165e-17</td>\n",
       "      <td>-2.190329e-17</td>\n",
       "      <td>-1.314197e-16</td>\n",
       "      <td>-7.009053e-17</td>\n",
       "      <td>-9.637448e-17</td>\n",
       "      <td>1.182778e-16</td>\n",
       "      <td>-3.299734e-16</td>\n",
       "    </tr>\n",
       "    <tr>\n",
       "      <th>std</th>\n",
       "      <td>1.078099e+06</td>\n",
       "      <td>5.793248</td>\n",
       "      <td>107.459532</td>\n",
       "      <td>12.324364</td>\n",
       "      <td>12.324364</td>\n",
       "      <td>38.083820</td>\n",
       "      <td>15.037641</td>\n",
       "      <td>2.257518</td>\n",
       "      <td>0.020896</td>\n",
       "      <td>0.099688</td>\n",
       "      <td>...</td>\n",
       "      <td>1.000617e+00</td>\n",
       "      <td>1.000617e+00</td>\n",
       "      <td>1.000617e+00</td>\n",
       "      <td>1.000617e+00</td>\n",
       "      <td>1.000617e+00</td>\n",
       "      <td>1.000617e+00</td>\n",
       "      <td>1.000617e+00</td>\n",
       "      <td>1.000617e+00</td>\n",
       "      <td>1.000617e+00</td>\n",
       "      <td>1.001552e+00</td>\n",
       "    </tr>\n",
       "    <tr>\n",
       "      <th>min</th>\n",
       "      <td>2.460440e+05</td>\n",
       "      <td>2000.000000</td>\n",
       "      <td>2.000000</td>\n",
       "      <td>1.000000</td>\n",
       "      <td>1.000000</td>\n",
       "      <td>1.000000</td>\n",
       "      <td>149.000000</td>\n",
       "      <td>65.000000</td>\n",
       "      <td>0.311741</td>\n",
       "      <td>4.220000</td>\n",
       "      <td>...</td>\n",
       "      <td>-2.153612e+00</td>\n",
       "      <td>-2.043011e+00</td>\n",
       "      <td>-5.971654e-01</td>\n",
       "      <td>-4.408299e-01</td>\n",
       "      <td>-7.694291e-01</td>\n",
       "      <td>-1.987075e+00</td>\n",
       "      <td>-1.773101e+00</td>\n",
       "      <td>-2.161940e+00</td>\n",
       "      <td>-2.995783e+00</td>\n",
       "      <td>-2.292880e+00</td>\n",
       "    </tr>\n",
       "    <tr>\n",
       "      <th>25%</th>\n",
       "      <td>3.126105e+06</td>\n",
       "      <td>2005.000000</td>\n",
       "      <td>83.000000</td>\n",
       "      <td>11.000000</td>\n",
       "      <td>11.000000</td>\n",
       "      <td>31.000000</td>\n",
       "      <td>191.500000</td>\n",
       "      <td>71.000000</td>\n",
       "      <td>0.345972</td>\n",
       "      <td>4.450000</td>\n",
       "      <td>...</td>\n",
       "      <td>-6.257930e-01</td>\n",
       "      <td>-6.710782e-01</td>\n",
       "      <td>-5.432283e-01</td>\n",
       "      <td>-4.408299e-01</td>\n",
       "      <td>-5.645730e-01</td>\n",
       "      <td>-6.584813e-01</td>\n",
       "      <td>-6.936139e-01</td>\n",
       "      <td>-6.223312e-01</td>\n",
       "      <td>-2.730561e-01</td>\n",
       "      <td>-6.771090e-01</td>\n",
       "    </tr>\n",
       "    <tr>\n",
       "      <th>50%</th>\n",
       "      <td>3.917067e+06</td>\n",
       "      <td>2010.000000</td>\n",
       "      <td>191.000000</td>\n",
       "      <td>21.000000</td>\n",
       "      <td>21.000000</td>\n",
       "      <td>63.000000</td>\n",
       "      <td>202.000000</td>\n",
       "      <td>73.000000</td>\n",
       "      <td>0.360000</td>\n",
       "      <td>4.510000</td>\n",
       "      <td>...</td>\n",
       "      <td>-2.221694e-02</td>\n",
       "      <td>-5.149547e-02</td>\n",
       "      <td>-3.814170e-01</td>\n",
       "      <td>-4.408299e-01</td>\n",
       "      <td>-3.976531e-01</td>\n",
       "      <td>-8.718590e-02</td>\n",
       "      <td>-4.592147e-02</td>\n",
       "      <td>-3.635293e-02</td>\n",
       "      <td>6.345196e-01</td>\n",
       "      <td>-2.154600e-01</td>\n",
       "    </tr>\n",
       "    <tr>\n",
       "      <th>75%</th>\n",
       "      <td>4.038990e+06</td>\n",
       "      <td>2015.000000</td>\n",
       "      <td>300.000000</td>\n",
       "      <td>31.000000</td>\n",
       "      <td>31.000000</td>\n",
       "      <td>98.000000</td>\n",
       "      <td>213.000000</td>\n",
       "      <td>74.000000</td>\n",
       "      <td>0.375000</td>\n",
       "      <td>4.570000</td>\n",
       "      <td>...</td>\n",
       "      <td>6.845254e-01</td>\n",
       "      <td>5.975912e-01</td>\n",
       "      <td>1.309853e-01</td>\n",
       "      <td>3.039890e-01</td>\n",
       "      <td>1.334554e-01</td>\n",
       "      <td>5.903970e-01</td>\n",
       "      <td>6.017709e-01</td>\n",
       "      <td>6.665120e-01</td>\n",
       "      <td>6.345196e-01</td>\n",
       "      <td>5.924257e-01</td>\n",
       "    </tr>\n",
       "    <tr>\n",
       "      <th>max</th>\n",
       "      <td>4.591752e+06</td>\n",
       "      <td>2019.000000</td>\n",
       "      <td>300.000000</td>\n",
       "      <td>53.000000</td>\n",
       "      <td>53.000000</td>\n",
       "      <td>145.000000</td>\n",
       "      <td>247.000000</td>\n",
       "      <td>78.000000</td>\n",
       "      <td>0.450000</td>\n",
       "      <td>4.850000</td>\n",
       "      <td>...</td>\n",
       "      <td>3.459912e+00</td>\n",
       "      <td>3.666001e+00</td>\n",
       "      <td>8.733951e+00</td>\n",
       "      <td>7.007359e+00</td>\n",
       "      <td>1.013347e+01</td>\n",
       "      <td>3.300729e+00</td>\n",
       "      <td>4.703823e+00</td>\n",
       "      <td>3.286937e+00</td>\n",
       "      <td>1.542095e+00</td>\n",
       "      <td>2.900671e+00</td>\n",
       "    </tr>\n",
       "  </tbody>\n",
       "</table>\n",
       "<p>8 rows × 48 columns</p>\n",
       "</div>"
      ],
      "text/plain": [
       "            espn_id   draft_year  selection_number  position_rank  \\\n",
       "count  9.900000e+01   811.000000        765.000000     765.000000   \n",
       "mean   3.469118e+06  2009.817509        185.003922      21.166013   \n",
       "std    1.078099e+06     5.793248        107.459532      12.324364   \n",
       "min    2.460440e+05  2000.000000          2.000000       1.000000   \n",
       "25%    3.126105e+06  2005.000000         83.000000      11.000000   \n",
       "50%    3.917067e+06  2010.000000        191.000000      21.000000   \n",
       "75%    4.038990e+06  2015.000000        300.000000      31.000000   \n",
       "max    4.591752e+06  2019.000000        300.000000      53.000000   \n",
       "\n",
       "       position_group_rank  section_rank  college_weight_pounds  \\\n",
       "count           765.000000    765.000000             811.000000   \n",
       "mean             21.166013     64.852288             201.985203   \n",
       "std              12.324364     38.083820              15.037641   \n",
       "min               1.000000      1.000000             149.000000   \n",
       "25%              11.000000     31.000000             191.500000   \n",
       "50%              21.000000     63.000000             202.000000   \n",
       "75%              31.000000     98.000000             213.000000   \n",
       "max              53.000000    145.000000             247.000000   \n",
       "\n",
       "       college_height_inches    hw_ratio       forty  ...  \\\n",
       "count             811.000000  811.000000  787.000000  ...   \n",
       "mean               72.688039    0.361295    4.511931  ...   \n",
       "std                 2.257518    0.020896    0.099688  ...   \n",
       "min                65.000000    0.311741    4.220000  ...   \n",
       "25%                71.000000    0.345972    4.450000  ...   \n",
       "50%                73.000000    0.360000    4.510000  ...   \n",
       "75%                74.000000    0.375000    4.570000  ...   \n",
       "max                78.000000    0.450000    4.850000  ...   \n",
       "\n",
       "       receiving_rec_yards_zscore  receiving_receptions_zscore  \\\n",
       "count                8.110000e+02                 8.110000e+02   \n",
       "mean                 6.570987e-17                 1.138971e-16   \n",
       "std                  1.000617e+00                 1.000617e+00   \n",
       "min                 -2.153612e+00                -2.043011e+00   \n",
       "25%                 -6.257930e-01                -6.710782e-01   \n",
       "50%                 -2.221694e-02                -5.149547e-02   \n",
       "75%                  6.845254e-01                 5.975912e-01   \n",
       "max                  3.459912e+00                 3.666001e+00   \n",
       "\n",
       "       receiving_rush_att_zscore  receiving_rush_td_zscore  \\\n",
       "count               8.110000e+02              8.110000e+02   \n",
       "mean               -3.942592e-17              1.095165e-17   \n",
       "std                 1.000617e+00              1.000617e+00   \n",
       "min                -5.971654e-01             -4.408299e-01   \n",
       "25%                -5.432283e-01             -4.408299e-01   \n",
       "50%                -3.814170e-01             -4.408299e-01   \n",
       "75%                 1.309853e-01              3.039890e-01   \n",
       "max                 8.733951e+00              7.007359e+00   \n",
       "\n",
       "       receiving_rush_yds_zscore  receiving_scrim_plays_zscore  \\\n",
       "count               8.110000e+02                  8.110000e+02   \n",
       "mean               -2.190329e-17                 -1.314197e-16   \n",
       "std                 1.000617e+00                  1.000617e+00   \n",
       "min                -7.694291e-01                 -1.987075e+00   \n",
       "25%                -5.645730e-01                 -6.584813e-01   \n",
       "50%                -3.976531e-01                 -8.718590e-02   \n",
       "75%                 1.334554e-01                  5.903970e-01   \n",
       "max                 1.013347e+01                  3.300729e+00   \n",
       "\n",
       "       receiving_scrim_tds_zscore  receiving_scrim_yds_zscore  \\\n",
       "count                8.110000e+02                8.110000e+02   \n",
       "mean                -7.009053e-17               -9.637448e-17   \n",
       "std                  1.000617e+00                1.000617e+00   \n",
       "min                 -1.773101e+00               -2.161940e+00   \n",
       "25%                 -6.936139e-01               -6.223312e-01   \n",
       "50%                 -4.592147e-02               -3.635293e-02   \n",
       "75%                  6.017709e-01                6.665120e-01   \n",
       "max                  4.703823e+00                3.286937e+00   \n",
       "\n",
       "       receiving_seasons_zscore  max_madden_zscore  \n",
       "count              8.110000e+02       3.230000e+02  \n",
       "mean               1.182778e-16      -3.299734e-16  \n",
       "std                1.000617e+00       1.001552e+00  \n",
       "min               -2.995783e+00      -2.292880e+00  \n",
       "25%               -2.730561e-01      -6.771090e-01  \n",
       "50%                6.345196e-01      -2.154600e-01  \n",
       "75%                6.345196e-01       5.924257e-01  \n",
       "max                1.542095e+00       2.900671e+00  \n",
       "\n",
       "[8 rows x 48 columns]"
      ]
     },
     "execution_count": 3,
     "metadata": {},
     "output_type": "execute_result"
    }
   ],
   "source": [
    "dataset.describe()"
   ]
  },
  {
   "cell_type": "code",
   "execution_count": 4,
   "metadata": {},
   "outputs": [
    {
     "data": {
      "text/plain": [
       "Index(['espn_id', 'full_name', 'first_name', 'last_name', 'position',\n",
       "       'position_group', 'section', 'college', 'draft_year',\n",
       "       'selection_number', 'position_rank', 'position_group_rank',\n",
       "       'section_rank', 'drafting_team', 'home_city', 'home_state',\n",
       "       'home_country', 'college_weight_pounds', 'college_height_inches',\n",
       "       'hw_ratio', 'forty', 'vertical', 'bench', 'broad', 'threecone',\n",
       "       'shuttle', 'receiving_games', 'receiving_rec_td', 'receiving_rec_yards',\n",
       "       'receiving_receptions', 'receiving_rush_att', 'receiving_rush_td',\n",
       "       'receiving_rush_yds', 'receiving_scrim_plays', 'receiving_scrim_tds',\n",
       "       'receiving_scrim_yds', 'receiving_seasons', 'max_madden',\n",
       "       'college_weight_pounds_zscore', 'college_height_inches_zscore',\n",
       "       'hw_ratio_zscore', 'forty_zscore', 'vertical_zscore', 'bench_zscore',\n",
       "       'broad_zscore', 'threecone_zscore', 'shuttle_zscore',\n",
       "       'receiving_games_zscore', 'receiving_rec_td_zscore',\n",
       "       'receiving_rec_yards_zscore', 'receiving_receptions_zscore',\n",
       "       'receiving_rush_att_zscore', 'receiving_rush_td_zscore',\n",
       "       'receiving_rush_yds_zscore', 'receiving_scrim_plays_zscore',\n",
       "       'receiving_scrim_tds_zscore', 'receiving_scrim_yds_zscore',\n",
       "       'receiving_seasons_zscore', 'max_madden_zscore'],\n",
       "      dtype='object')"
      ]
     },
     "execution_count": 4,
     "metadata": {},
     "output_type": "execute_result"
    }
   ],
   "source": [
    "dataset.columns"
   ]
  },
  {
   "cell_type": "code",
   "execution_count": 5,
   "metadata": {},
   "outputs": [
    {
     "name": "stdout",
     "output_type": "stream",
     "text": [
      "['espn_id', 'selection_number', 'position_rank', 'position_group_rank', 'section_rank', 'drafting_team', 'home_city', 'home_state', 'home_country', 'forty', 'vertical', 'bench', 'broad', 'threecone', 'shuttle', 'max_madden', 'forty_zscore', 'vertical_zscore', 'bench_zscore', 'broad_zscore', 'threecone_zscore', 'shuttle_zscore', 'max_madden_zscore']\n"
     ]
    }
   ],
   "source": [
    "#determine which columns have None values\n",
    "none_columns = []\n",
    "for x in dataset.columns:\n",
    "    if dataset[x].isnull().values.any() == True:\n",
    "        none_columns.append(x)\n",
    "print(none_columns)"
   ]
  },
  {
   "cell_type": "code",
   "execution_count": 6,
   "metadata": {},
   "outputs": [
    {
     "name": "stdout",
     "output_type": "stream",
     "text": [
      "{'espn_id': 0, 'selection_number': 400, 'position_rank': 400, 'position_group_rank': 400, 'section_rank': 400, 'drafting_team': 'No Team', 'home_city': 'No City', 'home_state': 'No State', 'home_country': 'USA', 'forty': 4.511931385006354, 'vertical': 35.26238390092879, 'bench': 14.531806615776082, 'broad': 120.43402225755167, 'threecone': 6.97023622047244, 'shuttle': 4.220076628352491, 'max_madden': 44.0, 'forty_zscore': -3.7739118621057414e-15, 'vertical_zscore': 1.0559149014391581e-15, 'bench_zscore': -1.8079967831045805e-16, 'broad_zscore': -9.376001123702435e-16, 'threecone_zscore': 3.622648987438306e-15, 'shuttle_zscore': -1.354387015481417e-15, 'max_madden_zscore': -3.2928803580187678}\n"
     ]
    }
   ],
   "source": [
    "#Deal with None Values\n",
    "none_dict = {'espn_id': 0,    \n",
    "    'selection_number': 400,\n",
    "    'position_rank': 400,\n",
    "    'position_group_rank': 400,\n",
    "    'section_rank': 400,\n",
    "    'drafting_team': 'No Team',\n",
    "    'home_city': 'No City',\n",
    "    'home_state': 'No State',\n",
    "    'home_country': 'USA',\n",
    "    'forty': dataset['forty'].mean(),\n",
    "    'vertical': dataset['vertical'].mean(), \n",
    "    'bench': dataset['bench'].mean(), \n",
    "    'broad': dataset['broad'].mean(),\n",
    "    'threecone': dataset['threecone'].mean(),\n",
    "    'shuttle': dataset['shuttle'].mean(),\n",
    "    'max_madden': dataset['max_madden'].min() - 10,\n",
    "    'forty_zscore': dataset['forty_zscore'].mean(), \n",
    "    'vertical_zscore': dataset['vertical_zscore'].mean(), \n",
    "    'bench_zscore': dataset['bench_zscore'].mean(), \n",
    "    'broad_zscore': dataset['broad_zscore'].mean(), \n",
    "    'threecone_zscore': dataset['threecone_zscore'].mean(), \n",
    "    'shuttle_zscore': dataset['shuttle_zscore'].mean(), \n",
    "    'max_madden_zscore': dataset['max_madden_zscore'].min() - 1}\n",
    "\n",
    "print(none_dict)\n",
    "\n",
    "for none_col in none_columns:\n",
    "    dataset[none_col] = dataset[none_col].fillna(none_dict[none_col])\n",
    "   \n",
    "\n",
    "#https://jakevdp.github.io/PythonDataScienceHandbook/03.04-missing-values.html"
   ]
  },
  {
   "cell_type": "code",
   "execution_count": 7,
   "metadata": {},
   "outputs": [
    {
     "data": {
      "text/html": [
       "<div>\n",
       "<style scoped>\n",
       "    .dataframe tbody tr th:only-of-type {\n",
       "        vertical-align: middle;\n",
       "    }\n",
       "\n",
       "    .dataframe tbody tr th {\n",
       "        vertical-align: top;\n",
       "    }\n",
       "\n",
       "    .dataframe thead th {\n",
       "        text-align: right;\n",
       "    }\n",
       "</style>\n",
       "<table border=\"1\" class=\"dataframe\">\n",
       "  <thead>\n",
       "    <tr style=\"text-align: right;\">\n",
       "      <th></th>\n",
       "      <th>espn_id</th>\n",
       "      <th>full_name</th>\n",
       "      <th>first_name</th>\n",
       "      <th>last_name</th>\n",
       "      <th>position</th>\n",
       "      <th>position_group</th>\n",
       "      <th>section</th>\n",
       "      <th>college</th>\n",
       "      <th>draft_year</th>\n",
       "      <th>selection_number</th>\n",
       "      <th>...</th>\n",
       "      <th>receiving_rec_yards_zscore</th>\n",
       "      <th>receiving_receptions_zscore</th>\n",
       "      <th>receiving_rush_att_zscore</th>\n",
       "      <th>receiving_rush_td_zscore</th>\n",
       "      <th>receiving_rush_yds_zscore</th>\n",
       "      <th>receiving_scrim_plays_zscore</th>\n",
       "      <th>receiving_scrim_tds_zscore</th>\n",
       "      <th>receiving_scrim_yds_zscore</th>\n",
       "      <th>receiving_seasons_zscore</th>\n",
       "      <th>max_madden_zscore</th>\n",
       "    </tr>\n",
       "    <tr>\n",
       "      <th>fms_id</th>\n",
       "      <th></th>\n",
       "      <th></th>\n",
       "      <th></th>\n",
       "      <th></th>\n",
       "      <th></th>\n",
       "      <th></th>\n",
       "      <th></th>\n",
       "      <th></th>\n",
       "      <th></th>\n",
       "      <th></th>\n",
       "      <th></th>\n",
       "      <th></th>\n",
       "      <th></th>\n",
       "      <th></th>\n",
       "      <th></th>\n",
       "      <th></th>\n",
       "      <th></th>\n",
       "      <th></th>\n",
       "      <th></th>\n",
       "      <th></th>\n",
       "      <th></th>\n",
       "    </tr>\n",
       "  </thead>\n",
       "  <tbody>\n",
       "    <tr>\n",
       "      <th>2</th>\n",
       "      <td>4047646.0</td>\n",
       "      <td>A.J. Brown</td>\n",
       "      <td>A.J.</td>\n",
       "      <td>Brown</td>\n",
       "      <td>WR</td>\n",
       "      <td>WR</td>\n",
       "      <td>O</td>\n",
       "      <td>Ole Miss</td>\n",
       "      <td>2019</td>\n",
       "      <td>400.0</td>\n",
       "      <td>...</td>\n",
       "      <td>1.020082</td>\n",
       "      <td>0.745111</td>\n",
       "      <td>-0.597165</td>\n",
       "      <td>-0.440830</td>\n",
       "      <td>-0.564573</td>\n",
       "      <td>0.523967</td>\n",
       "      <td>0.277925</td>\n",
       "      <td>0.911099</td>\n",
       "      <td>-0.273056</td>\n",
       "      <td>-0.215460</td>\n",
       "    </tr>\n",
       "    <tr>\n",
       "      <th>216</th>\n",
       "      <td>3914328.0</td>\n",
       "      <td>Andy Isabella</td>\n",
       "      <td>Andy</td>\n",
       "      <td>Isabella</td>\n",
       "      <td>WR</td>\n",
       "      <td>WR</td>\n",
       "      <td>O</td>\n",
       "      <td>UMass</td>\n",
       "      <td>2019</td>\n",
       "      <td>400.0</td>\n",
       "      <td>...</td>\n",
       "      <td>1.596537</td>\n",
       "      <td>1.364694</td>\n",
       "      <td>1.560318</td>\n",
       "      <td>1.048808</td>\n",
       "      <td>2.030272</td>\n",
       "      <td>1.613414</td>\n",
       "      <td>1.681258</td>\n",
       "      <td>1.821476</td>\n",
       "      <td>0.634520</td>\n",
       "      <td>-0.215460</td>\n",
       "    </tr>\n",
       "    <tr>\n",
       "      <th>248</th>\n",
       "      <td>4049301.0</td>\n",
       "      <td>Anthony Johnson</td>\n",
       "      <td>Anthony</td>\n",
       "      <td>Johnson</td>\n",
       "      <td>WR</td>\n",
       "      <td>WR</td>\n",
       "      <td>O</td>\n",
       "      <td>Buffalo</td>\n",
       "      <td>2019</td>\n",
       "      <td>400.0</td>\n",
       "      <td>...</td>\n",
       "      <td>0.363859</td>\n",
       "      <td>-0.080999</td>\n",
       "      <td>-0.381417</td>\n",
       "      <td>-0.440830</td>\n",
       "      <td>-0.602509</td>\n",
       "      <td>-0.166902</td>\n",
       "      <td>0.925617</td>\n",
       "      <td>0.270539</td>\n",
       "      <td>-1.180632</td>\n",
       "      <td>-1.023346</td>\n",
       "    </tr>\n",
       "    <tr>\n",
       "      <th>275</th>\n",
       "      <td>4043161.0</td>\n",
       "      <td>Antoine Wesley</td>\n",
       "      <td>Antoine</td>\n",
       "      <td>Wesley</td>\n",
       "      <td>WR</td>\n",
       "      <td>WR</td>\n",
       "      <td>O</td>\n",
       "      <td>Texas Tech</td>\n",
       "      <td>2019</td>\n",
       "      <td>400.0</td>\n",
       "      <td>...</td>\n",
       "      <td>-0.508269</td>\n",
       "      <td>-0.597318</td>\n",
       "      <td>-0.543228</td>\n",
       "      <td>-0.440830</td>\n",
       "      <td>-0.579748</td>\n",
       "      <td>-0.671767</td>\n",
       "      <td>-0.801563</td>\n",
       "      <td>-0.570839</td>\n",
       "      <td>-0.273056</td>\n",
       "      <td>-3.292880</td>\n",
       "    </tr>\n",
       "    <tr>\n",
       "      <th>434</th>\n",
       "      <td>3917067.0</td>\n",
       "      <td>Bisi Johnson</td>\n",
       "      <td>Bisi</td>\n",
       "      <td>Johnson</td>\n",
       "      <td>WR</td>\n",
       "      <td>WR</td>\n",
       "      <td>O</td>\n",
       "      <td>Colorado State</td>\n",
       "      <td>2019</td>\n",
       "      <td>400.0</td>\n",
       "      <td>...</td>\n",
       "      <td>-0.006263</td>\n",
       "      <td>-0.199015</td>\n",
       "      <td>-0.543228</td>\n",
       "      <td>-0.440830</td>\n",
       "      <td>-0.465939</td>\n",
       "      <td>-0.313047</td>\n",
       "      <td>-0.585665</td>\n",
       "      <td>-0.069308</td>\n",
       "      <td>0.634520</td>\n",
       "      <td>-3.292880</td>\n",
       "    </tr>\n",
       "  </tbody>\n",
       "</table>\n",
       "<p>5 rows × 59 columns</p>\n",
       "</div>"
      ],
      "text/plain": [
       "          espn_id        full_name first_name last_name position  \\\n",
       "fms_id                                                             \n",
       "2       4047646.0       A.J. Brown       A.J.     Brown       WR   \n",
       "216     3914328.0    Andy Isabella       Andy  Isabella       WR   \n",
       "248     4049301.0  Anthony Johnson    Anthony   Johnson       WR   \n",
       "275     4043161.0   Antoine Wesley    Antoine    Wesley       WR   \n",
       "434     3917067.0     Bisi Johnson       Bisi   Johnson       WR   \n",
       "\n",
       "       position_group section         college  draft_year  selection_number  \\\n",
       "fms_id                                                                        \n",
       "2                  WR       O        Ole Miss        2019             400.0   \n",
       "216                WR       O           UMass        2019             400.0   \n",
       "248                WR       O         Buffalo        2019             400.0   \n",
       "275                WR       O      Texas Tech        2019             400.0   \n",
       "434                WR       O  Colorado State        2019             400.0   \n",
       "\n",
       "        ...  receiving_rec_yards_zscore  receiving_receptions_zscore  \\\n",
       "fms_id  ...                                                            \n",
       "2       ...                    1.020082                     0.745111   \n",
       "216     ...                    1.596537                     1.364694   \n",
       "248     ...                    0.363859                    -0.080999   \n",
       "275     ...                   -0.508269                    -0.597318   \n",
       "434     ...                   -0.006263                    -0.199015   \n",
       "\n",
       "        receiving_rush_att_zscore receiving_rush_td_zscore  \\\n",
       "fms_id                                                       \n",
       "2                       -0.597165                -0.440830   \n",
       "216                      1.560318                 1.048808   \n",
       "248                     -0.381417                -0.440830   \n",
       "275                     -0.543228                -0.440830   \n",
       "434                     -0.543228                -0.440830   \n",
       "\n",
       "       receiving_rush_yds_zscore receiving_scrim_plays_zscore  \\\n",
       "fms_id                                                          \n",
       "2                      -0.564573                     0.523967   \n",
       "216                     2.030272                     1.613414   \n",
       "248                    -0.602509                    -0.166902   \n",
       "275                    -0.579748                    -0.671767   \n",
       "434                    -0.465939                    -0.313047   \n",
       "\n",
       "       receiving_scrim_tds_zscore  receiving_scrim_yds_zscore  \\\n",
       "fms_id                                                          \n",
       "2                        0.277925                    0.911099   \n",
       "216                      1.681258                    1.821476   \n",
       "248                      0.925617                    0.270539   \n",
       "275                     -0.801563                   -0.570839   \n",
       "434                     -0.585665                   -0.069308   \n",
       "\n",
       "        receiving_seasons_zscore  max_madden_zscore  \n",
       "fms_id                                               \n",
       "2                      -0.273056          -0.215460  \n",
       "216                     0.634520          -0.215460  \n",
       "248                    -1.180632          -1.023346  \n",
       "275                    -0.273056          -3.292880  \n",
       "434                     0.634520          -3.292880  \n",
       "\n",
       "[5 rows x 59 columns]"
      ]
     },
     "execution_count": 7,
     "metadata": {},
     "output_type": "execute_result"
    }
   ],
   "source": [
    "dataset.head()"
   ]
  },
  {
   "cell_type": "code",
   "execution_count": 9,
   "metadata": {},
   "outputs": [],
   "source": [
    "#create categories for grades\n",
    "def f(row):\n",
    "    if row['max_madden'] > 90 : val = 90\n",
    "    elif row['max_madden'] < 90 and row['max_madden'] >= 80 : val = 80\n",
    "    elif row['max_madden'] < 80 and row['max_madden'] >= 70 : val = 70  \n",
    "    elif row['max_madden'] < 70 and row['max_madden'] >= 60 : val = 60\n",
    "    elif row['max_madden'] < 60 and row['max_madden'] >= 50 : val = 50\n",
    "    else: val = 0\n",
    "    return val\n",
    "dataset['madden_cat'] = dataset.apply(f, axis=1)\n",
    "\n"
   ]
  },
  {
   "cell_type": "code",
   "execution_count": 10,
   "metadata": {},
   "outputs": [],
   "source": [
    "stats_list = ['receiving_rec_td', 'receiving_rec_yards',\n",
    "       'receiving_receptions', 'receiving_rush_att', 'receiving_rush_td',\n",
    "       'receiving_rush_yds', 'receiving_scrim_plays', 'receiving_scrim_tds',\n",
    "       'receiving_scrim_yds']\n",
    "\n",
    "\n",
    "def game_avg(row):\n",
    "    #print(row)\n",
    "    if row['receiving_games'] == 0:\n",
    "        pass\n",
    "    else:\n",
    "        for stat in stats_list:\n",
    "            row[stat] = row[stat]/row['receiving_games']\n",
    "    return row\n",
    "             \n",
    "\n",
    "dataset = dataset.apply(game_avg, axis=1)"
   ]
  },
  {
   "cell_type": "code",
   "execution_count": 11,
   "metadata": {},
   "outputs": [
    {
     "data": {
      "text/plain": [
       "Index(['espn_id', 'full_name', 'first_name', 'last_name', 'position',\n",
       "       'position_group', 'section', 'college', 'draft_year',\n",
       "       'selection_number', 'position_rank', 'position_group_rank',\n",
       "       'section_rank', 'drafting_team', 'home_city', 'home_state',\n",
       "       'home_country', 'college_weight_pounds', 'college_height_inches',\n",
       "       'hw_ratio', 'forty', 'vertical', 'bench', 'broad', 'threecone',\n",
       "       'shuttle', 'receiving_games', 'receiving_rec_td', 'receiving_rec_yards',\n",
       "       'receiving_receptions', 'receiving_rush_att', 'receiving_rush_td',\n",
       "       'receiving_rush_yds', 'receiving_scrim_plays', 'receiving_scrim_tds',\n",
       "       'receiving_scrim_yds', 'receiving_seasons', 'max_madden',\n",
       "       'college_weight_pounds_zscore', 'college_height_inches_zscore',\n",
       "       'hw_ratio_zscore', 'forty_zscore', 'vertical_zscore', 'bench_zscore',\n",
       "       'broad_zscore', 'threecone_zscore', 'shuttle_zscore',\n",
       "       'receiving_games_zscore', 'receiving_rec_td_zscore',\n",
       "       'receiving_rec_yards_zscore', 'receiving_receptions_zscore',\n",
       "       'receiving_rush_att_zscore', 'receiving_rush_td_zscore',\n",
       "       'receiving_rush_yds_zscore', 'receiving_scrim_plays_zscore',\n",
       "       'receiving_scrim_tds_zscore', 'receiving_scrim_yds_zscore',\n",
       "       'receiving_seasons_zscore', 'max_madden_zscore', 'madden_cat'],\n",
       "      dtype='object')"
      ]
     },
     "execution_count": 11,
     "metadata": {},
     "output_type": "execute_result"
    }
   ],
   "source": [
    "dataset.columns"
   ]
  },
  {
   "cell_type": "code",
   "execution_count": null,
   "metadata": {},
   "outputs": [],
   "source": []
  },
  {
   "cell_type": "code",
   "execution_count": 12,
   "metadata": {},
   "outputs": [],
   "source": [
    "\n",
    "#Total Features\n",
    "\"\"\"['espn_id', 'full_name', 'first_name', 'last_name', 'position',\n",
    "       'position_group', 'section', 'college', 'draft_year',\n",
    "       'selection_number', 'position_rank', 'position_group_rank',\n",
    "       'section_rank', 'drafting_team', 'home_city', 'home_state',\n",
    "       'home_country', 'college_weight_pounds', 'college_height_inches',\n",
    "       'hw_ratio', 'forty', 'vertical', 'bench', 'broad', 'threecone',\n",
    "       'shuttle', 'receiving_games', 'receiving_rec_td', 'receiving_rec_yards',\n",
    "       'receiving_receptions', 'receiving_rush_att', 'receiving_rush_td',\n",
    "       'receiving_rush_yds', 'receiving_scrim_plays', 'receiving_scrim_tds',\n",
    "       'receiving_scrim_yds', 'receiving_seasons', 'max_madden',\n",
    "       'college_weight_pounds_zscore', 'college_height_inches_zscore',\n",
    "       'hw_ratio_zscore', 'forty_zscore', 'vertical_zscore', 'bench_zscore',\n",
    "       'broad_zscore', 'threecone_zscore', 'shuttle_zscore',\n",
    "       'receiving_games_zscore', 'receiving_rec_td_zscore',\n",
    "       'receiving_rec_yards_zscore', 'receiving_receptions_zscore',\n",
    "       'receiving_rush_att_zscore', 'receiving_rush_td_zscore',\n",
    "       'receiving_rush_yds_zscore', 'receiving_scrim_plays_zscore',\n",
    "       'receiving_scrim_tds_zscore', 'receiving_scrim_yds_zscore',\n",
    "       'receiving_seasons_zscore', 'max_madden_zscore', 'madden_cat'']\"\"\"\n",
    "\n",
    "\n",
    "features = ['hw_ratio', 'forty', 'vertical', 'bench', 'broad', 'threecone',\n",
    "       'shuttle', 'receiving_games', 'receiving_rec_td', 'receiving_rec_yards',\n",
    "       'receiving_receptions', 'receiving_rush_att', 'receiving_rush_td',\n",
    "       'receiving_rush_yds', 'receiving_scrim_plays', 'receiving_scrim_tds',\n",
    "       'receiving_scrim_yds', 'receiving_seasons', 'madden_cat']\n",
    "\n",
    "z_features = ['hw_ratio_zscore', 'forty_zscore', 'vertical_zscore', 'bench_zscore',\n",
    "       'broad_zscore', 'threecone_zscore', 'shuttle_zscore',\n",
    "       'rushing_games_zscore', 'rushing_rec_td_zscore',\n",
    "       'rushing_rec_yards_zscore', 'rushing_receptions_zscore',\n",
    "       'rushing_rush_att_zscore', 'rushing_rush_td_zscore',\n",
    "       'rushing_rush_yds_zscore', 'rushing_scrim_plays_zscore',\n",
    "       'rushing_scrim_tds_zscore', 'rushing_scrim_yds_zscore',\n",
    "       'rushing_seasons_zscore', 'madden_cat']\n",
    "\n",
    "#limit_features = ['rushing_rush_yds_zscore', 'rushing_scrim_yds_zscore', 'broad_zscore', 'rushing_receptions_zscore', \n",
    "#'rushing_rush_att_zscore', 'rushing_scrim_plays_zscore', 'rushing_seasons_zscore', 'vertical_zscore', 'max_madden']"
   ]
  },
  {
   "cell_type": "code",
   "execution_count": 13,
   "metadata": {},
   "outputs": [],
   "source": [
    "#create the dataset with the features we want to feed the model\n",
    "bl_data = dataset[features].copy()\n",
    "bl_data = shuffle(bl_data)\n",
    "value_data, label_data = bl_data[:].drop(['madden_cat'], axis =1), bl_data.pop('madden_cat')"
   ]
  },
  {
   "cell_type": "code",
   "execution_count": 14,
   "metadata": {},
   "outputs": [
    {
     "data": {
      "text/html": [
       "<div>\n",
       "<style scoped>\n",
       "    .dataframe tbody tr th:only-of-type {\n",
       "        vertical-align: middle;\n",
       "    }\n",
       "\n",
       "    .dataframe tbody tr th {\n",
       "        vertical-align: top;\n",
       "    }\n",
       "\n",
       "    .dataframe thead th {\n",
       "        text-align: right;\n",
       "    }\n",
       "</style>\n",
       "<table border=\"1\" class=\"dataframe\">\n",
       "  <thead>\n",
       "    <tr style=\"text-align: right;\">\n",
       "      <th></th>\n",
       "      <th>hw_ratio</th>\n",
       "      <th>forty</th>\n",
       "      <th>vertical</th>\n",
       "      <th>bench</th>\n",
       "      <th>broad</th>\n",
       "      <th>threecone</th>\n",
       "      <th>shuttle</th>\n",
       "      <th>receiving_games</th>\n",
       "      <th>receiving_rec_td</th>\n",
       "      <th>receiving_rec_yards</th>\n",
       "      <th>receiving_receptions</th>\n",
       "      <th>receiving_rush_att</th>\n",
       "      <th>receiving_rush_td</th>\n",
       "      <th>receiving_rush_yds</th>\n",
       "      <th>receiving_scrim_plays</th>\n",
       "      <th>receiving_scrim_tds</th>\n",
       "      <th>receiving_scrim_yds</th>\n",
       "      <th>receiving_seasons</th>\n",
       "    </tr>\n",
       "    <tr>\n",
       "      <th>fms_id</th>\n",
       "      <th></th>\n",
       "      <th></th>\n",
       "      <th></th>\n",
       "      <th></th>\n",
       "      <th></th>\n",
       "      <th></th>\n",
       "      <th></th>\n",
       "      <th></th>\n",
       "      <th></th>\n",
       "      <th></th>\n",
       "      <th></th>\n",
       "      <th></th>\n",
       "      <th></th>\n",
       "      <th></th>\n",
       "      <th></th>\n",
       "      <th></th>\n",
       "      <th></th>\n",
       "      <th></th>\n",
       "    </tr>\n",
       "  </thead>\n",
       "  <tbody>\n",
       "    <tr>\n",
       "      <th>4051</th>\n",
       "      <td>-0.613433</td>\n",
       "      <td>1.712545e+00</td>\n",
       "      <td>-1.144615</td>\n",
       "      <td>1.229104e-15</td>\n",
       "      <td>-2.242688</td>\n",
       "      <td>1.786428e+00</td>\n",
       "      <td>8.132607e-02</td>\n",
       "      <td>-0.940089</td>\n",
       "      <td>0.093230</td>\n",
       "      <td>1.120901</td>\n",
       "      <td>1.466724</td>\n",
       "      <td>2.053413</td>\n",
       "      <td>0.717396</td>\n",
       "      <td>2.304078</td>\n",
       "      <td>1.848743</td>\n",
       "      <td>0.192845</td>\n",
       "      <td>1.408463</td>\n",
       "      <td>-1.180632</td>\n",
       "    </tr>\n",
       "    <tr>\n",
       "      <th>4878</th>\n",
       "      <td>-0.279889</td>\n",
       "      <td>9.050145e-15</td>\n",
       "      <td>-1.144615</td>\n",
       "      <td>-8.759090e-01</td>\n",
       "      <td>-0.673555</td>\n",
       "      <td>-1.058611e-14</td>\n",
       "      <td>2.452342e-01</td>\n",
       "      <td>-0.707929</td>\n",
       "      <td>0.925244</td>\n",
       "      <td>0.871187</td>\n",
       "      <td>0.899447</td>\n",
       "      <td>-0.542878</td>\n",
       "      <td>-0.431629</td>\n",
       "      <td>-0.418777</td>\n",
       "      <td>0.683934</td>\n",
       "      <td>0.851188</td>\n",
       "      <td>0.790560</td>\n",
       "      <td>-0.273056</td>\n",
       "    </tr>\n",
       "    <tr>\n",
       "      <th>296</th>\n",
       "      <td>-1.262604</td>\n",
       "      <td>-7.329490e-01</td>\n",
       "      <td>0.000000</td>\n",
       "      <td>1.229104e-15</td>\n",
       "      <td>0.000000</td>\n",
       "      <td>-1.058611e-14</td>\n",
       "      <td>7.278983e-15</td>\n",
       "      <td>0.762415</td>\n",
       "      <td>0.121155</td>\n",
       "      <td>-0.114115</td>\n",
       "      <td>-0.249033</td>\n",
       "      <td>0.231502</td>\n",
       "      <td>-0.431629</td>\n",
       "      <td>0.265244</td>\n",
       "      <td>-0.169098</td>\n",
       "      <td>0.058670</td>\n",
       "      <td>-0.074595</td>\n",
       "      <td>0.634520</td>\n",
       "    </tr>\n",
       "    <tr>\n",
       "      <th>3887</th>\n",
       "      <td>0.089199</td>\n",
       "      <td>-1.215755e-01</td>\n",
       "      <td>0.000000</td>\n",
       "      <td>1.229104e-15</td>\n",
       "      <td>0.000000</td>\n",
       "      <td>-1.058611e-14</td>\n",
       "      <td>7.278983e-15</td>\n",
       "      <td>0.220709</td>\n",
       "      <td>-0.378439</td>\n",
       "      <td>-0.119041</td>\n",
       "      <td>-0.198015</td>\n",
       "      <td>-0.232279</td>\n",
       "      <td>-0.431629</td>\n",
       "      <td>-0.547072</td>\n",
       "      <td>-0.238372</td>\n",
       "      <td>-0.433735</td>\n",
       "      <td>-0.191200</td>\n",
       "      <td>0.634520</td>\n",
       "    </tr>\n",
       "    <tr>\n",
       "      <th>2725</th>\n",
       "      <td>1.211647</td>\n",
       "      <td>8.221562e-02</td>\n",
       "      <td>0.609647</td>\n",
       "      <td>1.229104e-15</td>\n",
       "      <td>0.699437</td>\n",
       "      <td>-8.357311e-01</td>\n",
       "      <td>-7.382146e-01</td>\n",
       "      <td>0.065936</td>\n",
       "      <td>1.526588</td>\n",
       "      <td>0.868620</td>\n",
       "      <td>0.437817</td>\n",
       "      <td>-0.622519</td>\n",
       "      <td>-0.431629</td>\n",
       "      <td>-0.569712</td>\n",
       "      <td>0.243495</td>\n",
       "      <td>1.443879</td>\n",
       "      <td>0.767286</td>\n",
       "      <td>-0.273056</td>\n",
       "    </tr>\n",
       "  </tbody>\n",
       "</table>\n",
       "</div>"
      ],
      "text/plain": [
       "        hw_ratio         forty  vertical         bench     broad  \\\n",
       "fms_id                                                             \n",
       "4051   -0.613433  1.712545e+00 -1.144615  1.229104e-15 -2.242688   \n",
       "4878   -0.279889  9.050145e-15 -1.144615 -8.759090e-01 -0.673555   \n",
       "296    -1.262604 -7.329490e-01  0.000000  1.229104e-15  0.000000   \n",
       "3887    0.089199 -1.215755e-01  0.000000  1.229104e-15  0.000000   \n",
       "2725    1.211647  8.221562e-02  0.609647  1.229104e-15  0.699437   \n",
       "\n",
       "           threecone       shuttle  receiving_games  receiving_rec_td  \\\n",
       "fms_id                                                                  \n",
       "4051    1.786428e+00  8.132607e-02        -0.940089          0.093230   \n",
       "4878   -1.058611e-14  2.452342e-01        -0.707929          0.925244   \n",
       "296    -1.058611e-14  7.278983e-15         0.762415          0.121155   \n",
       "3887   -1.058611e-14  7.278983e-15         0.220709         -0.378439   \n",
       "2725   -8.357311e-01 -7.382146e-01         0.065936          1.526588   \n",
       "\n",
       "        receiving_rec_yards  receiving_receptions  receiving_rush_att  \\\n",
       "fms_id                                                                  \n",
       "4051               1.120901              1.466724            2.053413   \n",
       "4878               0.871187              0.899447           -0.542878   \n",
       "296               -0.114115             -0.249033            0.231502   \n",
       "3887              -0.119041             -0.198015           -0.232279   \n",
       "2725               0.868620              0.437817           -0.622519   \n",
       "\n",
       "        receiving_rush_td  receiving_rush_yds  receiving_scrim_plays  \\\n",
       "fms_id                                                                 \n",
       "4051             0.717396            2.304078               1.848743   \n",
       "4878            -0.431629           -0.418777               0.683934   \n",
       "296             -0.431629            0.265244              -0.169098   \n",
       "3887            -0.431629           -0.547072              -0.238372   \n",
       "2725            -0.431629           -0.569712               0.243495   \n",
       "\n",
       "        receiving_scrim_tds  receiving_scrim_yds  receiving_seasons  \n",
       "fms_id                                                               \n",
       "4051               0.192845             1.408463          -1.180632  \n",
       "4878               0.851188             0.790560          -0.273056  \n",
       "296                0.058670            -0.074595           0.634520  \n",
       "3887              -0.433735            -0.191200           0.634520  \n",
       "2725               1.443879             0.767286          -0.273056  "
      ]
     },
     "execution_count": 14,
     "metadata": {},
     "output_type": "execute_result"
    }
   ],
   "source": [
    "#feature Engineering\n",
    "#Z_score transformations\n",
    "\n",
    "value_cols = value_data.columns\n",
    "for col in value_cols:\n",
    "    value_data[col] = stats.zscore(value_data[col].values)\n",
    "\n",
    "    \n",
    "value_data.head()\n",
    "\n"
   ]
  },
  {
   "cell_type": "code",
   "execution_count": 16,
   "metadata": {},
   "outputs": [
    {
     "name": "stdout",
     "output_type": "stream",
     "text": [
      "60\n"
     ]
    },
    {
     "data": {
      "text/plain": [
       "68.0"
      ]
     },
     "execution_count": 16,
     "metadata": {},
     "output_type": "execute_result"
    }
   ],
   "source": [
    "#quick check that the original dataset and copied dataset have the same score\n",
    "print(label_data[296])\n",
    "dataset['max_madden'][296]"
   ]
  },
  {
   "cell_type": "code",
   "execution_count": 17,
   "metadata": {},
   "outputs": [
    {
     "data": {
      "image/png": "[encoded data removed]",
      "text/plain": [
       "<Figure size 432x288 with 20 Axes>"
      ]
     },
     "metadata": {
      "needs_background": "light"
     },
     "output_type": "display_data"
    }
   ],
   "source": [
    "# histograms for some interesting measurements\n",
    "value_data.hist()\n",
    "pyplot.show()"
   ]
  },
  {
   "cell_type": "code",
   "execution_count": 18,
   "metadata": {},
   "outputs": [],
   "source": [
    "X_train, X_validation, Y_train, Y_validation = train_test_split(value_data, label_data, test_size=0.20, random_state=1)"
   ]
  },
  {
   "cell_type": "code",
   "execution_count": 19,
   "metadata": {},
   "outputs": [
    {
     "data": {
      "text/plain": [
       "array([[ 3.04166845e-01,  8.97380209e-01,  2.58794430e-01, ...,\n",
       "        -6.05100231e-01, -4.74640809e-01,  6.34519619e-01],\n",
       "       [ 9.78082877e-01, -9.36740126e-01,  2.58794430e-01, ...,\n",
       "         1.92742601e+00,  3.07309480e+00, -1.18063174e+00],\n",
       "       [-6.73894811e-01, -3.25366681e-01,  6.09646899e-01, ...,\n",
       "         9.47436884e-01,  6.11500694e-01,  6.34519619e-01],\n",
       "       ...,\n",
       "       [ 5.34111137e-01, -8.34844552e-01,  0.00000000e+00, ...,\n",
       "        -5.43397632e-01, -6.34190069e-01,  6.34519619e-01],\n",
       "       [ 9.29729123e-01,  8.97380209e-01, -9.69189212e-01, ...,\n",
       "         4.35392568e-01,  8.73303292e-01,  6.34519619e-01],\n",
       "       [-7.25054959e-01, -1.65000914e+00,  7.85073133e-01, ...,\n",
       "        -1.92757801e-03, -1.09981579e+00,  6.34519619e-01]])"
      ]
     },
     "execution_count": 19,
     "metadata": {},
     "output_type": "execute_result"
    }
   ],
   "source": [
    "X_train.values"
   ]
  },
  {
   "cell_type": "code",
   "execution_count": 20,
   "metadata": {},
   "outputs": [
    {
     "name": "stdout",
     "output_type": "stream",
     "text": [
      "Accuracy:  0.5521472392638037\n",
      "R2 : -0.6616210906755491\n"
     ]
    },
    {
     "name": "stderr",
     "output_type": "stream",
     "text": [
      "C:\\Users\\jonat\\Anaconda3\\envs\\tf-gpu2.0\\lib\\site-packages\\sklearn\\linear_model\\logistic.py:432: FutureWarning: Default solver will be changed to 'lbfgs' in 0.22. Specify a solver to silence this warning.\n",
      "  FutureWarning)\n",
      "C:\\Users\\jonat\\Anaconda3\\envs\\tf-gpu2.0\\lib\\site-packages\\sklearn\\linear_model\\logistic.py:469: FutureWarning: Default multi_class will be changed to 'auto' in 0.22. Specify the multi_class option to silence this warning.\n",
      "  \"this warning.\", FutureWarning)\n"
     ]
    }
   ],
   "source": [
    "#Logistic Regression:\n",
    "clf = LogisticRegression(random_state=0).fit(X_train, Y_train)\n",
    "madden_predict = clf.predict(X_validation)\n",
    "print('Accuracy:  ' + str(accuracy_score(Y_validation, madden_predict)))\n",
    "print('R2 : ' + str(r2_score(Y_validation, madden_predict)))"
   ]
  },
  {
   "cell_type": "code",
   "execution_count": 21,
   "metadata": {},
   "outputs": [],
   "source": [
    "# Plot feature importance\n",
    "def plot_feat_import(coef, model_title):\n",
    "    feature_coef = pd.Series(index=X_train.columns, data=coef)\n",
    "    print('{} model picked {} out of {} features'.format(model_title, str(sum(feature_coef != 0)), str(X_train.shape[1])))\n",
    "    top_bottom_10 = pd.concat([feature_coef.sort_values().head(10), feature_coef.sort_values().tail(10)])\n",
    "    top_bottom_10.plot(kind='barh', title='Feature importance (Top and bottom 10) - {} model'.format(model_title))\n",
    "    #from W207 project (Fleishman, Hilton, Niu)\n",
    "    \n",
    "# Plot predictions\n",
    "def plot_it(y_train, y_valid, model_title):\n",
    "    plt.scatter(y_train, train_labels, c = \"blue\", alpha=0.6, marker = \"o\", label = \"Training data\")\n",
    "    plt.scatter(y_valid, dev_labels, c = \"green\", alpha=0.6, marker = \"o\", label = \"Validation data\")\n",
    "    plt.title(model_title)\n",
    "    plt.xlabel(\"Predicted values\")\n",
    "    plt.ylabel(\"Real values\")\n",
    "    plt.legend(loc = \"upper left\")\n",
    "    plt.plot([10.5, 13.5], [10.5, 13.5], c = \"red\")\n",
    "    plt.show()"
   ]
  },
  {
   "cell_type": "code",
   "execution_count": 24,
   "metadata": {},
   "outputs": [
    {
     "name": "stdout",
     "output_type": "stream",
     "text": [
      "Lasso Model\n",
      "Accuracy:  0.0\n",
      "R2 : 0.10068222315969744\n",
      "MSE : 1075.153374233129\n",
      "Lasso model picked 14 out of 18 features\n",
      "----------\n"
     ]
    },
    {
     "data": {
      "image/png": "[encoded data removed]",
      "text/plain": [
       "<Figure size 432x288 with 1 Axes>"
      ]
     },
     "metadata": {
      "needs_background": "light"
     },
     "output_type": "display_data"
    }
   ],
   "source": [
    "#Lasso:\n",
    "alpha = 0.1\n",
    "lasso_model = Lasso(alpha=alpha).fit(X_train, Y_train)\n",
    "madden_predict = lasso_model.predict(X_validation)\n",
    "\n",
    "madden_predict = np.around(madden_predict, decimals = 0)\n",
    "\n",
    "print('Lasso Model')\n",
    "print('Accuracy:  ' + str(accuracy_score(Y_validation, madden_predict)))\n",
    "print('R2 : ' + str(r2_score(Y_validation, madden_predict)))\n",
    "print('MSE : ' + str(mean_squared_error(Y_validation, madden_predict)))\n",
    "plot_feat_import(lasso_model.coef_, 'Lasso')  \n",
    "#plot_it()\n",
    "print('----------')\n",
    "\n"
   ]
  },
  {
   "cell_type": "code",
   "execution_count": 25,
   "metadata": {},
   "outputs": [
    {
     "name": "stdout",
     "output_type": "stream",
     "text": [
      "Accuracy:  0.0\n",
      "R2 : 0.10099012082937164\n",
      "MSE : 1074.7852760736196\n",
      "LassoCV Model\n",
      "Lassocv model picked 12 out of 18 features\n",
      "----------\n"
     ]
    },
    {
     "data": {
      "image/png": "[encoded data removed]",
      "text/plain": [
       "<Figure size 432x288 with 1 Axes>"
      ]
     },
     "metadata": {
      "needs_background": "light"
     },
     "output_type": "display_data"
    }
   ],
   "source": [
    "#Lassocv:\n",
    "\n",
    "lasso_modelcv = LassoCV(cv=5, random_state=0).fit(X_train, Y_train)\n",
    "madden_predict = lasso_modelcv.predict(X_validation)\n",
    "madden_predict = np.around(madden_predict, decimals = 0)\n",
    "print('Accuracy:  ' + str(accuracy_score(Y_validation, madden_predict)))\n",
    "print('R2 : ' + str(r2_score(Y_validation, madden_predict)))\n",
    "print('MSE : ' + str(mean_squared_error(Y_validation, madden_predict)))\n",
    "print('LassoCV Model')\n",
    "plot_feat_import(lasso_modelcv.coef_, 'Lassocv') \n",
    "print('----------')\n"
   ]
  },
  {
   "cell_type": "code",
   "execution_count": 26,
   "metadata": {},
   "outputs": [
    {
     "name": "stdout",
     "output_type": "stream",
     "text": [
      "RidgeCV Model\n",
      "Accuracy:  0.0\n",
      "R2 : 0.10040511525699058\n",
      "MSE : 1075.484662576687\n",
      "RidgeCV model picked 18 out of 18 features\n",
      "----------\n",
      "Index(['hw_ratio', 'forty', 'vertical', 'bench', 'broad', 'threecone',\n",
      "       'shuttle', 'receiving_games', 'receiving_rec_td', 'receiving_rec_yards',\n",
      "       'receiving_receptions', 'receiving_rush_att', 'receiving_rush_td',\n",
      "       'receiving_rush_yds', 'receiving_scrim_plays', 'receiving_scrim_tds',\n",
      "       'receiving_scrim_yds', 'receiving_seasons'],\n",
      "      dtype='object')\n",
      "[-4.15095642 -5.16947604 -2.12641817  0.439499    3.62112473 -4.98881263\n",
      "  2.5861046   4.78468576  5.69186642 -4.42634588  3.38309127  0.59734225\n",
      " -0.69073237  2.15423121  3.23120804  5.51275714 -4.01304708 -6.19851348]\n"
     ]
    },
    {
     "name": "stderr",
     "output_type": "stream",
     "text": [
      "C:\\Users\\jonat\\Anaconda3\\envs\\tf-gpu2.0\\lib\\site-packages\\sklearn\\model_selection\\_search.py:813: DeprecationWarning: The default of the `iid` parameter will change from True to False in version 0.22 and will be removed in 0.24. This will change numeric results when test-set sizes are unequal.\n",
      "  DeprecationWarning)\n"
     ]
    },
    {
     "data": {
      "image/png": "[encoded data removed]",
      "text/plain": [
       "<Figure size 432x288 with 1 Axes>"
      ]
     },
     "metadata": {
      "needs_background": "light"
     },
     "output_type": "display_data"
    }
   ],
   "source": [
    "#RidgeCV:\n",
    "\n",
    "ridge_model = RidgeCV(cv=5).fit(X_train, Y_train)\n",
    "madden_predict = ridge_model.predict(X_validation)\n",
    "madden_predict = np.around(madden_predict, decimals = 0)\n",
    "\n",
    "print('RidgeCV Model')\n",
    "print('Accuracy:  ' + str(accuracy_score(Y_validation, madden_predict)))\n",
    "print('R2 : ' + str(r2_score(Y_validation, madden_predict)))\n",
    "print('MSE : ' + str(mean_squared_error(Y_validation, madden_predict)))\n",
    "\n",
    "plot_feat_import(ridge_model.coef_, 'RidgeCV')\n",
    "print('----------')\n",
    "print(X_train.columns)\n",
    "print(ridge_model.coef_)"
   ]
  },
  {
   "cell_type": "code",
   "execution_count": null,
   "metadata": {},
   "outputs": [],
   "source": [
    "['rushing_rush_yds_zscore', 'rushing_scrim_yds_zscore', 'broad_zscore', 'rushing_receptions_zscore', \n",
    "'rushing_rush_att_zscore', 'rushing_scrim_plays_zscore', 'rushing_seasons_zscore', 'vertical_zscore']\n"
   ]
  },
  {
   "cell_type": "code",
   "execution_count": 27,
   "metadata": {},
   "outputs": [
    {
     "name": "stdout",
     "output_type": "stream",
     "text": [
      "ElasticNetCV Model\n",
      "Accuracy:  0.0\n",
      "R2 : 0.10570608680321614\n",
      "MSE : 1069.1472392638036\n",
      "ElasticNetCV model picked 18 out of 18 features\n"
     ]
    },
    {
     "data": {
      "image/png": "[encoded data removed]",
      "text/plain": [
       "<Figure size 432x288 with 1 Axes>"
      ]
     },
     "metadata": {
      "needs_background": "light"
     },
     "output_type": "display_data"
    }
   ],
   "source": [
    "#ElasticNetCV:\n",
    "\n",
    "elasticnetcv_model = ElasticNetCV(cv=5, random_state=0).fit(X_train, Y_train)\n",
    "madden_predict = elasticnetcv_model.predict(X_validation)\n",
    "madden_predict = np.around(madden_predict, decimals = 0)\n",
    "print('ElasticNetCV Model')\n",
    "print('Accuracy:  ' + str(accuracy_score(Y_validation, madden_predict)))\n",
    "print('R2 : ' + str(r2_score(Y_validation, madden_predict)))\n",
    "print('MSE : ' + str(mean_squared_error(Y_validation, madden_predict)))\n",
    "plot_feat_import(elasticnetcv_model.coef_, 'ElasticNetCV')\n"
   ]
  },
  {
   "cell_type": "code",
   "execution_count": 28,
   "metadata": {},
   "outputs": [
    {
     "name": "stdout",
     "output_type": "stream",
     "text": [
      "Accuracy:  0.49693251533742333\n",
      "R2 : -0.560528022465826\n",
      "MSE : 1865.644171779141\n",
      "Decision Tree Regressor model picked 18 out of 18 features\n"
     ]
    },
    {
     "data": {
      "image/png": "[encoded data removed]",
      "text/plain": [
       "<Figure size 432x288 with 1 Axes>"
      ]
     },
     "metadata": {
      "needs_background": "light"
     },
     "output_type": "display_data"
    }
   ],
   "source": [
    "#Decision Tree Regressor\n",
    "from sklearn import tree\n",
    "decisiontreeregrssor = DecisionTreeRegressor()\n",
    "decisiontreeregrssor.fit(X_train, Y_train)\n",
    "madden_predict = decisiontreeregrssor.predict(X_validation)\n",
    "print('Accuracy:  ' + str(accuracy_score(Y_validation, madden_predict)))\n",
    "print('R2 : ' + str(r2_score(Y_validation, madden_predict)))\n",
    "print('MSE : ' + str(mean_squared_error(Y_validation, madden_predict)))\n",
    "plot_feat_import(decisiontreeregrssor.feature_importances_, 'Decision Tree Regressor')"
   ]
  },
  {
   "cell_type": "code",
   "execution_count": 29,
   "metadata": {},
   "outputs": [
    {
     "name": "stdout",
     "output_type": "stream",
     "text": [
      "Accuracy:  0.5398773006134969\n",
      "R2 : -0.1135632386553247\n",
      "MSE : 1331.2883435582821\n",
      "AdaBoostRegressor model picked 18 out of 18 features\n"
     ]
    },
    {
     "data": {
      "image/png": "[encoded data removed]",
      "text/plain": [
       "<Figure size 432x288 with 1 Axes>"
      ]
     },
     "metadata": {
      "needs_background": "light"
     },
     "output_type": "display_data"
    }
   ],
   "source": [
    "#Adaboost\n",
    "adaboostregressor = AdaBoostRegressor(DecisionTreeRegressor(), n_estimators=300)\n",
    "adaboostregressor.fit(X_train, Y_train)\n",
    "madden_predict = adaboostregressor.predict(X_validation)\n",
    "print('Accuracy:  ' + str(accuracy_score(Y_validation, madden_predict)))\n",
    "print('R2 : ' + str(r2_score(Y_validation, madden_predict)))\n",
    "print('MSE : ' + str(mean_squared_error(Y_validation, madden_predict)))\n",
    "plot_feat_import(adaboostregressor.feature_importances_, 'AdaBoostRegressor')\n",
    "\n"
   ]
  },
  {
   "cell_type": "code",
   "execution_count": 30,
   "metadata": {},
   "outputs": [
    {
     "name": "stdout",
     "output_type": "stream",
     "text": [
      "Accuracy:  0.5153374233128835\n",
      "R2 : -0.572330766470007\n",
      "MSE : 1879.7546012269938\n",
      "Decision Tree Classifier model picked 18 out of 18 features\n"
     ]
    },
    {
     "data": {
      "image/png": "[encoded data removed]",
      "text/plain": [
       "<Figure size 432x288 with 1 Axes>"
      ]
     },
     "metadata": {
      "needs_background": "light"
     },
     "output_type": "display_data"
    }
   ],
   "source": [
    "#Decision Tree\n",
    "from sklearn import tree\n",
    "decisiontree = DecisionTreeClassifier(max_depth = 100)\n",
    "decisiontree.fit(X_train, Y_train)\n",
    "madden_predict = decisiontree.predict(X_validation)\n",
    "print('Accuracy:  ' + str(accuracy_score(Y_validation, madden_predict)))\n",
    "print('R2 : ' + str(r2_score(Y_validation, madden_predict)))\n",
    "print('MSE : ' + str(mean_squared_error(Y_validation, madden_predict)))\n",
    "plot_feat_import(decisiontree.feature_importances_, 'Decision Tree Classifier')"
   ]
  },
  {
   "cell_type": "code",
   "execution_count": 31,
   "metadata": {},
   "outputs": [
    {
     "name": "stdout",
     "output_type": "stream",
     "text": [
      "Accuracy:  0.5766871165644172\n",
      "R2 : -0.4014475598007796\n",
      "MSE : 1675.4601226993866\n",
      "Extra Tree Classifier model picked 18 out of 18 features\n"
     ]
    },
    {
     "name": "stderr",
     "output_type": "stream",
     "text": [
      "C:\\Users\\jonat\\Anaconda3\\envs\\tf-gpu2.0\\lib\\site-packages\\sklearn\\ensemble\\forest.py:245: FutureWarning: The default value of n_estimators will change from 10 in version 0.20 to 100 in 0.22.\n",
      "  \"10 in version 0.20 to 100 in 0.22.\", FutureWarning)\n"
     ]
    },
    {
     "data": {
      "image/png": "[encoded data removed]",
      "text/plain": [
       "<Figure size 432x288 with 1 Axes>"
      ]
     },
     "metadata": {
      "needs_background": "light"
     },
     "output_type": "display_data"
    }
   ],
   "source": [
    "#Extra Tree\n",
    "from sklearn import tree\n",
    "extradecisiontree = ExtraTreesClassifier(max_depth = 100)\n",
    "extradecisiontree.fit(X_train, Y_train)\n",
    "madden_predict = extradecisiontree.predict(X_validation)\n",
    "print('Accuracy:  ' + str(accuracy_score(Y_validation, madden_predict)))\n",
    "print('R2 : ' + str(r2_score(Y_validation, madden_predict)))\n",
    "print('MSE : ' + str(mean_squared_error(Y_validation, madden_predict)))\n",
    "plot_feat_import(extradecisiontree.feature_importances_, 'Extra Tree Classifier')"
   ]
  },
  {
   "cell_type": "code",
   "execution_count": 32,
   "metadata": {},
   "outputs": [
    {
     "name": "stdout",
     "output_type": "stream",
     "text": [
      "Accuracy:  0.5337423312883436\n",
      "R2 : -0.5677123014248926\n",
      "MSE : 1874.2331288343557\n",
      "AdaBoostRegressor model picked 18 out of 18 features\n"
     ]
    },
    {
     "data": {
      "image/png": "[encoded data removed]",
      "text/plain": [
       "<Figure size 432x288 with 1 Axes>"
      ]
     },
     "metadata": {
      "needs_background": "light"
     },
     "output_type": "display_data"
    }
   ],
   "source": [
    "#Adaboost\n",
    "adaboostclassifier = AdaBoostClassifier(DecisionTreeClassifier(), n_estimators=500)\n",
    "adaboostclassifier.fit(X_train, Y_train)\n",
    "madden_predict = adaboostclassifier.predict(X_validation)\n",
    "print('Accuracy:  ' + str(accuracy_score(Y_validation, madden_predict)))\n",
    "print('R2 : ' + str(r2_score(Y_validation, madden_predict)))\n",
    "print('MSE : ' + str(mean_squared_error(Y_validation, madden_predict)))\n",
    "plot_feat_import(adaboostclassifier.feature_importances_, 'AdaBoostRegressor')"
   ]
  },
  {
   "cell_type": "code",
   "execution_count": 33,
   "metadata": {},
   "outputs": [
    {
     "name": "stdout",
     "output_type": "stream",
     "text": [
      "Accuracy:  0.5705521472392638\n",
      "R2 : -0.6990819738192535\n",
      "MSE : 2031.2883435582821\n"
     ]
    },
    {
     "ename": "AttributeError",
     "evalue": "'SVC' object has no attribute 'feature_importances_'",
     "output_type": "error",
     "traceback": [
      "\u001b[1;31m---------------------------------------------------------------------------\u001b[0m",
      "\u001b[1;31mAttributeError\u001b[0m                            Traceback (most recent call last)",
      "\u001b[1;32m<ipython-input-33-71c36df37843>\u001b[0m in \u001b[0;36m<module>\u001b[1;34m\u001b[0m\n\u001b[0;32m      6\u001b[0m \u001b[0mprint\u001b[0m\u001b[1;33m(\u001b[0m\u001b[1;34m'R2 : '\u001b[0m \u001b[1;33m+\u001b[0m \u001b[0mstr\u001b[0m\u001b[1;33m(\u001b[0m\u001b[0mr2_score\u001b[0m\u001b[1;33m(\u001b[0m\u001b[0mY_validation\u001b[0m\u001b[1;33m,\u001b[0m \u001b[0mmadden_predict\u001b[0m\u001b[1;33m)\u001b[0m\u001b[1;33m)\u001b[0m\u001b[1;33m)\u001b[0m\u001b[1;33m\u001b[0m\u001b[1;33m\u001b[0m\u001b[0m\n\u001b[0;32m      7\u001b[0m \u001b[0mprint\u001b[0m\u001b[1;33m(\u001b[0m\u001b[1;34m'MSE : '\u001b[0m \u001b[1;33m+\u001b[0m \u001b[0mstr\u001b[0m\u001b[1;33m(\u001b[0m\u001b[0mmean_squared_error\u001b[0m\u001b[1;33m(\u001b[0m\u001b[0mY_validation\u001b[0m\u001b[1;33m,\u001b[0m \u001b[0mmadden_predict\u001b[0m\u001b[1;33m)\u001b[0m\u001b[1;33m)\u001b[0m\u001b[1;33m)\u001b[0m\u001b[1;33m\u001b[0m\u001b[1;33m\u001b[0m\u001b[0m\n\u001b[1;32m----> 8\u001b[1;33m \u001b[0mplot_feat_import\u001b[0m\u001b[1;33m(\u001b[0m\u001b[0msvmclassifier\u001b[0m\u001b[1;33m.\u001b[0m\u001b[0mfeature_importances_\u001b[0m\u001b[1;33m,\u001b[0m \u001b[1;34m'SVC'\u001b[0m\u001b[1;33m)\u001b[0m\u001b[1;33m\u001b[0m\u001b[1;33m\u001b[0m\u001b[0m\n\u001b[0m",
      "\u001b[1;31mAttributeError\u001b[0m: 'SVC' object has no attribute 'feature_importances_'"
     ]
    }
   ],
   "source": [
    "#SVM\n",
    "svmclassifier = SVC(gamma='auto')\n",
    "svmclassifier.fit(X_train, Y_train)\n",
    "madden_predict = svmclassifier.predict(X_validation)\n",
    "print('Accuracy:  ' + str(accuracy_score(Y_validation, madden_predict)))\n",
    "print('R2 : ' + str(r2_score(Y_validation, madden_predict)))\n",
    "print('MSE : ' + str(mean_squared_error(Y_validation, madden_predict)))\n",
    "plot_feat_import(svmclassifier.feature_importances_, 'SVC')"
   ]
  },
  {
   "cell_type": "code",
   "execution_count": 34,
   "metadata": {},
   "outputs": [
    {
     "name": "stdout",
     "output_type": "stream",
     "text": [
      "Accuracy:  0.5337423312883436\n",
      "R2 : -0.6154364402244066\n",
      "MSE : 1931.2883435582821\n",
      "AdaBoostRegressor model picked 18 out of 18 features\n"
     ]
    },
    {
     "name": "stderr",
     "output_type": "stream",
     "text": [
      "C:\\Users\\jonat\\Anaconda3\\envs\\tf-gpu2.0\\lib\\site-packages\\sklearn\\ensemble\\forest.py:245: FutureWarning: The default value of n_estimators will change from 10 in version 0.20 to 100 in 0.22.\n",
      "  \"10 in version 0.20 to 100 in 0.22.\", FutureWarning)\n"
     ]
    },
    {
     "data": {
      "image/png": "[encoded data removed]",
      "text/plain": [
       "<Figure size 432x288 with 1 Axes>"
      ]
     },
     "metadata": {
      "needs_background": "light"
     },
     "output_type": "display_data"
    }
   ],
   "source": [
    "#RandomForest\n",
    "rfclassifier = RandomForestClassifier()\n",
    "rfclassifier.fit(X_train, Y_train)\n",
    "madden_predict = rfclassifier.predict(X_validation)\n",
    "print('Accuracy:  ' + str(accuracy_score(Y_validation, madden_predict)))\n",
    "print('R2 : ' + str(r2_score(Y_validation, madden_predict)))\n",
    "print('MSE : ' + str(mean_squared_error(Y_validation, madden_predict)))\n",
    "plot_feat_import(rfclassifier.feature_importances_, 'AdaBoostRegressor')"
   ]
  },
  {
   "cell_type": "code",
   "execution_count": 46,
   "metadata": {},
   "outputs": [
    {
     "name": "stdout",
     "output_type": "stream",
     "text": [
      "Accuracy:  0.558282208588957\n",
      "R2 : -0.7247401129587772\n",
      "MSE : 2061.963190184049\n"
     ]
    },
    {
     "name": "stderr",
     "output_type": "stream",
     "text": [
      "C:\\Users\\jonat\\Anaconda3\\envs\\tf-gpu2.0\\lib\\site-packages\\sklearn\\linear_model\\logistic.py:432: FutureWarning: Default solver will be changed to 'lbfgs' in 0.22. Specify a solver to silence this warning.\n",
      "  FutureWarning)\n",
      "C:\\Users\\jonat\\Anaconda3\\envs\\tf-gpu2.0\\lib\\site-packages\\sklearn\\linear_model\\logistic.py:469: FutureWarning: Default multi_class will be changed to 'auto' in 0.22. Specify the multi_class option to silence this warning.\n",
      "  \"this warning.\", FutureWarning)\n"
     ]
    }
   ],
   "source": [
    "#PCA with Linear Regression\n",
    "pca = PCA(n_components=5)\n",
    "pca_x = pca.fit_transform(X_train)\n",
    "pca_validation = pca.transform(X_validation)\n",
    "\n",
    "log_pca = LogisticRegression(random_state=0).fit(pca_x, Y_train)\n",
    "madden_predict = log_pca.predict(pca_validation)\n",
    "print('Accuracy:  ' + str(accuracy_score(Y_validation, madden_predict)))\n",
    "print('R2 : ' + str(r2_score(Y_validation, madden_predict)))\n",
    "print('MSE : ' + str(mean_squared_error(Y_validation, madden_predict)))\n",
    "#print(log_pca.coef_.shape)\n",
    "#plot_feat_import(log_pca.coef_, 'PCA with Log Regression')"
   ]
  },
  {
   "cell_type": "code",
   "execution_count": 37,
   "metadata": {},
   "outputs": [
    {
     "name": "stderr",
     "output_type": "stream",
     "text": [
      "C:\\Users\\jonat\\Anaconda3\\envs\\tf-gpu2.0\\lib\\site-packages\\sklearn\\model_selection\\_split.py:657: Warning: The least populated class in y has only 1 members, which is too few. The minimum number of members in any class cannot be less than n_splits=5.\n",
      "  % (min_groups, self.n_splits)), Warning)\n",
      "C:\\Users\\jonat\\Anaconda3\\envs\\tf-gpu2.0\\lib\\site-packages\\sklearn\\model_selection\\_split.py:657: Warning: The least populated class in y has only 1 members, which is too few. The minimum number of members in any class cannot be less than n_splits=5.\n",
      "  % (min_groups, self.n_splits)), Warning)\n"
     ]
    },
    {
     "name": "stdout",
     "output_type": "stream",
     "text": [
      "Accuracy: 0.60 (+/- 0.00) [SVC]\n",
      "Accuracy: 0.58 (+/- 0.01) [Extra Trees]\n",
      "Accuracy: 0.57 (+/- 0.01) [Random Forest]\n"
     ]
    },
    {
     "name": "stderr",
     "output_type": "stream",
     "text": [
      "C:\\Users\\jonat\\Anaconda3\\envs\\tf-gpu2.0\\lib\\site-packages\\sklearn\\model_selection\\_split.py:657: Warning: The least populated class in y has only 1 members, which is too few. The minimum number of members in any class cannot be less than n_splits=5.\n",
      "  % (min_groups, self.n_splits)), Warning)\n",
      "C:\\Users\\jonat\\Anaconda3\\envs\\tf-gpu2.0\\lib\\site-packages\\sklearn\\model_selection\\_split.py:657: Warning: The least populated class in y has only 1 members, which is too few. The minimum number of members in any class cannot be less than n_splits=5.\n",
      "  % (min_groups, self.n_splits)), Warning)\n",
      "C:\\Users\\jonat\\Anaconda3\\envs\\tf-gpu2.0\\lib\\site-packages\\sklearn\\linear_model\\logistic.py:432: FutureWarning: Default solver will be changed to 'lbfgs' in 0.22. Specify a solver to silence this warning.\n",
      "  FutureWarning)\n",
      "C:\\Users\\jonat\\Anaconda3\\envs\\tf-gpu2.0\\lib\\site-packages\\sklearn\\linear_model\\logistic.py:469: FutureWarning: Default multi_class will be changed to 'auto' in 0.22. Specify the multi_class option to silence this warning.\n",
      "  \"this warning.\", FutureWarning)\n",
      "C:\\Users\\jonat\\Anaconda3\\envs\\tf-gpu2.0\\lib\\site-packages\\sklearn\\linear_model\\logistic.py:432: FutureWarning: Default solver will be changed to 'lbfgs' in 0.22. Specify a solver to silence this warning.\n",
      "  FutureWarning)\n",
      "C:\\Users\\jonat\\Anaconda3\\envs\\tf-gpu2.0\\lib\\site-packages\\sklearn\\linear_model\\logistic.py:469: FutureWarning: Default multi_class will be changed to 'auto' in 0.22. Specify the multi_class option to silence this warning.\n",
      "  \"this warning.\", FutureWarning)\n",
      "C:\\Users\\jonat\\Anaconda3\\envs\\tf-gpu2.0\\lib\\site-packages\\sklearn\\linear_model\\logistic.py:432: FutureWarning: Default solver will be changed to 'lbfgs' in 0.22. Specify a solver to silence this warning.\n",
      "  FutureWarning)\n",
      "C:\\Users\\jonat\\Anaconda3\\envs\\tf-gpu2.0\\lib\\site-packages\\sklearn\\linear_model\\logistic.py:469: FutureWarning: Default multi_class will be changed to 'auto' in 0.22. Specify the multi_class option to silence this warning.\n",
      "  \"this warning.\", FutureWarning)\n",
      "C:\\Users\\jonat\\Anaconda3\\envs\\tf-gpu2.0\\lib\\site-packages\\sklearn\\linear_model\\logistic.py:432: FutureWarning: Default solver will be changed to 'lbfgs' in 0.22. Specify a solver to silence this warning.\n",
      "  FutureWarning)\n",
      "C:\\Users\\jonat\\Anaconda3\\envs\\tf-gpu2.0\\lib\\site-packages\\sklearn\\linear_model\\logistic.py:469: FutureWarning: Default multi_class will be changed to 'auto' in 0.22. Specify the multi_class option to silence this warning.\n",
      "  \"this warning.\", FutureWarning)\n",
      "C:\\Users\\jonat\\Anaconda3\\envs\\tf-gpu2.0\\lib\\site-packages\\sklearn\\linear_model\\logistic.py:432: FutureWarning: Default solver will be changed to 'lbfgs' in 0.22. Specify a solver to silence this warning.\n",
      "  FutureWarning)\n",
      "C:\\Users\\jonat\\Anaconda3\\envs\\tf-gpu2.0\\lib\\site-packages\\sklearn\\linear_model\\logistic.py:469: FutureWarning: Default multi_class will be changed to 'auto' in 0.22. Specify the multi_class option to silence this warning.\n",
      "  \"this warning.\", FutureWarning)\n",
      "C:\\Users\\jonat\\Anaconda3\\envs\\tf-gpu2.0\\lib\\site-packages\\sklearn\\model_selection\\_split.py:657: Warning: The least populated class in y has only 1 members, which is too few. The minimum number of members in any class cannot be less than n_splits=5.\n",
      "  % (min_groups, self.n_splits)), Warning)\n"
     ]
    },
    {
     "name": "stdout",
     "output_type": "stream",
     "text": [
      "Accuracy: 0.60 (+/- 0.03) [Log_pca]\n"
     ]
    },
    {
     "name": "stderr",
     "output_type": "stream",
     "text": [
      "C:\\Users\\jonat\\Anaconda3\\envs\\tf-gpu2.0\\lib\\site-packages\\sklearn\\linear_model\\logistic.py:432: FutureWarning: Default solver will be changed to 'lbfgs' in 0.22. Specify a solver to silence this warning.\n",
      "  FutureWarning)\n",
      "C:\\Users\\jonat\\Anaconda3\\envs\\tf-gpu2.0\\lib\\site-packages\\sklearn\\linear_model\\logistic.py:469: FutureWarning: Default multi_class will be changed to 'auto' in 0.22. Specify the multi_class option to silence this warning.\n",
      "  \"this warning.\", FutureWarning)\n",
      "C:\\Users\\jonat\\Anaconda3\\envs\\tf-gpu2.0\\lib\\site-packages\\sklearn\\linear_model\\logistic.py:432: FutureWarning: Default solver will be changed to 'lbfgs' in 0.22. Specify a solver to silence this warning.\n",
      "  FutureWarning)\n",
      "C:\\Users\\jonat\\Anaconda3\\envs\\tf-gpu2.0\\lib\\site-packages\\sklearn\\linear_model\\logistic.py:469: FutureWarning: Default multi_class will be changed to 'auto' in 0.22. Specify the multi_class option to silence this warning.\n",
      "  \"this warning.\", FutureWarning)\n",
      "C:\\Users\\jonat\\Anaconda3\\envs\\tf-gpu2.0\\lib\\site-packages\\sklearn\\linear_model\\logistic.py:432: FutureWarning: Default solver will be changed to 'lbfgs' in 0.22. Specify a solver to silence this warning.\n",
      "  FutureWarning)\n",
      "C:\\Users\\jonat\\Anaconda3\\envs\\tf-gpu2.0\\lib\\site-packages\\sklearn\\linear_model\\logistic.py:469: FutureWarning: Default multi_class will be changed to 'auto' in 0.22. Specify the multi_class option to silence this warning.\n",
      "  \"this warning.\", FutureWarning)\n",
      "C:\\Users\\jonat\\Anaconda3\\envs\\tf-gpu2.0\\lib\\site-packages\\sklearn\\linear_model\\logistic.py:432: FutureWarning: Default solver will be changed to 'lbfgs' in 0.22. Specify a solver to silence this warning.\n",
      "  FutureWarning)\n"
     ]
    },
    {
     "name": "stdout",
     "output_type": "stream",
     "text": [
      "Accuracy: 0.61 (+/- 0.01) [Ensemble]\n"
     ]
    },
    {
     "name": "stderr",
     "output_type": "stream",
     "text": [
      "C:\\Users\\jonat\\Anaconda3\\envs\\tf-gpu2.0\\lib\\site-packages\\sklearn\\linear_model\\logistic.py:469: FutureWarning: Default multi_class will be changed to 'auto' in 0.22. Specify the multi_class option to silence this warning.\n",
      "  \"this warning.\", FutureWarning)\n",
      "C:\\Users\\jonat\\Anaconda3\\envs\\tf-gpu2.0\\lib\\site-packages\\sklearn\\linear_model\\logistic.py:432: FutureWarning: Default solver will be changed to 'lbfgs' in 0.22. Specify a solver to silence this warning.\n",
      "  FutureWarning)\n",
      "C:\\Users\\jonat\\Anaconda3\\envs\\tf-gpu2.0\\lib\\site-packages\\sklearn\\linear_model\\logistic.py:469: FutureWarning: Default multi_class will be changed to 'auto' in 0.22. Specify the multi_class option to silence this warning.\n",
      "  \"this warning.\", FutureWarning)\n"
     ]
    }
   ],
   "source": [
    "eclf = VotingClassifier(estimators=[('svc', svmclassifier), ('extratrees', extradecisiontree), ('rf', rfclassifier), ('logpca', log_pca)],voting='hard')\n",
    "\n",
    "\n",
    "for clf, label in zip([svmclassifier, extradecisiontree, rfclassifier, log_pca, eclf], ['SVC', 'Extra Trees', 'Random Forest', 'Log_pca', 'Ensemble']): \n",
    "    scores = cross_val_score(clf, value_data, label_data, scoring='accuracy', cv=5)\n",
    "    print(\"Accuracy: %0.2f (+/- %0.2f) [%s]\" % (scores.mean(), scores.std(), label))\n",
    "    \n",
    "#https://scikit-learn.org/stable/modules/ensemble.html\n",
    "\n"
   ]
  },
  {
   "cell_type": "code",
   "execution_count": 38,
   "metadata": {},
   "outputs": [
    {
     "name": "stdout",
     "output_type": "stream",
     "text": [
      "Accuracy:  0.018404907975460124\n",
      "R2 : 0.15236284701452585\n",
      "R2 : 1013.3680981595093\n",
      "Gradient Booster Regressor model picked 18 out of 18 features\n"
     ]
    },
    {
     "data": {
      "image/png": "[encoded data removed]",
      "text/plain": [
       "<Figure size 432x288 with 1 Axes>"
      ]
     },
     "metadata": {
      "needs_background": "light"
     },
     "output_type": "display_data"
    }
   ],
   "source": [
    "#Gradient Booster Regressor\n",
    "import numpy as np\n",
    "gradientboostingregressor = GradientBoostingRegressor(random_state=0)\n",
    "gradientboostingregressor.fit(X_train, Y_train)\n",
    "madden_predict = gradientboostingregressor.predict(X_validation)\n",
    "madden_predict = np.around(madden_predict, decimals = 0)\n",
    "print('Accuracy:  ' + str(accuracy_score(Y_validation, madden_predict)))\n",
    "print('R2 : ' + str(r2_score(Y_validation, madden_predict)))\n",
    "print('R2 : ' + str(mean_squared_error(Y_validation, madden_predict)))\n",
    "plot_feat_import(gradientboostingregressor.feature_importances_, 'Gradient Booster Regressor')"
   ]
  },
  {
   "cell_type": "code",
   "execution_count": null,
   "metadata": {},
   "outputs": [],
   "source": []
  },
  {
   "cell_type": "code",
   "execution_count": 39,
   "metadata": {},
   "outputs": [
    {
     "name": "stderr",
     "output_type": "stream",
     "text": [
      "C:\\Users\\jonat\\Anaconda3\\envs\\tf-gpu2.0\\lib\\site-packages\\sklearn\\model_selection\\_split.py:657: Warning: The least populated class in y has only 1 members, which is too few. The minimum number of members in any class cannot be less than n_splits=10.\n",
      "  % (min_groups, self.n_splits)), Warning)\n",
      "C:\\Users\\jonat\\Anaconda3\\envs\\tf-gpu2.0\\lib\\site-packages\\sklearn\\model_selection\\_split.py:657: Warning: The least populated class in y has only 1 members, which is too few. The minimum number of members in any class cannot be less than n_splits=10.\n",
      "  % (min_groups, self.n_splits)), Warning)\n",
      "C:\\Users\\jonat\\Anaconda3\\envs\\tf-gpu2.0\\lib\\site-packages\\sklearn\\discriminant_analysis.py:388: UserWarning: Variables are collinear.\n",
      "  warnings.warn(\"Variables are collinear.\")\n",
      "C:\\Users\\jonat\\Anaconda3\\envs\\tf-gpu2.0\\lib\\site-packages\\sklearn\\discriminant_analysis.py:388: UserWarning: Variables are collinear.\n",
      "  warnings.warn(\"Variables are collinear.\")\n",
      "C:\\Users\\jonat\\Anaconda3\\envs\\tf-gpu2.0\\lib\\site-packages\\sklearn\\discriminant_analysis.py:388: UserWarning: Variables are collinear.\n",
      "  warnings.warn(\"Variables are collinear.\")\n",
      "C:\\Users\\jonat\\Anaconda3\\envs\\tf-gpu2.0\\lib\\site-packages\\sklearn\\discriminant_analysis.py:388: UserWarning: Variables are collinear.\n",
      "  warnings.warn(\"Variables are collinear.\")\n",
      "C:\\Users\\jonat\\Anaconda3\\envs\\tf-gpu2.0\\lib\\site-packages\\sklearn\\discriminant_analysis.py:388: UserWarning: Variables are collinear.\n",
      "  warnings.warn(\"Variables are collinear.\")\n",
      "C:\\Users\\jonat\\Anaconda3\\envs\\tf-gpu2.0\\lib\\site-packages\\sklearn\\discriminant_analysis.py:388: UserWarning: Variables are collinear.\n",
      "  warnings.warn(\"Variables are collinear.\")\n",
      "C:\\Users\\jonat\\Anaconda3\\envs\\tf-gpu2.0\\lib\\site-packages\\sklearn\\discriminant_analysis.py:388: UserWarning: Variables are collinear.\n",
      "  warnings.warn(\"Variables are collinear.\")\n",
      "C:\\Users\\jonat\\Anaconda3\\envs\\tf-gpu2.0\\lib\\site-packages\\sklearn\\discriminant_analysis.py:388: UserWarning: Variables are collinear.\n",
      "  warnings.warn(\"Variables are collinear.\")\n",
      "C:\\Users\\jonat\\Anaconda3\\envs\\tf-gpu2.0\\lib\\site-packages\\sklearn\\discriminant_analysis.py:388: UserWarning: Variables are collinear.\n",
      "  warnings.warn(\"Variables are collinear.\")\n",
      "C:\\Users\\jonat\\Anaconda3\\envs\\tf-gpu2.0\\lib\\site-packages\\sklearn\\discriminant_analysis.py:388: UserWarning: Variables are collinear.\n",
      "  warnings.warn(\"Variables are collinear.\")\n",
      "C:\\Users\\jonat\\Anaconda3\\envs\\tf-gpu2.0\\lib\\site-packages\\sklearn\\model_selection\\_split.py:657: Warning: The least populated class in y has only 1 members, which is too few. The minimum number of members in any class cannot be less than n_splits=10.\n",
      "  % (min_groups, self.n_splits)), Warning)\n"
     ]
    },
    {
     "name": "stdout",
     "output_type": "stream",
     "text": [
      "LR: 0.594508 (0.028656)\n",
      "LDA: 0.578425 (0.027850)\n",
      "KNN: 0.576036 (0.021635)\n",
      "CART: 0.462328 (0.060574)\n"
     ]
    },
    {
     "name": "stderr",
     "output_type": "stream",
     "text": [
      "C:\\Users\\jonat\\Anaconda3\\envs\\tf-gpu2.0\\lib\\site-packages\\sklearn\\model_selection\\_split.py:657: Warning: The least populated class in y has only 1 members, which is too few. The minimum number of members in any class cannot be less than n_splits=10.\n",
      "  % (min_groups, self.n_splits)), Warning)\n",
      "C:\\Users\\jonat\\Anaconda3\\envs\\tf-gpu2.0\\lib\\site-packages\\sklearn\\model_selection\\_split.py:657: Warning: The least populated class in y has only 1 members, which is too few. The minimum number of members in any class cannot be less than n_splits=10.\n",
      "  % (min_groups, self.n_splits)), Warning)\n"
     ]
    },
    {
     "name": "stdout",
     "output_type": "stream",
     "text": [
      "ABC: 0.430915 (0.117137)\n"
     ]
    },
    {
     "name": "stderr",
     "output_type": "stream",
     "text": [
      "C:\\Users\\jonat\\Anaconda3\\envs\\tf-gpu2.0\\lib\\site-packages\\sklearn\\model_selection\\_split.py:657: Warning: The least populated class in y has only 1 members, which is too few. The minimum number of members in any class cannot be less than n_splits=10.\n",
      "  % (min_groups, self.n_splits)), Warning)\n"
     ]
    },
    {
     "name": "stdout",
     "output_type": "stream",
     "text": [
      "GBC: 0.587420 (0.057595)\n",
      "RFC: 0.562158 (0.036325)\n"
     ]
    },
    {
     "name": "stderr",
     "output_type": "stream",
     "text": [
      "C:\\Users\\jonat\\Anaconda3\\envs\\tf-gpu2.0\\lib\\site-packages\\sklearn\\model_selection\\_split.py:657: Warning: The least populated class in y has only 1 members, which is too few. The minimum number of members in any class cannot be less than n_splits=10.\n",
      "  % (min_groups, self.n_splits)), Warning)\n",
      "C:\\Users\\jonat\\Anaconda3\\envs\\tf-gpu2.0\\lib\\site-packages\\sklearn\\ensemble\\forest.py:245: FutureWarning: The default value of n_estimators will change from 10 in version 0.20 to 100 in 0.22.\n",
      "  \"10 in version 0.20 to 100 in 0.22.\", FutureWarning)\n",
      "C:\\Users\\jonat\\Anaconda3\\envs\\tf-gpu2.0\\lib\\site-packages\\sklearn\\ensemble\\forest.py:245: FutureWarning: The default value of n_estimators will change from 10 in version 0.20 to 100 in 0.22.\n",
      "  \"10 in version 0.20 to 100 in 0.22.\", FutureWarning)\n",
      "C:\\Users\\jonat\\Anaconda3\\envs\\tf-gpu2.0\\lib\\site-packages\\sklearn\\ensemble\\forest.py:245: FutureWarning: The default value of n_estimators will change from 10 in version 0.20 to 100 in 0.22.\n",
      "  \"10 in version 0.20 to 100 in 0.22.\", FutureWarning)\n",
      "C:\\Users\\jonat\\Anaconda3\\envs\\tf-gpu2.0\\lib\\site-packages\\sklearn\\ensemble\\forest.py:245: FutureWarning: The default value of n_estimators will change from 10 in version 0.20 to 100 in 0.22.\n",
      "  \"10 in version 0.20 to 100 in 0.22.\", FutureWarning)\n",
      "C:\\Users\\jonat\\Anaconda3\\envs\\tf-gpu2.0\\lib\\site-packages\\sklearn\\ensemble\\forest.py:245: FutureWarning: The default value of n_estimators will change from 10 in version 0.20 to 100 in 0.22.\n",
      "  \"10 in version 0.20 to 100 in 0.22.\", FutureWarning)\n",
      "C:\\Users\\jonat\\Anaconda3\\envs\\tf-gpu2.0\\lib\\site-packages\\sklearn\\ensemble\\forest.py:245: FutureWarning: The default value of n_estimators will change from 10 in version 0.20 to 100 in 0.22.\n",
      "  \"10 in version 0.20 to 100 in 0.22.\", FutureWarning)\n",
      "C:\\Users\\jonat\\Anaconda3\\envs\\tf-gpu2.0\\lib\\site-packages\\sklearn\\ensemble\\forest.py:245: FutureWarning: The default value of n_estimators will change from 10 in version 0.20 to 100 in 0.22.\n",
      "  \"10 in version 0.20 to 100 in 0.22.\", FutureWarning)\n",
      "C:\\Users\\jonat\\Anaconda3\\envs\\tf-gpu2.0\\lib\\site-packages\\sklearn\\ensemble\\forest.py:245: FutureWarning: The default value of n_estimators will change from 10 in version 0.20 to 100 in 0.22.\n",
      "  \"10 in version 0.20 to 100 in 0.22.\", FutureWarning)\n",
      "C:\\Users\\jonat\\Anaconda3\\envs\\tf-gpu2.0\\lib\\site-packages\\sklearn\\ensemble\\forest.py:245: FutureWarning: The default value of n_estimators will change from 10 in version 0.20 to 100 in 0.22.\n",
      "  \"10 in version 0.20 to 100 in 0.22.\", FutureWarning)\n",
      "C:\\Users\\jonat\\Anaconda3\\envs\\tf-gpu2.0\\lib\\site-packages\\sklearn\\ensemble\\forest.py:245: FutureWarning: The default value of n_estimators will change from 10 in version 0.20 to 100 in 0.22.\n",
      "  \"10 in version 0.20 to 100 in 0.22.\", FutureWarning)\n",
      "C:\\Users\\jonat\\Anaconda3\\envs\\tf-gpu2.0\\lib\\site-packages\\sklearn\\model_selection\\_split.py:657: Warning: The least populated class in y has only 1 members, which is too few. The minimum number of members in any class cannot be less than n_splits=10.\n",
      "  % (min_groups, self.n_splits)), Warning)\n",
      "C:\\Users\\jonat\\Anaconda3\\envs\\tf-gpu2.0\\lib\\site-packages\\sklearn\\model_selection\\_split.py:657: Warning: The least populated class in y has only 1 members, which is too few. The minimum number of members in any class cannot be less than n_splits=10.\n",
      "  % (min_groups, self.n_splits)), Warning)\n"
     ]
    },
    {
     "name": "stdout",
     "output_type": "stream",
     "text": [
      "GNB: 0.491974 (0.037705)\n",
      "SVM: 0.600564 (0.005924)\n",
      "ETC: 0.574738 (0.036814)\n"
     ]
    },
    {
     "name": "stderr",
     "output_type": "stream",
     "text": [
      "C:\\Users\\jonat\\Anaconda3\\envs\\tf-gpu2.0\\lib\\site-packages\\sklearn\\model_selection\\_split.py:657: Warning: The least populated class in y has only 1 members, which is too few. The minimum number of members in any class cannot be less than n_splits=10.\n",
      "  % (min_groups, self.n_splits)), Warning)\n",
      "C:\\Users\\jonat\\Anaconda3\\envs\\tf-gpu2.0\\lib\\site-packages\\sklearn\\ensemble\\forest.py:245: FutureWarning: The default value of n_estimators will change from 10 in version 0.20 to 100 in 0.22.\n",
      "  \"10 in version 0.20 to 100 in 0.22.\", FutureWarning)\n",
      "C:\\Users\\jonat\\Anaconda3\\envs\\tf-gpu2.0\\lib\\site-packages\\sklearn\\ensemble\\forest.py:245: FutureWarning: The default value of n_estimators will change from 10 in version 0.20 to 100 in 0.22.\n",
      "  \"10 in version 0.20 to 100 in 0.22.\", FutureWarning)\n",
      "C:\\Users\\jonat\\Anaconda3\\envs\\tf-gpu2.0\\lib\\site-packages\\sklearn\\ensemble\\forest.py:245: FutureWarning: The default value of n_estimators will change from 10 in version 0.20 to 100 in 0.22.\n",
      "  \"10 in version 0.20 to 100 in 0.22.\", FutureWarning)\n",
      "C:\\Users\\jonat\\Anaconda3\\envs\\tf-gpu2.0\\lib\\site-packages\\sklearn\\ensemble\\forest.py:245: FutureWarning: The default value of n_estimators will change from 10 in version 0.20 to 100 in 0.22.\n",
      "  \"10 in version 0.20 to 100 in 0.22.\", FutureWarning)\n",
      "C:\\Users\\jonat\\Anaconda3\\envs\\tf-gpu2.0\\lib\\site-packages\\sklearn\\ensemble\\forest.py:245: FutureWarning: The default value of n_estimators will change from 10 in version 0.20 to 100 in 0.22.\n",
      "  \"10 in version 0.20 to 100 in 0.22.\", FutureWarning)\n",
      "C:\\Users\\jonat\\Anaconda3\\envs\\tf-gpu2.0\\lib\\site-packages\\sklearn\\ensemble\\forest.py:245: FutureWarning: The default value of n_estimators will change from 10 in version 0.20 to 100 in 0.22.\n",
      "  \"10 in version 0.20 to 100 in 0.22.\", FutureWarning)\n",
      "C:\\Users\\jonat\\Anaconda3\\envs\\tf-gpu2.0\\lib\\site-packages\\sklearn\\ensemble\\forest.py:245: FutureWarning: The default value of n_estimators will change from 10 in version 0.20 to 100 in 0.22.\n",
      "  \"10 in version 0.20 to 100 in 0.22.\", FutureWarning)\n",
      "C:\\Users\\jonat\\Anaconda3\\envs\\tf-gpu2.0\\lib\\site-packages\\sklearn\\ensemble\\forest.py:245: FutureWarning: The default value of n_estimators will change from 10 in version 0.20 to 100 in 0.22.\n",
      "  \"10 in version 0.20 to 100 in 0.22.\", FutureWarning)\n",
      "C:\\Users\\jonat\\Anaconda3\\envs\\tf-gpu2.0\\lib\\site-packages\\sklearn\\ensemble\\forest.py:245: FutureWarning: The default value of n_estimators will change from 10 in version 0.20 to 100 in 0.22.\n",
      "  \"10 in version 0.20 to 100 in 0.22.\", FutureWarning)\n",
      "C:\\Users\\jonat\\Anaconda3\\envs\\tf-gpu2.0\\lib\\site-packages\\sklearn\\ensemble\\forest.py:245: FutureWarning: The default value of n_estimators will change from 10 in version 0.20 to 100 in 0.22.\n",
      "  \"10 in version 0.20 to 100 in 0.22.\", FutureWarning)\n"
     ]
    }
   ],
   "source": [
    "# Spot Check Algorithms\n",
    "models = []\n",
    "models.append(('LR', LogisticRegression(solver='liblinear', multi_class='ovr')))\n",
    "#models.append(('LASSO', Lasso(alpha=0.1)))\n",
    "models.append(('LDA', LinearDiscriminantAnalysis()))\n",
    "models.append(('KNN', KNeighborsClassifier()))\n",
    "models.append(('CART', DecisionTreeClassifier()))\n",
    "models.append(('ABC', AdaBoostClassifier()))\n",
    "models.append(('GBC', GradientBoostingClassifier(n_estimators=200)))\n",
    "models.append(('RFC', RandomForestClassifier()))\n",
    "models.append(('GNB', GaussianNB()))\n",
    "models.append(('SVM', SVC(gamma='auto')))\n",
    "models.append(('ETC', ExtraTreesClassifier()))\n",
    "\n",
    "# evaluate each model in turn\n",
    "results = []\n",
    "names = []\n",
    "\n",
    "for name, model in models:\n",
    "    kfold = StratifiedKFold(n_splits=10, random_state=1, shuffle=True)\n",
    "    cv_results = cross_val_score(model, value_data, label_data, cv=kfold, scoring='accuracy')\n",
    "    results.append(cv_results)\n",
    "    names.append(name)\n",
    "    print('%s: %f (%f)' % (name, cv_results.mean(), cv_results.std()))\n"
   ]
  },
  {
   "cell_type": "code",
   "execution_count": 40,
   "metadata": {},
   "outputs": [
    {
     "data": {
      "image/png": "[encoded data removed]",
      "text/plain": [
       "<Figure size 432x288 with 1 Axes>"
      ]
     },
     "metadata": {
      "needs_background": "light"
     },
     "output_type": "display_data"
    }
   ],
   "source": [
    "# Compare Algorithms\n",
    "pyplot.boxplot(results, labels=names)\n",
    "pyplot.title('Algorithm Comparison')\n",
    "pyplot.show()"
   ]
  },
  {
   "cell_type": "code",
   "execution_count": null,
   "metadata": {},
   "outputs": [],
   "source": []
  }
 ],
 "metadata": {
  "kernelspec": {
   "display_name": "Python 3",
   "language": "python",
   "name": "python3"
  },
  "language_info": {
   "codemirror_mode": {
    "name": "ipython",
    "version": 3
   },
   "file_extension": ".py",
   "mimetype": "text/x-python",
   "name": "python",
   "nbconvert_exporter": "python",
   "pygments_lexer": "ipython3",
   "version": "3.7.3"
  }
 },
 "nbformat": 4,
 "nbformat_minor": 2
}
