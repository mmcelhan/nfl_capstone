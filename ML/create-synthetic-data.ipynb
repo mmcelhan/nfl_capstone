{
 "cells": [
  {
   "cell_type": "code",
   "execution_count": 1,
   "metadata": {},
   "outputs": [
    {
     "name": "stderr",
     "output_type": "stream",
     "text": [
      "/Users/andrewmorris/opt/anaconda3/lib/python3.7/site-packages/sklearn/externals/joblib/__init__.py:15: FutureWarning: sklearn.externals.joblib is deprecated in 0.21 and will be removed in 0.23. Please import this functionality directly from joblib, which can be installed with: pip install joblib. If this warning is raised when loading pickled models, you may need to re-serialize those models with scikit-learn 0.21+.\n",
      "  warnings.warn(msg, category=FutureWarning)\n"
     ]
    }
   ],
   "source": [
    "import pickle\n",
    "from sklearn.externals import joblib\n",
    "import pandas as pd\n",
    "import itertools as it"
   ]
  },
  {
   "cell_type": "code",
   "execution_count": 2,
   "metadata": {},
   "outputs": [],
   "source": [
    "file_name = 'rb_model.pkl'\n",
    "model = joblib.load(file_name)\n",
    "stats_df = pd.read_csv('representative_statistics.csv', index_col = 0)"
   ]
  },
  {
   "cell_type": "code",
   "execution_count": 3,
   "metadata": {},
   "outputs": [],
   "source": [
    "def z_score(data_mean, data_std, val):\n",
    "    return (val - data_mean) / data_std"
   ]
  },
  {
   "cell_type": "code",
   "execution_count": 4,
   "metadata": {},
   "outputs": [],
   "source": [
    "cols = ['rb_college_height_inches', 'rb_hw_ratio','rb_forty', 'rb_vertical', 'rb_bench','rb_broad', 'rb_threecone', 'rb_shuttle','rb_rushing_games', 'rb_rushing_rec_td','rb_rushing_rec_yards', 'rb_rushing_receptions','rb_rushing_rush_att', 'rb_rushing_rush_td','rb_rushing_rush_yds', 'rb_rushing_scrim_plays','rb_rushing_scrim_tds', 'rb_rushing_scrim_yds','rb_rushing_seasons', 'rb_max_madden','rb_rushing_rec_td_pg', 'rb_rushing_rec_yards_pg','rb_rushing_receptions_pg', 'rb_rushing_rush_att_pg','rb_rushing_rush_td_pg', 'rb_rushing_rush_yds_pg','rb_rushing_scrim_plays_pg', 'rb_rushing_scrim_tds_pg','rb_rushing_scrim_yds_pg', 'rb_football_spending','rb_coaches_salaries', 'rb_ticket_sales','rb_rushing_rush_td_pg_cf_scaled','rb_rushing_rush_yds_pg_cf_scaled','rb_rushing_scrim_plays_pg_cf_scaled','rb_rushing_scrim_tds_pg_cf_scaled','rb_rushing_scrim_yds_pg_cf_scaled', 'rb_ann_rain_inch','rb_ann_snow_inch', 'rb_min_jan', 'rb_min_feb','rb_min_mar', 'rb_min_apr', 'rb_min_may','rb_min_jun', 'rb_min_jul', 'rb_min_aug','rb_min_sep', 'rb_min_oct', 'rb_min_nov','rb_min_dec', 'rb_max_jan', 'rb_max_feb','rb_max_mar', 'rb_max_apr', 'rb_max_may','rb_max_jun', 'rb_max_jul', 'rb_max_aug','rb_college_weight_pounds']"
   ]
  },
  {
   "cell_type": "code",
   "execution_count": 7,
   "metadata": {},
   "outputs": [
    {
     "data": {
      "text/plain": [
       "Unnamed: 0\n",
       "mean     70.554080\n",
       "stden     1.740362\n",
       "min      66.000000\n",
       "max      76.000000\n",
       "Name: rb_college_height_inches_zscore, dtype: float64"
      ]
     },
     "execution_count": 7,
     "metadata": {},
     "output_type": "execute_result"
    }
   ],
   "source": [
    "stats_df['rb_college_height_inches_zscore']"
   ]
  },
  {
   "cell_type": "code",
   "execution_count": 5,
   "metadata": {},
   "outputs": [],
   "source": [
    "frame = []\n",
    "for c in stats_df.columns:\n",
    "    row = []\n",
    "    mean = stats_df[c][0]\n",
    "    sd = stats_df[c][1]\n",
    "    minv = stats_df[c][2]\n",
    "    maxv = stats_df[c][3]\n",
    "    spread = maxv - minv\n",
    "    division = (spread/10)\n",
    "    for i in range(10):\n",
    "        row.append(z_score(mean,sd,(minv + division*i)))\n",
    "    frame.append(row)"
   ]
  },
  {
   "cell_type": "code",
   "execution_count": 6,
   "metadata": {},
   "outputs": [],
   "source": [
    "#df = pd.DataFrame(frame)\n",
    "#df = df.T\n",
    "synth_vals = pd.DataFrame(frame).T\n",
    "synth_vals.columns = cols"
   ]
  },
  {
   "cell_type": "code",
   "execution_count": 7,
   "metadata": {},
   "outputs": [],
   "source": [
    "#df.columns = synth_vals.columns"
   ]
  },
  {
   "cell_type": "code",
   "execution_count": 8,
   "metadata": {},
   "outputs": [],
   "source": [
    "top_vals = ['rb_forty', 'rb_rushing_scrim_tds_pg_cf_scaled', 'rb_college_weight_pounds', 'rb_vertical', 'rb_rushing_scrim_yds_pg_cf_scaled', 'rb_rushing_rush_att', 'rb_ann_rain_inch', 'rb_rushing_rush_td_pg_cf_scaled', 'rb_rushing_receptions', 'rb_bench']\n",
    "top_df = synth_vals[top_vals]"
   ]
  },
  {
   "cell_type": "code",
   "execution_count": 9,
   "metadata": {},
   "outputs": [],
   "source": [
    "perms = it.permutations(top_df)"
   ]
  },
  {
   "cell_type": "code",
   "execution_count": 10,
   "metadata": {},
   "outputs": [],
   "source": [
    "tmpvals = list(perms)"
   ]
  },
  {
   "cell_type": "code",
   "execution_count": 16,
   "metadata": {},
   "outputs": [],
   "source": [
    "perm_df = pd.DataFrame(tmpvals)"
   ]
  },
  {
   "cell_type": "code",
   "execution_count": 21,
   "metadata": {},
   "outputs": [
    {
     "data": {
      "text/html": [
       "<div>\n",
       "<style scoped>\n",
       "    .dataframe tbody tr th:only-of-type {\n",
       "        vertical-align: middle;\n",
       "    }\n",
       "\n",
       "    .dataframe tbody tr th {\n",
       "        vertical-align: top;\n",
       "    }\n",
       "\n",
       "    .dataframe thead th {\n",
       "        text-align: right;\n",
       "    }\n",
       "</style>\n",
       "<table border=\"1\" class=\"dataframe\">\n",
       "  <thead>\n",
       "    <tr style=\"text-align: right;\">\n",
       "      <th></th>\n",
       "      <th>rb_forty</th>\n",
       "      <th>rb_rushing_scrim_tds_pg_cf_scaled</th>\n",
       "      <th>rb_college_weight_pounds</th>\n",
       "      <th>rb_vertical</th>\n",
       "      <th>rb_rushing_scrim_yds_pg_cf_scaled</th>\n",
       "      <th>rb_rushing_rush_att</th>\n",
       "      <th>rb_ann_rain_inch</th>\n",
       "      <th>rb_rushing_rush_td_pg_cf_scaled</th>\n",
       "      <th>rb_rushing_receptions</th>\n",
       "      <th>rb_bench</th>\n",
       "    </tr>\n",
       "  </thead>\n",
       "  <tbody>\n",
       "    <tr>\n",
       "      <th>0</th>\n",
       "      <td>-2.872639</td>\n",
       "      <td>-2.249269</td>\n",
       "      <td>-3.313197</td>\n",
       "      <td>-2.940439</td>\n",
       "      <td>-2.929074</td>\n",
       "      <td>-2.325231</td>\n",
       "      <td>-2.481870</td>\n",
       "      <td>-2.131106</td>\n",
       "      <td>-1.418602</td>\n",
       "      <td>-3.164167</td>\n",
       "    </tr>\n",
       "    <tr>\n",
       "      <th>1</th>\n",
       "      <td>-2.244442</td>\n",
       "      <td>-1.649059</td>\n",
       "      <td>-2.608942</td>\n",
       "      <td>-2.359967</td>\n",
       "      <td>-2.324056</td>\n",
       "      <td>-1.748814</td>\n",
       "      <td>-1.673950</td>\n",
       "      <td>-1.504705</td>\n",
       "      <td>-0.565983</td>\n",
       "      <td>-2.528498</td>\n",
       "    </tr>\n",
       "    <tr>\n",
       "      <th>2</th>\n",
       "      <td>-1.616245</td>\n",
       "      <td>-1.048849</td>\n",
       "      <td>-1.904687</td>\n",
       "      <td>-1.779495</td>\n",
       "      <td>-1.719038</td>\n",
       "      <td>-1.172397</td>\n",
       "      <td>-0.866029</td>\n",
       "      <td>-0.878304</td>\n",
       "      <td>0.286636</td>\n",
       "      <td>-1.892829</td>\n",
       "    </tr>\n",
       "    <tr>\n",
       "      <th>3</th>\n",
       "      <td>-0.988048</td>\n",
       "      <td>-0.448640</td>\n",
       "      <td>-1.200432</td>\n",
       "      <td>-1.199024</td>\n",
       "      <td>-1.114020</td>\n",
       "      <td>-0.595979</td>\n",
       "      <td>-0.058109</td>\n",
       "      <td>-0.251904</td>\n",
       "      <td>1.139255</td>\n",
       "      <td>-1.257161</td>\n",
       "    </tr>\n",
       "    <tr>\n",
       "      <th>4</th>\n",
       "      <td>-0.359850</td>\n",
       "      <td>0.151570</td>\n",
       "      <td>-0.496176</td>\n",
       "      <td>-0.618552</td>\n",
       "      <td>-0.509001</td>\n",
       "      <td>-0.019562</td>\n",
       "      <td>0.749811</td>\n",
       "      <td>0.374497</td>\n",
       "      <td>1.991874</td>\n",
       "      <td>-0.621492</td>\n",
       "    </tr>\n",
       "    <tr>\n",
       "      <th>5</th>\n",
       "      <td>0.268347</td>\n",
       "      <td>0.751780</td>\n",
       "      <td>0.208079</td>\n",
       "      <td>-0.038080</td>\n",
       "      <td>0.096017</td>\n",
       "      <td>0.556855</td>\n",
       "      <td>1.557731</td>\n",
       "      <td>1.000898</td>\n",
       "      <td>2.844493</td>\n",
       "      <td>0.014177</td>\n",
       "    </tr>\n",
       "    <tr>\n",
       "      <th>6</th>\n",
       "      <td>0.896544</td>\n",
       "      <td>1.351989</td>\n",
       "      <td>0.912334</td>\n",
       "      <td>0.542392</td>\n",
       "      <td>0.701035</td>\n",
       "      <td>1.133272</td>\n",
       "      <td>2.365651</td>\n",
       "      <td>1.627299</td>\n",
       "      <td>3.697112</td>\n",
       "      <td>0.649846</td>\n",
       "    </tr>\n",
       "    <tr>\n",
       "      <th>7</th>\n",
       "      <td>1.524741</td>\n",
       "      <td>1.952199</td>\n",
       "      <td>1.616589</td>\n",
       "      <td>1.122864</td>\n",
       "      <td>1.306053</td>\n",
       "      <td>1.709689</td>\n",
       "      <td>3.173571</td>\n",
       "      <td>2.253700</td>\n",
       "      <td>4.549731</td>\n",
       "      <td>1.285514</td>\n",
       "    </tr>\n",
       "    <tr>\n",
       "      <th>8</th>\n",
       "      <td>2.152938</td>\n",
       "      <td>2.552409</td>\n",
       "      <td>2.320844</td>\n",
       "      <td>1.703336</td>\n",
       "      <td>1.911072</td>\n",
       "      <td>2.286106</td>\n",
       "      <td>3.981491</td>\n",
       "      <td>2.880101</td>\n",
       "      <td>5.402350</td>\n",
       "      <td>1.921183</td>\n",
       "    </tr>\n",
       "    <tr>\n",
       "      <th>9</th>\n",
       "      <td>2.781136</td>\n",
       "      <td>3.152618</td>\n",
       "      <td>3.025100</td>\n",
       "      <td>2.283808</td>\n",
       "      <td>2.516090</td>\n",
       "      <td>2.862523</td>\n",
       "      <td>4.789411</td>\n",
       "      <td>3.506502</td>\n",
       "      <td>6.254969</td>\n",
       "      <td>2.556852</td>\n",
       "    </tr>\n",
       "  </tbody>\n",
       "</table>\n",
       "</div>"
      ],
      "text/plain": [
       "   rb_forty  rb_rushing_scrim_tds_pg_cf_scaled  rb_college_weight_pounds  \\\n",
       "0 -2.872639                          -2.249269                 -3.313197   \n",
       "1 -2.244442                          -1.649059                 -2.608942   \n",
       "2 -1.616245                          -1.048849                 -1.904687   \n",
       "3 -0.988048                          -0.448640                 -1.200432   \n",
       "4 -0.359850                           0.151570                 -0.496176   \n",
       "5  0.268347                           0.751780                  0.208079   \n",
       "6  0.896544                           1.351989                  0.912334   \n",
       "7  1.524741                           1.952199                  1.616589   \n",
       "8  2.152938                           2.552409                  2.320844   \n",
       "9  2.781136                           3.152618                  3.025100   \n",
       "\n",
       "   rb_vertical  rb_rushing_scrim_yds_pg_cf_scaled  rb_rushing_rush_att  \\\n",
       "0    -2.940439                          -2.929074            -2.325231   \n",
       "1    -2.359967                          -2.324056            -1.748814   \n",
       "2    -1.779495                          -1.719038            -1.172397   \n",
       "3    -1.199024                          -1.114020            -0.595979   \n",
       "4    -0.618552                          -0.509001            -0.019562   \n",
       "5    -0.038080                           0.096017             0.556855   \n",
       "6     0.542392                           0.701035             1.133272   \n",
       "7     1.122864                           1.306053             1.709689   \n",
       "8     1.703336                           1.911072             2.286106   \n",
       "9     2.283808                           2.516090             2.862523   \n",
       "\n",
       "   rb_ann_rain_inch  rb_rushing_rush_td_pg_cf_scaled  rb_rushing_receptions  \\\n",
       "0         -2.481870                        -2.131106              -1.418602   \n",
       "1         -1.673950                        -1.504705              -0.565983   \n",
       "2         -0.866029                        -0.878304               0.286636   \n",
       "3         -0.058109                        -0.251904               1.139255   \n",
       "4          0.749811                         0.374497               1.991874   \n",
       "5          1.557731                         1.000898               2.844493   \n",
       "6          2.365651                         1.627299               3.697112   \n",
       "7          3.173571                         2.253700               4.549731   \n",
       "8          3.981491                         2.880101               5.402350   \n",
       "9          4.789411                         3.506502               6.254969   \n",
       "\n",
       "   rb_bench  \n",
       "0 -3.164167  \n",
       "1 -2.528498  \n",
       "2 -1.892829  \n",
       "3 -1.257161  \n",
       "4 -0.621492  \n",
       "5  0.014177  \n",
       "6  0.649846  \n",
       "7  1.285514  \n",
       "8  1.921183  \n",
       "9  2.556852  "
      ]
     },
     "execution_count": 21,
     "metadata": {},
     "output_type": "execute_result"
    }
   ],
   "source": [
    "top_df"
   ]
  },
  {
   "cell_type": "code",
   "execution_count": null,
   "metadata": {},
   "outputs": [],
   "source": []
  }
 ],
 "metadata": {
  "kernelspec": {
   "display_name": "Python 3",
   "language": "python",
   "name": "python3"
  },
  "language_info": {
   "codemirror_mode": {
    "name": "ipython",
    "version": 3
   },
   "file_extension": ".py",
   "mimetype": "text/x-python",
   "name": "python",
   "nbconvert_exporter": "python",
   "pygments_lexer": "ipython3",
   "version": "3.7.6"
  }
 },
 "nbformat": 4,
 "nbformat_minor": 4
}
