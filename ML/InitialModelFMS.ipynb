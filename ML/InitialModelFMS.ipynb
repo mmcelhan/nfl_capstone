{
 "cells": [
  {
   "cell_type": "code",
   "execution_count": 86,
   "metadata": {},
   "outputs": [],
   "source": [
    "#import libraries\n",
    "from pandas import read_csv\n",
    "import pandas as pd\n",
    "from matplotlib import pyplot\n",
    "from sklearn.model_selection import train_test_split\n",
    "from sklearn.model_selection import cross_val_score\n",
    "from sklearn.model_selection import StratifiedKFold\n",
    "from sklearn.linear_model import LogisticRegression\n",
    "from sklearn.tree import DecisionTreeClassifier\n",
    "from sklearn.neighbors import KNeighborsClassifier\n",
    "from sklearn.discriminant_analysis import LinearDiscriminantAnalysis\n",
    "from sklearn.naive_bayes import GaussianNB\n",
    "from sklearn.svm import SVC"
   ]
  },
  {
   "cell_type": "code",
   "execution_count": 87,
   "metadata": {},
   "outputs": [],
   "source": [
    "#import data\n",
    "dataset = read_csv('combined.csv')"
   ]
  },
  {
   "cell_type": "code",
   "execution_count": 88,
   "metadata": {},
   "outputs": [
    {
     "data": {
      "text/plain": [
       "(5099, 61)"
      ]
     },
     "execution_count": 88,
     "metadata": {},
     "output_type": "execute_result"
    }
   ],
   "source": [
    "dataset.shape"
   ]
  },
  {
   "cell_type": "code",
   "execution_count": 89,
   "metadata": {},
   "outputs": [
    {
     "data": {
      "text/plain": [
       "array([[<matplotlib.axes._subplots.AxesSubplot object at 0x7fee937c4a20>]],\n",
       "      dtype=object)"
      ]
     },
     "execution_count": 89,
     "metadata": {},
     "output_type": "execute_result"
    },
    {
     "data": {
      "image/png": "[encoded data removed]",
      "text/plain": [
       "<Figure size 432x288 with 1 Axes>"
      ]
     },
     "metadata": {
      "needs_background": "light"
     },
     "output_type": "display_data"
    }
   ],
   "source": [
    "dataset.hist(column='pick')"
   ]
  },
  {
   "cell_type": "code",
   "execution_count": 90,
   "metadata": {},
   "outputs": [],
   "source": [
    "#in the above cell if a player is assigned a number it has been drafted, create our own variable\n",
    "def f(row):\n",
    "    if row['pick']>0 :\n",
    "        val = 'Y'\n",
    "    else:\n",
    "        val = 'N'\n",
    "    return val\n",
    "dataset['drafted'] = dataset.apply(f, axis=1)"
   ]
  },
  {
   "cell_type": "code",
   "execution_count": 91,
   "metadata": {},
   "outputs": [
    {
     "data": {
      "text/html": [
       "<div>\n",
       "<style scoped>\n",
       "    .dataframe tbody tr th:only-of-type {\n",
       "        vertical-align: middle;\n",
       "    }\n",
       "\n",
       "    .dataframe tbody tr th {\n",
       "        vertical-align: top;\n",
       "    }\n",
       "\n",
       "    .dataframe thead th {\n",
       "        text-align: right;\n",
       "    }\n",
       "</style>\n",
       "<table border=\"1\" class=\"dataframe\">\n",
       "  <thead>\n",
       "    <tr style=\"text-align: right;\">\n",
       "      <th></th>\n",
       "      <th>url</th>\n",
       "      <th>pick</th>\n",
       "      <th>team</th>\n",
       "      <th>year</th>\n",
       "      <th>player</th>\n",
       "      <th>pos</th>\n",
       "      <th>college</th>\n",
       "      <th>weight</th>\n",
       "      <th>height_inches</th>\n",
       "      <th>forty</th>\n",
       "      <th>...</th>\n",
       "      <th>receiving.receptions</th>\n",
       "      <th>receiving.rush.att</th>\n",
       "      <th>receiving.rush.td</th>\n",
       "      <th>receiving.rush.yds</th>\n",
       "      <th>receiving.scrim.plays</th>\n",
       "      <th>receiving.scrim.tds</th>\n",
       "      <th>receiving.scrim.yds</th>\n",
       "      <th>receiving.seasons</th>\n",
       "      <th>num_missing_vals</th>\n",
       "      <th>drafted</th>\n",
       "    </tr>\n",
       "  </thead>\n",
       "  <tbody>\n",
       "    <tr>\n",
       "      <th>0</th>\n",
       "      <td>https://www.sports-reference.com/cfb/players/a...</td>\n",
       "      <td>NaN</td>\n",
       "      <td>NaN</td>\n",
       "      <td>2019</td>\n",
       "      <td>A.J. Brown</td>\n",
       "      <td>WR</td>\n",
       "      <td>Mississippi</td>\n",
       "      <td>226</td>\n",
       "      <td>72</td>\n",
       "      <td>4.49</td>\n",
       "      <td>...</td>\n",
       "      <td>189</td>\n",
       "      <td>0</td>\n",
       "      <td>0</td>\n",
       "      <td>0</td>\n",
       "      <td>189</td>\n",
       "      <td>19</td>\n",
       "      <td>2984</td>\n",
       "      <td>3</td>\n",
       "      <td>2</td>\n",
       "      <td>N</td>\n",
       "    </tr>\n",
       "    <tr>\n",
       "      <th>1</th>\n",
       "      <td>https://www.sports-reference.com/cfb/players/a...</td>\n",
       "      <td>NaN</td>\n",
       "      <td>NaN</td>\n",
       "      <td>2019</td>\n",
       "      <td>Albert Huggins</td>\n",
       "      <td>DL</td>\n",
       "      <td>Clemson</td>\n",
       "      <td>305</td>\n",
       "      <td>75</td>\n",
       "      <td>5.12</td>\n",
       "      <td>...</td>\n",
       "      <td>0</td>\n",
       "      <td>0</td>\n",
       "      <td>0</td>\n",
       "      <td>0</td>\n",
       "      <td>0</td>\n",
       "      <td>0</td>\n",
       "      <td>0</td>\n",
       "      <td>0</td>\n",
       "      <td>0</td>\n",
       "      <td>N</td>\n",
       "    </tr>\n",
       "    <tr>\n",
       "      <th>2</th>\n",
       "      <td>https://www.sports-reference.com/cfb/players/a...</td>\n",
       "      <td>NaN</td>\n",
       "      <td>NaN</td>\n",
       "      <td>2019</td>\n",
       "      <td>Alec Ingold</td>\n",
       "      <td>FB</td>\n",
       "      <td>Wisconsin</td>\n",
       "      <td>242</td>\n",
       "      <td>73</td>\n",
       "      <td>4.89</td>\n",
       "      <td>...</td>\n",
       "      <td>0</td>\n",
       "      <td>0</td>\n",
       "      <td>0</td>\n",
       "      <td>0</td>\n",
       "      <td>0</td>\n",
       "      <td>0</td>\n",
       "      <td>0</td>\n",
       "      <td>0</td>\n",
       "      <td>0</td>\n",
       "      <td>N</td>\n",
       "    </tr>\n",
       "    <tr>\n",
       "      <th>3</th>\n",
       "      <td>https://www.sports-reference.com/cfb/players/a...</td>\n",
       "      <td>NaN</td>\n",
       "      <td>NaN</td>\n",
       "      <td>2019</td>\n",
       "      <td>Alex Barnes</td>\n",
       "      <td>RB</td>\n",
       "      <td>Kansas St.</td>\n",
       "      <td>226</td>\n",
       "      <td>72</td>\n",
       "      <td>4.59</td>\n",
       "      <td>...</td>\n",
       "      <td>0</td>\n",
       "      <td>0</td>\n",
       "      <td>0</td>\n",
       "      <td>0</td>\n",
       "      <td>0</td>\n",
       "      <td>0</td>\n",
       "      <td>0</td>\n",
       "      <td>0</td>\n",
       "      <td>0</td>\n",
       "      <td>N</td>\n",
       "    </tr>\n",
       "    <tr>\n",
       "      <th>4</th>\n",
       "      <td>https://www.sports-reference.com/cfb/players/a...</td>\n",
       "      <td>NaN</td>\n",
       "      <td>NaN</td>\n",
       "      <td>2019</td>\n",
       "      <td>Alexander Mattison</td>\n",
       "      <td>RB</td>\n",
       "      <td>Boise St.</td>\n",
       "      <td>221</td>\n",
       "      <td>71</td>\n",
       "      <td>4.67</td>\n",
       "      <td>...</td>\n",
       "      <td>0</td>\n",
       "      <td>0</td>\n",
       "      <td>0</td>\n",
       "      <td>0</td>\n",
       "      <td>0</td>\n",
       "      <td>0</td>\n",
       "      <td>0</td>\n",
       "      <td>0</td>\n",
       "      <td>0</td>\n",
       "      <td>N</td>\n",
       "    </tr>\n",
       "  </tbody>\n",
       "</table>\n",
       "<p>5 rows × 62 columns</p>\n",
       "</div>"
      ],
      "text/plain": [
       "                                                 url  pick team  year  \\\n",
       "0  https://www.sports-reference.com/cfb/players/a...   NaN  NaN  2019   \n",
       "1  https://www.sports-reference.com/cfb/players/a...   NaN  NaN  2019   \n",
       "2  https://www.sports-reference.com/cfb/players/a...   NaN  NaN  2019   \n",
       "3  https://www.sports-reference.com/cfb/players/a...   NaN  NaN  2019   \n",
       "4  https://www.sports-reference.com/cfb/players/a...   NaN  NaN  2019   \n",
       "\n",
       "               player pos      college  weight  height_inches  forty   ...     \\\n",
       "0          A.J. Brown  WR  Mississippi     226             72   4.49   ...      \n",
       "1      Albert Huggins  DL      Clemson     305             75   5.12   ...      \n",
       "2         Alec Ingold  FB    Wisconsin     242             73   4.89   ...      \n",
       "3         Alex Barnes  RB   Kansas St.     226             72   4.59   ...      \n",
       "4  Alexander Mattison  RB    Boise St.     221             71   4.67   ...      \n",
       "\n",
       "   receiving.receptions  receiving.rush.att  receiving.rush.td  \\\n",
       "0                   189                   0                  0   \n",
       "1                     0                   0                  0   \n",
       "2                     0                   0                  0   \n",
       "3                     0                   0                  0   \n",
       "4                     0                   0                  0   \n",
       "\n",
       "   receiving.rush.yds  receiving.scrim.plays  receiving.scrim.tds  \\\n",
       "0                   0                    189                   19   \n",
       "1                   0                      0                    0   \n",
       "2                   0                      0                    0   \n",
       "3                   0                      0                    0   \n",
       "4                   0                      0                    0   \n",
       "\n",
       "   receiving.scrim.yds  receiving.seasons  num_missing_vals  drafted  \n",
       "0                 2984                  3                 2        N  \n",
       "1                    0                  0                 0        N  \n",
       "2                    0                  0                 0        N  \n",
       "3                    0                  0                 0        N  \n",
       "4                    0                  0                 0        N  \n",
       "\n",
       "[5 rows x 62 columns]"
      ]
     },
     "execution_count": 91,
     "metadata": {},
     "output_type": "execute_result"
    }
   ],
   "source": [
    "dataset.head(5)"
   ]
  },
  {
   "cell_type": "code",
   "execution_count": 93,
   "metadata": {},
   "outputs": [
    {
     "name": "stdout",
     "output_type": "stream",
     "text": [
      "              pick         year       weight  height_inches        forty  \\\n",
      "count  4793.000000  5099.000000  5099.000000    5099.000000  4926.000000   \n",
      "mean    180.704569  2010.184938   237.282997      73.555011     4.725682   \n",
      "std     107.341318     5.607444    41.068632       2.559964     0.268768   \n",
      "min       1.000000  2000.000000   149.000000      65.000000     4.220000   \n",
      "25%      81.000000  2006.000000   205.000000      72.000000     4.522500   \n",
      "50%     180.000000  2010.000000   229.000000      74.000000     4.650000   \n",
      "75%     300.000000  2015.000000   260.000000      75.000000     4.870000   \n",
      "max     300.000000  2019.000000   369.000000      82.000000     6.000000   \n",
      "\n",
      "          vertical        bench        broad    threecone      shuttle  \\\n",
      "count  4036.000000  3510.000000  4012.000000  3295.000000  3357.000000   \n",
      "mean     33.251611    20.367806   115.349950     7.206030     4.352038   \n",
      "std       4.062759     6.327802     8.618868     0.365102     0.243063   \n",
      "min      19.000000     2.000000    74.000000     6.280000     3.730000   \n",
      "25%      30.500000    16.000000   110.000000     6.950000     4.180000   \n",
      "50%      33.500000    20.000000   116.000000     7.140000     4.320000   \n",
      "75%      36.000000    24.000000   121.000000     7.400000     4.490000   \n",
      "max      46.000000    49.000000   147.000000     9.040000     5.560000   \n",
      "\n",
      "             ...         receiving.rec.yards  receiving.receptions  \\\n",
      "count        ...                 5099.000000           5099.000000   \n",
      "mean         ...                  393.780349             27.694058   \n",
      "std          ...                  852.598019             59.711633   \n",
      "min          ...                    0.000000              0.000000   \n",
      "25%          ...                    0.000000              0.000000   \n",
      "50%          ...                    0.000000              0.000000   \n",
      "75%          ...                    0.000000              0.000000   \n",
      "max          ...                 5278.000000            387.000000   \n",
      "\n",
      "       receiving.rush.att  receiving.rush.td  receiving.rush.yds  \\\n",
      "count         5099.000000        5099.000000         5099.000000   \n",
      "mean             2.037458           0.116297           13.202393   \n",
      "std              9.500406           0.745858           63.543023   \n",
      "min              0.000000           0.000000          -27.000000   \n",
      "25%              0.000000           0.000000            0.000000   \n",
      "50%              0.000000           0.000000            0.000000   \n",
      "75%              0.000000           0.000000            0.000000   \n",
      "max            182.000000          28.000000         1410.000000   \n",
      "\n",
      "       receiving.scrim.plays  receiving.scrim.tds  receiving.scrim.yds  \\\n",
      "count            5099.000000          5099.000000          5099.000000   \n",
      "mean               29.731516             3.247303           406.982742   \n",
      "std                64.872358             7.345815           882.459920   \n",
      "min                 0.000000             0.000000             0.000000   \n",
      "25%                 0.000000             0.000000             0.000000   \n",
      "50%                 0.000000             0.000000             0.000000   \n",
      "75%                 0.000000             0.000000             0.000000   \n",
      "max               398.000000            60.000000          5291.000000   \n",
      "\n",
      "       receiving.seasons  num_missing_vals  \n",
      "count        5099.000000        5099.00000  \n",
      "mean            0.791724           1.46264  \n",
      "std             1.501327           1.78732  \n",
      "min             0.000000           0.00000  \n",
      "25%             0.000000           0.00000  \n",
      "50%             0.000000           1.00000  \n",
      "75%             0.000000           3.00000  \n",
      "max             6.000000           6.00000  \n",
      "\n",
      "[8 rows x 56 columns]\n"
     ]
    }
   ],
   "source": [
    "print(dataset.describe())"
   ]
  },
  {
   "cell_type": "code",
   "execution_count": 94,
   "metadata": {},
   "outputs": [],
   "source": [
    "basics= dataset[['weight', 'height_inches', 'bench', 'vertical']].copy()"
   ]
  },
  {
   "cell_type": "code",
   "execution_count": 95,
   "metadata": {},
   "outputs": [
    {
     "data": {
      "image/png": "[encoded data removed]",
      "text/plain": [
       "<Figure size 432x288 with 4 Axes>"
      ]
     },
     "metadata": {
      "needs_background": "light"
     },
     "output_type": "display_data"
    }
   ],
   "source": [
    "# histograms for some interesting measurements\n",
    "basics.hist()\n",
    "pyplot.show()"
   ]
  },
  {
   "cell_type": "code",
   "execution_count": 108,
   "metadata": {},
   "outputs": [],
   "source": [
    "#take out columns that have drafted information, keep just the personnal stats\n",
    "clean= dataset[[ 'weight', 'height_inches', 'forty', 'vertical', \n",
    "                'bench', 'broad', 'threecone', 'shuttle', 'defense.ast.tackles', 'defense.fum.forced', \n",
    "                'defense.fum.rec', 'defense.fum.tds', 'defense.fum.yds', 'defense.games', 'defense.int', \n",
    "                'defense.int.td', 'defense.int.yards', 'defense.loss.tackles', 'defense.pd', 'defense.sacks', \n",
    "                'defense.seasons', 'defense.solo.tackes', 'defense.tackles', 'passing.attempts', 'passing.comp.pct', \n",
    "                'passing.completions', 'passing.games', 'passing.pass.ints', 'passing.pass.tds', 'passing.pass.yards', \n",
    "                'passing.seasons', 'rushing.games', 'rushing.rec.td', 'rushing.rec.yards', 'rushing.receptions', \n",
    "                'rushing.rush.att', 'rushing.rush.td', 'rushing.rush.yds', 'rushing.scrim.plays', 'rushing.scrim.tds', \n",
    "                'rushing.scrim.yds', 'rushing.seasons', 'receiving.games', 'receiving.rec.td', 'receiving.rec.yards', \n",
    "                'receiving.receptions', 'receiving.rush.att', 'receiving.rush.td', 'receiving.rush.yds', \n",
    "                'receiving.scrim.plays', 'receiving.scrim.tds', 'receiving.scrim.yds', \n",
    "                'receiving.seasons', 'num_missing_vals','drafted']].copy()"
   ]
  },
  {
   "cell_type": "code",
   "execution_count": 172,
   "metadata": {},
   "outputs": [],
   "source": [
    "#take out columns that have drafted information, keep just the personnal stats\n",
    "clean= dataset[[ 'weight', 'height_inches','drafted']].copy()"
   ]
  },
  {
   "cell_type": "code",
   "execution_count": 174,
   "metadata": {},
   "outputs": [
    {
     "name": "stdout",
     "output_type": "stream",
     "text": [
      "[226 305 242 221 191 249 210 205 315 241 209 188 271 206 300 234 309 250\n",
      " 230 307 224 204 194 237 198 312 239 314 200 236 298 190 240 238 254 266\n",
      " 280 222 256 308 247 264 228 251 232 202 216 281 208 253 227 196 211 255\n",
      " 336 193 214 310 195 294 189 197 320 203 338 342 212 183 335 199 319 231\n",
      " 287 217 201 245 225 306 302 252 185 173 169 184 207 244 258 243 218 215\n",
      " 219 295 275 186 262 220 160 248 192 317 233 285 213 288 283 166 327 187\n",
      " 303 260 316 322 277 318 296 293 267 313 257 324 265 299 180 311 269 297\n",
      " 292 175 223 301 259 246 229 321 181 263 235 325 286 270 291 329 347 304\n",
      " 261 334 273 274 178 176 323 182 272 268 177 331 353 330 284 171 289 339\n",
      " 179 290 279 282 355 352 174 332 165 337 163 276 328 168 369 348 345 346\n",
      " 172 361 326 358 278 149 354 170 364 333 341 344 351 350 366 356 340 155\n",
      " 167]\n",
      "[72 75 73 71 76 74 77 69 79 78 70 68 67 80 81 82 66 65]\n"
     ]
    }
   ],
   "source": [
    "print(clean.weight.unique())\n",
    "print(clean.height_inches.unique())\n",
    "\n",
    "\n",
    "#for cleanup if needed\n",
    "#clean['forty'] = clean['forty'].str.replace('nan','')\n",
    "#print(clean.forty.unique())"
   ]
  },
  {
   "cell_type": "code",
   "execution_count": 175,
   "metadata": {},
   "outputs": [
    {
     "data": {
      "text/html": [
       "<div>\n",
       "<style scoped>\n",
       "    .dataframe tbody tr th:only-of-type {\n",
       "        vertical-align: middle;\n",
       "    }\n",
       "\n",
       "    .dataframe tbody tr th {\n",
       "        vertical-align: top;\n",
       "    }\n",
       "\n",
       "    .dataframe thead th {\n",
       "        text-align: right;\n",
       "    }\n",
       "</style>\n",
       "<table border=\"1\" class=\"dataframe\">\n",
       "  <thead>\n",
       "    <tr style=\"text-align: right;\">\n",
       "      <th></th>\n",
       "      <th>weight</th>\n",
       "      <th>height_inches</th>\n",
       "      <th>drafted</th>\n",
       "    </tr>\n",
       "  </thead>\n",
       "  <tbody>\n",
       "    <tr>\n",
       "      <th>0</th>\n",
       "      <td>226</td>\n",
       "      <td>72</td>\n",
       "      <td>N</td>\n",
       "    </tr>\n",
       "    <tr>\n",
       "      <th>1</th>\n",
       "      <td>305</td>\n",
       "      <td>75</td>\n",
       "      <td>N</td>\n",
       "    </tr>\n",
       "    <tr>\n",
       "      <th>2</th>\n",
       "      <td>242</td>\n",
       "      <td>73</td>\n",
       "      <td>N</td>\n",
       "    </tr>\n",
       "    <tr>\n",
       "      <th>3</th>\n",
       "      <td>226</td>\n",
       "      <td>72</td>\n",
       "      <td>N</td>\n",
       "    </tr>\n",
       "    <tr>\n",
       "      <th>4</th>\n",
       "      <td>221</td>\n",
       "      <td>71</td>\n",
       "      <td>N</td>\n",
       "    </tr>\n",
       "  </tbody>\n",
       "</table>\n",
       "</div>"
      ],
      "text/plain": [
       "   weight  height_inches drafted\n",
       "0     226             72       N\n",
       "1     305             75       N\n",
       "2     242             73       N\n",
       "3     226             72       N\n",
       "4     221             71       N"
      ]
     },
     "execution_count": 175,
     "metadata": {},
     "output_type": "execute_result"
    }
   ],
   "source": [
    "clean.head(5)"
   ]
  },
  {
   "cell_type": "code",
   "execution_count": 176,
   "metadata": {},
   "outputs": [],
   "source": [
    "# Split-out validation dataset\n",
    "array = clean.values\n",
    "X = array[:,0:2]\n",
    "y = array[:,2]  #label: drafted [Y/N]"
   ]
  },
  {
   "cell_type": "code",
   "execution_count": 177,
   "metadata": {},
   "outputs": [
    {
     "data": {
      "text/plain": [
       "array([[226, 72],\n",
       "       [305, 75],\n",
       "       [242, 73],\n",
       "       ...,\n",
       "       [192, 73],\n",
       "       [204, 71],\n",
       "       [249, 76]], dtype=object)"
      ]
     },
     "execution_count": 177,
     "metadata": {},
     "output_type": "execute_result"
    }
   ],
   "source": [
    "X"
   ]
  },
  {
   "cell_type": "code",
   "execution_count": 178,
   "metadata": {},
   "outputs": [
    {
     "data": {
      "text/plain": [
       "array(['N', 'N', 'N', ..., 'Y', 'Y', 'Y'], dtype=object)"
      ]
     },
     "execution_count": 178,
     "metadata": {},
     "output_type": "execute_result"
    }
   ],
   "source": [
    "y"
   ]
  },
  {
   "cell_type": "code",
   "execution_count": 179,
   "metadata": {},
   "outputs": [],
   "source": [
    "X_train, X_validation, Y_train, Y_validation = train_test_split(X, y, test_size=0.20, random_state=1)"
   ]
  },
  {
   "cell_type": "code",
   "execution_count": 180,
   "metadata": {},
   "outputs": [
    {
     "data": {
      "text/plain": [
       "'Y'"
      ]
     },
     "execution_count": 180,
     "metadata": {},
     "output_type": "execute_result"
    }
   ],
   "source": [
    "Y_validation[0]"
   ]
  },
  {
   "cell_type": "code",
   "execution_count": 181,
   "metadata": {},
   "outputs": [
    {
     "name": "stdout",
     "output_type": "stream",
     "text": [
      "LR: 0.941653 (0.000919)\n",
      "LDA: 0.941653 (0.000919)\n",
      "KNN: 0.938956 (0.002982)\n",
      "CART: 0.914929 (0.011724)\n",
      "NB: 0.941653 (0.000919)\n",
      "SVM: 0.941653 (0.000919)\n"
     ]
    }
   ],
   "source": [
    "# Spot Check Algorithms\n",
    "models = []\n",
    "models.append(('LR', LogisticRegression(solver='liblinear', multi_class='ovr')))\n",
    "models.append(('LDA', LinearDiscriminantAnalysis()))\n",
    "models.append(('KNN', KNeighborsClassifier()))\n",
    "models.append(('CART', DecisionTreeClassifier()))\n",
    "models.append(('NB', GaussianNB()))\n",
    "models.append(('SVM', SVC(gamma='auto')))\n",
    "# evaluate each model in turn\n",
    "results = []\n",
    "names = []\n",
    "\n",
    "for name, model in models:\n",
    "    kfold = StratifiedKFold(n_splits=10, random_state=1, shuffle=True)\n",
    "    cv_results = cross_val_score(model, X_train, Y_train, cv=kfold, scoring='accuracy')\n",
    "    results.append(cv_results)\n",
    "    names.append(name)\n",
    "    print('%s: %f (%f)' % (name, cv_results.mean(), cv_results.std()))\n"
   ]
  },
  {
   "cell_type": "code",
   "execution_count": 182,
   "metadata": {},
   "outputs": [
    {
     "data": {
      "image/png": "[encoded data removed]",
      "text/plain": [
       "<Figure size 432x288 with 1 Axes>"
      ]
     },
     "metadata": {
      "needs_background": "light"
     },
     "output_type": "display_data"
    }
   ],
   "source": [
    "# Compare Algorithms\n",
    "pyplot.boxplot(results, labels=names)\n",
    "pyplot.title('Algorithm Comparison')\n",
    "pyplot.show()"
   ]
  },
  {
   "cell_type": "code",
   "execution_count": null,
   "metadata": {},
   "outputs": [],
   "source": []
  }
 ],
 "metadata": {
  "kernelspec": {
   "display_name": "Python 3",
   "language": "python",
   "name": "python3"
  },
  "language_info": {
   "codemirror_mode": {
    "name": "ipython",
    "version": 3
   },
   "file_extension": ".py",
   "mimetype": "text/x-python",
   "name": "python",
   "nbconvert_exporter": "python",
   "pygments_lexer": "ipython3",
   "version": "3.7.1"
  }
 },
 "nbformat": 4,
 "nbformat_minor": 2
}
