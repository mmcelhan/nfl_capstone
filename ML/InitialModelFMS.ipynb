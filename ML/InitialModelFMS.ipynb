{
 "cells": [
  {
   "cell_type": "code",
   "execution_count": 295,
   "metadata": {},
   "outputs": [],
   "source": [
    "#import libraries\n",
    "import os\n",
    "from pandas import read_csv\n",
    "import pandas as pd\n",
    "from matplotlib import pyplot\n",
    "from sklearn.model_selection import train_test_split\n",
    "from sklearn.model_selection import cross_val_score\n",
    "from sklearn.model_selection import StratifiedKFold\n",
    "from sklearn.linear_model import LogisticRegression\n",
    "from sklearn.tree import DecisionTreeClassifier\n",
    "from sklearn.neighbors import KNeighborsClassifier\n",
    "from sklearn.discriminant_analysis import LinearDiscriminantAnalysis\n",
    "from sklearn.naive_bayes import GaussianNB\n",
    "from sklearn.svm import SVC\n",
    "from sklearn.utils import shuffle\n",
    "%matplotlib inline\n",
    "\n",
    "import pandas_profiling\n",
    "\n",
    "\n",
    "from scipy.stats import skew, norm\n",
    "from scipy import stats\n",
    "from scipy.special import boxcox1p\n",
    "from sklearn.preprocessing import LabelEncoder, PolynomialFeatures, RobustScaler\n",
    "from sklearn import linear_model\n",
    "from sklearn.linear_model import ElasticNetCV, ElasticNet, LinearRegression, Lasso, LassoCV, Ridge, RidgeCV, LogisticRegression\n",
    "from sklearn.tree import DecisionTreeRegressor\n",
    "from sklearn.ensemble import AdaBoostRegressor, AdaBoostClassifier, ExtraTreesClassifier\n",
    "from sklearn.ensemble import GradientBoostingRegressor, GradientBoostingClassifier, RandomForestClassifier\n",
    "from sklearn.decomposition import PCA\n",
    "from sklearn.model_selection import GridSearchCV\n",
    "from sklearn.pipeline import make_pipeline, Pipeline\n",
    "from sklearn.preprocessing import RobustScaler\n",
    "from sklearn.metrics import r2_score, mean_squared_error, mean_squared_log_error, classification_report, accuracy_score\n",
    "from math import sqrt\n",
    "\n",
    "\n",
    "\n",
    "from lightgbm import LGBMRegressor\n",
    "import lightgbm as lgb"
   ]
  },
  {
   "cell_type": "code",
   "execution_count": 296,
   "metadata": {},
   "outputs": [
    {
     "name": "stdout",
     "output_type": "stream",
     "text": [
      "C:\\Users\\jonat\\Desktop\\capstone\\nfl2\\nfl_capstone\n",
      "C:\\Users\\jonat\\Desktop\\capstone\\nfl2\\nfl_capstone//data_mart//reporting_rb.csv\n"
     ]
    },
    {
     "data": {
      "text/html": [
       "<div>\n",
       "<style scoped>\n",
       "    .dataframe tbody tr th:only-of-type {\n",
       "        vertical-align: middle;\n",
       "    }\n",
       "\n",
       "    .dataframe tbody tr th {\n",
       "        vertical-align: top;\n",
       "    }\n",
       "\n",
       "    .dataframe thead th {\n",
       "        text-align: right;\n",
       "    }\n",
       "</style>\n",
       "<table border=\"1\" class=\"dataframe\">\n",
       "  <thead>\n",
       "    <tr style=\"text-align: right;\">\n",
       "      <th></th>\n",
       "      <th>espn_id</th>\n",
       "      <th>full_name</th>\n",
       "      <th>first_name</th>\n",
       "      <th>last_name</th>\n",
       "      <th>position</th>\n",
       "      <th>position_group</th>\n",
       "      <th>section</th>\n",
       "      <th>college</th>\n",
       "      <th>draft_year</th>\n",
       "      <th>selection_number</th>\n",
       "      <th>...</th>\n",
       "      <th>rushing_rec_yards</th>\n",
       "      <th>rushing_receptions</th>\n",
       "      <th>rushing_rush_att</th>\n",
       "      <th>rushing_rush_td</th>\n",
       "      <th>rushing_rush_yds</th>\n",
       "      <th>rushing_scrim_plays</th>\n",
       "      <th>rushing_scrim_tds</th>\n",
       "      <th>rushing_scrim_yds</th>\n",
       "      <th>rushing_seasons</th>\n",
       "      <th>max_madden</th>\n",
       "    </tr>\n",
       "    <tr>\n",
       "      <th>fms_id</th>\n",
       "      <th></th>\n",
       "      <th></th>\n",
       "      <th></th>\n",
       "      <th></th>\n",
       "      <th></th>\n",
       "      <th></th>\n",
       "      <th></th>\n",
       "      <th></th>\n",
       "      <th></th>\n",
       "      <th></th>\n",
       "      <th></th>\n",
       "      <th></th>\n",
       "      <th></th>\n",
       "      <th></th>\n",
       "      <th></th>\n",
       "      <th></th>\n",
       "      <th></th>\n",
       "      <th></th>\n",
       "      <th></th>\n",
       "      <th></th>\n",
       "      <th></th>\n",
       "    </tr>\n",
       "  </thead>\n",
       "  <tbody>\n",
       "    <tr>\n",
       "      <th>113</th>\n",
       "      <td>3886636.0</td>\n",
       "      <td>Alex Barnes</td>\n",
       "      <td>Alex</td>\n",
       "      <td>Barnes</td>\n",
       "      <td>RB</td>\n",
       "      <td>RB</td>\n",
       "      <td>O</td>\n",
       "      <td>Kansas State</td>\n",
       "      <td>2019</td>\n",
       "      <td>NaN</td>\n",
       "      <td>...</td>\n",
       "      <td>223</td>\n",
       "      <td>25</td>\n",
       "      <td>458</td>\n",
       "      <td>25</td>\n",
       "      <td>2616</td>\n",
       "      <td>483</td>\n",
       "      <td>25</td>\n",
       "      <td>2839</td>\n",
       "      <td>4</td>\n",
       "      <td>63.0</td>\n",
       "    </tr>\n",
       "    <tr>\n",
       "      <th>136</th>\n",
       "      <td>4048244.0</td>\n",
       "      <td>Alexander Mattison</td>\n",
       "      <td>Alexander</td>\n",
       "      <td>Mattison</td>\n",
       "      <td>RB</td>\n",
       "      <td>RB</td>\n",
       "      <td>O</td>\n",
       "      <td>Boise State</td>\n",
       "      <td>2019</td>\n",
       "      <td>NaN</td>\n",
       "      <td>...</td>\n",
       "      <td>511</td>\n",
       "      <td>60</td>\n",
       "      <td>581</td>\n",
       "      <td>33</td>\n",
       "      <td>2829</td>\n",
       "      <td>641</td>\n",
       "      <td>34</td>\n",
       "      <td>3340</td>\n",
       "      <td>3</td>\n",
       "      <td>68.0</td>\n",
       "    </tr>\n",
       "    <tr>\n",
       "      <th>414</th>\n",
       "      <td>NaN</td>\n",
       "      <td>Benny Snell</td>\n",
       "      <td>Benny</td>\n",
       "      <td>Snell</td>\n",
       "      <td>RB</td>\n",
       "      <td>RB</td>\n",
       "      <td>O</td>\n",
       "      <td>Kentucky</td>\n",
       "      <td>2019</td>\n",
       "      <td>NaN</td>\n",
       "      <td>...</td>\n",
       "      <td>216</td>\n",
       "      <td>29</td>\n",
       "      <td>737</td>\n",
       "      <td>48</td>\n",
       "      <td>3873</td>\n",
       "      <td>766</td>\n",
       "      <td>48</td>\n",
       "      <td>4089</td>\n",
       "      <td>3</td>\n",
       "      <td>69.0</td>\n",
       "    </tr>\n",
       "    <tr>\n",
       "      <th>645</th>\n",
       "      <td>3931398.0</td>\n",
       "      <td>Bryce Love</td>\n",
       "      <td>Bryce</td>\n",
       "      <td>Love</td>\n",
       "      <td>RB</td>\n",
       "      <td>RB</td>\n",
       "      <td>O</td>\n",
       "      <td>Stanford</td>\n",
       "      <td>2019</td>\n",
       "      <td>NaN</td>\n",
       "      <td>...</td>\n",
       "      <td>465</td>\n",
       "      <td>49</td>\n",
       "      <td>569</td>\n",
       "      <td>30</td>\n",
       "      <td>3865</td>\n",
       "      <td>618</td>\n",
       "      <td>32</td>\n",
       "      <td>4330</td>\n",
       "      <td>4</td>\n",
       "      <td>71.0</td>\n",
       "    </tr>\n",
       "    <tr>\n",
       "      <th>1182</th>\n",
       "      <td>3925347.0</td>\n",
       "      <td>Damien Harris</td>\n",
       "      <td>Damien</td>\n",
       "      <td>Harris</td>\n",
       "      <td>RB</td>\n",
       "      <td>RB</td>\n",
       "      <td>O</td>\n",
       "      <td>Alabama</td>\n",
       "      <td>2019</td>\n",
       "      <td>NaN</td>\n",
       "      <td>...</td>\n",
       "      <td>407</td>\n",
       "      <td>52</td>\n",
       "      <td>477</td>\n",
       "      <td>23</td>\n",
       "      <td>3070</td>\n",
       "      <td>529</td>\n",
       "      <td>25</td>\n",
       "      <td>3477</td>\n",
       "      <td>4</td>\n",
       "      <td>69.0</td>\n",
       "    </tr>\n",
       "  </tbody>\n",
       "</table>\n",
       "<p>5 rows × 37 columns</p>\n",
       "</div>"
      ],
      "text/plain": [
       "          espn_id           full_name first_name last_name position  \\\n",
       "fms_id                                                                \n",
       "113     3886636.0         Alex Barnes       Alex    Barnes       RB   \n",
       "136     4048244.0  Alexander Mattison  Alexander  Mattison       RB   \n",
       "414           NaN         Benny Snell      Benny     Snell       RB   \n",
       "645     3931398.0          Bryce Love      Bryce      Love       RB   \n",
       "1182    3925347.0       Damien Harris     Damien    Harris       RB   \n",
       "\n",
       "       position_group section       college  draft_year  selection_number  \\\n",
       "fms_id                                                                      \n",
       "113                RB       O  Kansas State        2019               NaN   \n",
       "136                RB       O   Boise State        2019               NaN   \n",
       "414                RB       O      Kentucky        2019               NaN   \n",
       "645                RB       O      Stanford        2019               NaN   \n",
       "1182               RB       O       Alabama        2019               NaN   \n",
       "\n",
       "        ...  rushing_rec_yards  rushing_receptions  rushing_rush_att  \\\n",
       "fms_id  ...                                                            \n",
       "113     ...                223                  25               458   \n",
       "136     ...                511                  60               581   \n",
       "414     ...                216                  29               737   \n",
       "645     ...                465                  49               569   \n",
       "1182    ...                407                  52               477   \n",
       "\n",
       "       rushing_rush_td rushing_rush_yds rushing_scrim_plays rushing_scrim_tds  \\\n",
       "fms_id                                                                          \n",
       "113                 25             2616                 483                25   \n",
       "136                 33             2829                 641                34   \n",
       "414                 48             3873                 766                48   \n",
       "645                 30             3865                 618                32   \n",
       "1182                23             3070                 529                25   \n",
       "\n",
       "        rushing_scrim_yds  rushing_seasons  max_madden  \n",
       "fms_id                                                  \n",
       "113                  2839                4        63.0  \n",
       "136                  3340                3        68.0  \n",
       "414                  4089                3        69.0  \n",
       "645                  4330                4        71.0  \n",
       "1182                 3477                4        69.0  \n",
       "\n",
       "[5 rows x 37 columns]"
      ]
     },
     "execution_count": 296,
     "metadata": {},
     "output_type": "execute_result"
    }
   ],
   "source": [
    "#import data\n",
    "current_path = os.getcwd()\n",
    "current_path = os.path.dirname(current_path)\n",
    "print(current_path)\n",
    "#C:\\Users\\jonat\\Desktop\\capstone\\nfl2\\nfl_capstone\\data_mart\n",
    "dataset = current_path + '//data_mart//reporting_rb.csv'\n",
    "print(dataset)\n",
    "dataset = pd.read_csv(dataset, index_col = 0)\n",
    "dataset.head()\n",
    "\n",
    "#https://stackoverflow.com/questions/9856683/using-pythons-os-path-how-do-i-go-up-one-directory"
   ]
  },
  {
   "cell_type": "code",
   "execution_count": 297,
   "metadata": {},
   "outputs": [],
   "source": [
    "#pandas_profiling.ProfileReport(dataset)"
   ]
  },
  {
   "cell_type": "code",
   "execution_count": 298,
   "metadata": {},
   "outputs": [
    {
     "data": {
      "text/html": [
       "<div>\n",
       "<style scoped>\n",
       "    .dataframe tbody tr th:only-of-type {\n",
       "        vertical-align: middle;\n",
       "    }\n",
       "\n",
       "    .dataframe tbody tr th {\n",
       "        vertical-align: top;\n",
       "    }\n",
       "\n",
       "    .dataframe thead th {\n",
       "        text-align: right;\n",
       "    }\n",
       "</style>\n",
       "<table border=\"1\" class=\"dataframe\">\n",
       "  <thead>\n",
       "    <tr style=\"text-align: right;\">\n",
       "      <th></th>\n",
       "      <th>espn_id</th>\n",
       "      <th>draft_year</th>\n",
       "      <th>selection_number</th>\n",
       "      <th>position_rank</th>\n",
       "      <th>position_group_rank</th>\n",
       "      <th>section_rank</th>\n",
       "      <th>college_weight_pounds</th>\n",
       "      <th>college_height_inches</th>\n",
       "      <th>forty</th>\n",
       "      <th>vertical</th>\n",
       "      <th>...</th>\n",
       "      <th>rushing_rec_yards</th>\n",
       "      <th>rushing_receptions</th>\n",
       "      <th>rushing_rush_att</th>\n",
       "      <th>rushing_rush_td</th>\n",
       "      <th>rushing_rush_yds</th>\n",
       "      <th>rushing_scrim_plays</th>\n",
       "      <th>rushing_scrim_tds</th>\n",
       "      <th>rushing_scrim_yds</th>\n",
       "      <th>rushing_seasons</th>\n",
       "      <th>max_madden</th>\n",
       "    </tr>\n",
       "  </thead>\n",
       "  <tbody>\n",
       "    <tr>\n",
       "      <th>count</th>\n",
       "      <td>6.500000e+01</td>\n",
       "      <td>528.000000</td>\n",
       "      <td>501.000000</td>\n",
       "      <td>501.000000</td>\n",
       "      <td>501.000000</td>\n",
       "      <td>501.000000</td>\n",
       "      <td>528.000000</td>\n",
       "      <td>528.000000</td>\n",
       "      <td>515.000000</td>\n",
       "      <td>430.000000</td>\n",
       "      <td>...</td>\n",
       "      <td>528.000000</td>\n",
       "      <td>528.000000</td>\n",
       "      <td>528.000000</td>\n",
       "      <td>528.000000</td>\n",
       "      <td>528.000000</td>\n",
       "      <td>528.000000</td>\n",
       "      <td>528.000000</td>\n",
       "      <td>528.000000</td>\n",
       "      <td>528.000000</td>\n",
       "      <td>210.000000</td>\n",
       "    </tr>\n",
       "    <tr>\n",
       "      <th>mean</th>\n",
       "      <td>3.365359e+06</td>\n",
       "      <td>2009.719697</td>\n",
       "      <td>188.520958</td>\n",
       "      <td>14.103792</td>\n",
       "      <td>16.317365</td>\n",
       "      <td>65.900200</td>\n",
       "      <td>214.660985</td>\n",
       "      <td>70.558712</td>\n",
       "      <td>4.555864</td>\n",
       "      <td>34.360465</td>\n",
       "      <td>...</td>\n",
       "      <td>461.035985</td>\n",
       "      <td>50.318182</td>\n",
       "      <td>491.208333</td>\n",
       "      <td>25.405303</td>\n",
       "      <td>2626.901515</td>\n",
       "      <td>541.526515</td>\n",
       "      <td>28.062500</td>\n",
       "      <td>3087.937500</td>\n",
       "      <td>3.418561</td>\n",
       "      <td>75.576190</td>\n",
       "    </tr>\n",
       "    <tr>\n",
       "      <th>std</th>\n",
       "      <td>1.126266e+06</td>\n",
       "      <td>5.781689</td>\n",
       "      <td>106.229384</td>\n",
       "      <td>8.192509</td>\n",
       "      <td>10.247394</td>\n",
       "      <td>37.621989</td>\n",
       "      <td>14.195726</td>\n",
       "      <td>1.743614</td>\n",
       "      <td>0.110107</td>\n",
       "      <td>3.016129</td>\n",
       "      <td>...</td>\n",
       "      <td>333.294834</td>\n",
       "      <td>35.605219</td>\n",
       "      <td>212.733190</td>\n",
       "      <td>13.258864</td>\n",
       "      <td>1144.688323</td>\n",
       "      <td>229.564234</td>\n",
       "      <td>14.196435</td>\n",
       "      <td>1299.326719</td>\n",
       "      <td>0.928669</td>\n",
       "      <td>8.370397</td>\n",
       "    </tr>\n",
       "    <tr>\n",
       "      <th>min</th>\n",
       "      <td>5.454230e+05</td>\n",
       "      <td>2000.000000</td>\n",
       "      <td>2.000000</td>\n",
       "      <td>1.000000</td>\n",
       "      <td>1.000000</td>\n",
       "      <td>1.000000</td>\n",
       "      <td>168.000000</td>\n",
       "      <td>66.000000</td>\n",
       "      <td>4.240000</td>\n",
       "      <td>25.500000</td>\n",
       "      <td>...</td>\n",
       "      <td>0.000000</td>\n",
       "      <td>0.000000</td>\n",
       "      <td>0.000000</td>\n",
       "      <td>0.000000</td>\n",
       "      <td>0.000000</td>\n",
       "      <td>0.000000</td>\n",
       "      <td>0.000000</td>\n",
       "      <td>0.000000</td>\n",
       "      <td>0.000000</td>\n",
       "      <td>60.000000</td>\n",
       "    </tr>\n",
       "    <tr>\n",
       "      <th>25%</th>\n",
       "      <td>3.127335e+06</td>\n",
       "      <td>2005.000000</td>\n",
       "      <td>90.000000</td>\n",
       "      <td>7.000000</td>\n",
       "      <td>7.000000</td>\n",
       "      <td>32.000000</td>\n",
       "      <td>206.000000</td>\n",
       "      <td>69.000000</td>\n",
       "      <td>4.480000</td>\n",
       "      <td>32.500000</td>\n",
       "      <td>...</td>\n",
       "      <td>224.750000</td>\n",
       "      <td>26.000000</td>\n",
       "      <td>346.750000</td>\n",
       "      <td>16.000000</td>\n",
       "      <td>1845.500000</td>\n",
       "      <td>380.500000</td>\n",
       "      <td>19.000000</td>\n",
       "      <td>2224.750000</td>\n",
       "      <td>3.000000</td>\n",
       "      <td>69.250000</td>\n",
       "    </tr>\n",
       "    <tr>\n",
       "      <th>50%</th>\n",
       "      <td>3.915381e+06</td>\n",
       "      <td>2010.000000</td>\n",
       "      <td>195.000000</td>\n",
       "      <td>14.000000</td>\n",
       "      <td>16.000000</td>\n",
       "      <td>65.000000</td>\n",
       "      <td>214.500000</td>\n",
       "      <td>71.000000</td>\n",
       "      <td>4.560000</td>\n",
       "      <td>34.000000</td>\n",
       "      <td>...</td>\n",
       "      <td>395.500000</td>\n",
       "      <td>44.000000</td>\n",
       "      <td>487.500000</td>\n",
       "      <td>24.000000</td>\n",
       "      <td>2593.000000</td>\n",
       "      <td>532.000000</td>\n",
       "      <td>27.000000</td>\n",
       "      <td>3102.000000</td>\n",
       "      <td>4.000000</td>\n",
       "      <td>74.500000</td>\n",
       "    </tr>\n",
       "    <tr>\n",
       "      <th>75%</th>\n",
       "      <td>4.035006e+06</td>\n",
       "      <td>2015.000000</td>\n",
       "      <td>300.000000</td>\n",
       "      <td>21.000000</td>\n",
       "      <td>25.000000</td>\n",
       "      <td>96.000000</td>\n",
       "      <td>224.000000</td>\n",
       "      <td>72.000000</td>\n",
       "      <td>4.630000</td>\n",
       "      <td>36.000000</td>\n",
       "      <td>...</td>\n",
       "      <td>641.250000</td>\n",
       "      <td>66.000000</td>\n",
       "      <td>617.250000</td>\n",
       "      <td>33.000000</td>\n",
       "      <td>3325.000000</td>\n",
       "      <td>677.000000</td>\n",
       "      <td>36.000000</td>\n",
       "      <td>3912.500000</td>\n",
       "      <td>4.000000</td>\n",
       "      <td>82.000000</td>\n",
       "    </tr>\n",
       "    <tr>\n",
       "      <th>max</th>\n",
       "      <td>4.372601e+06</td>\n",
       "      <td>2019.000000</td>\n",
       "      <td>300.000000</td>\n",
       "      <td>34.000000</td>\n",
       "      <td>44.000000</td>\n",
       "      <td>148.000000</td>\n",
       "      <td>267.000000</td>\n",
       "      <td>76.000000</td>\n",
       "      <td>4.930000</td>\n",
       "      <td>43.000000</td>\n",
       "      <td>...</td>\n",
       "      <td>2059.000000</td>\n",
       "      <td>303.000000</td>\n",
       "      <td>1220.000000</td>\n",
       "      <td>77.000000</td>\n",
       "      <td>7125.000000</td>\n",
       "      <td>1264.000000</td>\n",
       "      <td>87.000000</td>\n",
       "      <td>7444.000000</td>\n",
       "      <td>6.000000</td>\n",
       "      <td>97.000000</td>\n",
       "    </tr>\n",
       "  </tbody>\n",
       "</table>\n",
       "<p>8 rows × 26 columns</p>\n",
       "</div>"
      ],
      "text/plain": [
       "            espn_id   draft_year  selection_number  position_rank  \\\n",
       "count  6.500000e+01   528.000000        501.000000     501.000000   \n",
       "mean   3.365359e+06  2009.719697        188.520958      14.103792   \n",
       "std    1.126266e+06     5.781689        106.229384       8.192509   \n",
       "min    5.454230e+05  2000.000000          2.000000       1.000000   \n",
       "25%    3.127335e+06  2005.000000         90.000000       7.000000   \n",
       "50%    3.915381e+06  2010.000000        195.000000      14.000000   \n",
       "75%    4.035006e+06  2015.000000        300.000000      21.000000   \n",
       "max    4.372601e+06  2019.000000        300.000000      34.000000   \n",
       "\n",
       "       position_group_rank  section_rank  college_weight_pounds  \\\n",
       "count           501.000000    501.000000             528.000000   \n",
       "mean             16.317365     65.900200             214.660985   \n",
       "std              10.247394     37.621989              14.195726   \n",
       "min               1.000000      1.000000             168.000000   \n",
       "25%               7.000000     32.000000             206.000000   \n",
       "50%              16.000000     65.000000             214.500000   \n",
       "75%              25.000000     96.000000             224.000000   \n",
       "max              44.000000    148.000000             267.000000   \n",
       "\n",
       "       college_height_inches       forty    vertical  ...  rushing_rec_yards  \\\n",
       "count             528.000000  515.000000  430.000000  ...         528.000000   \n",
       "mean               70.558712    4.555864   34.360465  ...         461.035985   \n",
       "std                 1.743614    0.110107    3.016129  ...         333.294834   \n",
       "min                66.000000    4.240000   25.500000  ...           0.000000   \n",
       "25%                69.000000    4.480000   32.500000  ...         224.750000   \n",
       "50%                71.000000    4.560000   34.000000  ...         395.500000   \n",
       "75%                72.000000    4.630000   36.000000  ...         641.250000   \n",
       "max                76.000000    4.930000   43.000000  ...        2059.000000   \n",
       "\n",
       "       rushing_receptions  rushing_rush_att  rushing_rush_td  \\\n",
       "count          528.000000        528.000000       528.000000   \n",
       "mean            50.318182        491.208333        25.405303   \n",
       "std             35.605219        212.733190        13.258864   \n",
       "min              0.000000          0.000000         0.000000   \n",
       "25%             26.000000        346.750000        16.000000   \n",
       "50%             44.000000        487.500000        24.000000   \n",
       "75%             66.000000        617.250000        33.000000   \n",
       "max            303.000000       1220.000000        77.000000   \n",
       "\n",
       "       rushing_rush_yds  rushing_scrim_plays  rushing_scrim_tds  \\\n",
       "count        528.000000           528.000000         528.000000   \n",
       "mean        2626.901515           541.526515          28.062500   \n",
       "std         1144.688323           229.564234          14.196435   \n",
       "min            0.000000             0.000000           0.000000   \n",
       "25%         1845.500000           380.500000          19.000000   \n",
       "50%         2593.000000           532.000000          27.000000   \n",
       "75%         3325.000000           677.000000          36.000000   \n",
       "max         7125.000000          1264.000000          87.000000   \n",
       "\n",
       "       rushing_scrim_yds  rushing_seasons  max_madden  \n",
       "count         528.000000       528.000000  210.000000  \n",
       "mean         3087.937500         3.418561   75.576190  \n",
       "std          1299.326719         0.928669    8.370397  \n",
       "min             0.000000         0.000000   60.000000  \n",
       "25%          2224.750000         3.000000   69.250000  \n",
       "50%          3102.000000         4.000000   74.500000  \n",
       "75%          3912.500000         4.000000   82.000000  \n",
       "max          7444.000000         6.000000   97.000000  \n",
       "\n",
       "[8 rows x 26 columns]"
      ]
     },
     "execution_count": 298,
     "metadata": {},
     "output_type": "execute_result"
    }
   ],
   "source": [
    "dataset.describe()"
   ]
  },
  {
   "cell_type": "code",
   "execution_count": 299,
   "metadata": {},
   "outputs": [
    {
     "data": {
      "text/plain": [
       "75.57619047619048"
      ]
     },
     "execution_count": 299,
     "metadata": {},
     "output_type": "execute_result"
    }
   ],
   "source": [
    "dataset['max_madden'].mean()"
   ]
  },
  {
   "cell_type": "code",
   "execution_count": 300,
   "metadata": {},
   "outputs": [
    {
     "name": "stdout",
     "output_type": "stream",
     "text": [
      "['espn_id', 'selection_number', 'position_rank', 'position_group_rank', 'section_rank', 'drafting_team', 'home_city', 'home_state', 'home_country', 'forty', 'vertical', 'bench', 'broad', 'threecone', 'shuttle', 'max_madden']\n"
     ]
    }
   ],
   "source": [
    "#determine which columns have None values\n",
    "none_columns = []\n",
    "for x in dataset.columns:\n",
    "    if dataset[x].isnull().values.any() == True:\n",
    "        none_columns.append(x)\n",
    "print(none_columns)"
   ]
  },
  {
   "cell_type": "code",
   "execution_count": 301,
   "metadata": {},
   "outputs": [
    {
     "name": "stdout",
     "output_type": "stream",
     "text": [
      "{'espn_id': 0, 'selection_number': 400, 'position_rank': 400, 'position_group_rank': 400, 'section_rank': 400, 'drafting_team': 'No Team', 'home_city': 'No City', 'home_state': 'No State', 'home_country': 'USA', 'forty': 4.555864077669903, 'vertical': 34.36046511627907, 'bench': 19.439205955334987, 'broad': 118.00710900473933, 'threecone': 7.062781456953642, 'shuttle': 4.2639016393442635, 'max_madden': 50.0}\n"
     ]
    }
   ],
   "source": [
    "#Deal with None Values\n",
    "none_dict = {'espn_id': 0,    \n",
    "    'selection_number': 400,\n",
    "    'position_rank': 400,\n",
    "    'position_group_rank': 400,\n",
    "    'section_rank': 400,\n",
    "    'drafting_team': 'No Team',\n",
    "    'home_city': 'No City',\n",
    "    'home_state': 'No State',\n",
    "    'home_country': 'USA',\n",
    "    'forty': dataset['forty'].mean(),\n",
    "    'vertical': dataset['vertical'].mean(), \n",
    "    'bench': dataset['bench'].mean(), \n",
    "    'broad': dataset['broad'].mean(),\n",
    "    'threecone': dataset['threecone'].mean(),\n",
    "    'shuttle': dataset['shuttle'].mean(),\n",
    "    'max_madden': dataset['max_madden'].min() - 10}\n",
    "\n",
    "print(none_dict)\n",
    "\n",
    "for none_col in none_columns:\n",
    "    dataset[none_col] = dataset[none_col].fillna(none_dict[none_col])\n",
    "   \n",
    "\n",
    "#https://jakevdp.github.io/PythonDataScienceHandbook/03.04-missing-values.html"
   ]
  },
  {
   "cell_type": "code",
   "execution_count": 302,
   "metadata": {},
   "outputs": [
    {
     "data": {
      "text/html": [
       "<div>\n",
       "<style scoped>\n",
       "    .dataframe tbody tr th:only-of-type {\n",
       "        vertical-align: middle;\n",
       "    }\n",
       "\n",
       "    .dataframe tbody tr th {\n",
       "        vertical-align: top;\n",
       "    }\n",
       "\n",
       "    .dataframe thead th {\n",
       "        text-align: right;\n",
       "    }\n",
       "</style>\n",
       "<table border=\"1\" class=\"dataframe\">\n",
       "  <thead>\n",
       "    <tr style=\"text-align: right;\">\n",
       "      <th></th>\n",
       "      <th>espn_id</th>\n",
       "      <th>full_name</th>\n",
       "      <th>first_name</th>\n",
       "      <th>last_name</th>\n",
       "      <th>position</th>\n",
       "      <th>position_group</th>\n",
       "      <th>section</th>\n",
       "      <th>college</th>\n",
       "      <th>draft_year</th>\n",
       "      <th>selection_number</th>\n",
       "      <th>...</th>\n",
       "      <th>rushing_rec_yards</th>\n",
       "      <th>rushing_receptions</th>\n",
       "      <th>rushing_rush_att</th>\n",
       "      <th>rushing_rush_td</th>\n",
       "      <th>rushing_rush_yds</th>\n",
       "      <th>rushing_scrim_plays</th>\n",
       "      <th>rushing_scrim_tds</th>\n",
       "      <th>rushing_scrim_yds</th>\n",
       "      <th>rushing_seasons</th>\n",
       "      <th>max_madden</th>\n",
       "    </tr>\n",
       "    <tr>\n",
       "      <th>fms_id</th>\n",
       "      <th></th>\n",
       "      <th></th>\n",
       "      <th></th>\n",
       "      <th></th>\n",
       "      <th></th>\n",
       "      <th></th>\n",
       "      <th></th>\n",
       "      <th></th>\n",
       "      <th></th>\n",
       "      <th></th>\n",
       "      <th></th>\n",
       "      <th></th>\n",
       "      <th></th>\n",
       "      <th></th>\n",
       "      <th></th>\n",
       "      <th></th>\n",
       "      <th></th>\n",
       "      <th></th>\n",
       "      <th></th>\n",
       "      <th></th>\n",
       "      <th></th>\n",
       "    </tr>\n",
       "  </thead>\n",
       "  <tbody>\n",
       "    <tr>\n",
       "      <th>113</th>\n",
       "      <td>3886636.0</td>\n",
       "      <td>Alex Barnes</td>\n",
       "      <td>Alex</td>\n",
       "      <td>Barnes</td>\n",
       "      <td>RB</td>\n",
       "      <td>RB</td>\n",
       "      <td>O</td>\n",
       "      <td>Kansas State</td>\n",
       "      <td>2019</td>\n",
       "      <td>400.0</td>\n",
       "      <td>...</td>\n",
       "      <td>223</td>\n",
       "      <td>25</td>\n",
       "      <td>458</td>\n",
       "      <td>25</td>\n",
       "      <td>2616</td>\n",
       "      <td>483</td>\n",
       "      <td>25</td>\n",
       "      <td>2839</td>\n",
       "      <td>4</td>\n",
       "      <td>63.0</td>\n",
       "    </tr>\n",
       "    <tr>\n",
       "      <th>136</th>\n",
       "      <td>4048244.0</td>\n",
       "      <td>Alexander Mattison</td>\n",
       "      <td>Alexander</td>\n",
       "      <td>Mattison</td>\n",
       "      <td>RB</td>\n",
       "      <td>RB</td>\n",
       "      <td>O</td>\n",
       "      <td>Boise State</td>\n",
       "      <td>2019</td>\n",
       "      <td>400.0</td>\n",
       "      <td>...</td>\n",
       "      <td>511</td>\n",
       "      <td>60</td>\n",
       "      <td>581</td>\n",
       "      <td>33</td>\n",
       "      <td>2829</td>\n",
       "      <td>641</td>\n",
       "      <td>34</td>\n",
       "      <td>3340</td>\n",
       "      <td>3</td>\n",
       "      <td>68.0</td>\n",
       "    </tr>\n",
       "    <tr>\n",
       "      <th>414</th>\n",
       "      <td>0.0</td>\n",
       "      <td>Benny Snell</td>\n",
       "      <td>Benny</td>\n",
       "      <td>Snell</td>\n",
       "      <td>RB</td>\n",
       "      <td>RB</td>\n",
       "      <td>O</td>\n",
       "      <td>Kentucky</td>\n",
       "      <td>2019</td>\n",
       "      <td>400.0</td>\n",
       "      <td>...</td>\n",
       "      <td>216</td>\n",
       "      <td>29</td>\n",
       "      <td>737</td>\n",
       "      <td>48</td>\n",
       "      <td>3873</td>\n",
       "      <td>766</td>\n",
       "      <td>48</td>\n",
       "      <td>4089</td>\n",
       "      <td>3</td>\n",
       "      <td>69.0</td>\n",
       "    </tr>\n",
       "    <tr>\n",
       "      <th>645</th>\n",
       "      <td>3931398.0</td>\n",
       "      <td>Bryce Love</td>\n",
       "      <td>Bryce</td>\n",
       "      <td>Love</td>\n",
       "      <td>RB</td>\n",
       "      <td>RB</td>\n",
       "      <td>O</td>\n",
       "      <td>Stanford</td>\n",
       "      <td>2019</td>\n",
       "      <td>400.0</td>\n",
       "      <td>...</td>\n",
       "      <td>465</td>\n",
       "      <td>49</td>\n",
       "      <td>569</td>\n",
       "      <td>30</td>\n",
       "      <td>3865</td>\n",
       "      <td>618</td>\n",
       "      <td>32</td>\n",
       "      <td>4330</td>\n",
       "      <td>4</td>\n",
       "      <td>71.0</td>\n",
       "    </tr>\n",
       "    <tr>\n",
       "      <th>1182</th>\n",
       "      <td>3925347.0</td>\n",
       "      <td>Damien Harris</td>\n",
       "      <td>Damien</td>\n",
       "      <td>Harris</td>\n",
       "      <td>RB</td>\n",
       "      <td>RB</td>\n",
       "      <td>O</td>\n",
       "      <td>Alabama</td>\n",
       "      <td>2019</td>\n",
       "      <td>400.0</td>\n",
       "      <td>...</td>\n",
       "      <td>407</td>\n",
       "      <td>52</td>\n",
       "      <td>477</td>\n",
       "      <td>23</td>\n",
       "      <td>3070</td>\n",
       "      <td>529</td>\n",
       "      <td>25</td>\n",
       "      <td>3477</td>\n",
       "      <td>4</td>\n",
       "      <td>69.0</td>\n",
       "    </tr>\n",
       "  </tbody>\n",
       "</table>\n",
       "<p>5 rows × 37 columns</p>\n",
       "</div>"
      ],
      "text/plain": [
       "          espn_id           full_name first_name last_name position  \\\n",
       "fms_id                                                                \n",
       "113     3886636.0         Alex Barnes       Alex    Barnes       RB   \n",
       "136     4048244.0  Alexander Mattison  Alexander  Mattison       RB   \n",
       "414           0.0         Benny Snell      Benny     Snell       RB   \n",
       "645     3931398.0          Bryce Love      Bryce      Love       RB   \n",
       "1182    3925347.0       Damien Harris     Damien    Harris       RB   \n",
       "\n",
       "       position_group section       college  draft_year  selection_number  \\\n",
       "fms_id                                                                      \n",
       "113                RB       O  Kansas State        2019             400.0   \n",
       "136                RB       O   Boise State        2019             400.0   \n",
       "414                RB       O      Kentucky        2019             400.0   \n",
       "645                RB       O      Stanford        2019             400.0   \n",
       "1182               RB       O       Alabama        2019             400.0   \n",
       "\n",
       "        ...  rushing_rec_yards  rushing_receptions  rushing_rush_att  \\\n",
       "fms_id  ...                                                            \n",
       "113     ...                223                  25               458   \n",
       "136     ...                511                  60               581   \n",
       "414     ...                216                  29               737   \n",
       "645     ...                465                  49               569   \n",
       "1182    ...                407                  52               477   \n",
       "\n",
       "       rushing_rush_td rushing_rush_yds rushing_scrim_plays rushing_scrim_tds  \\\n",
       "fms_id                                                                          \n",
       "113                 25             2616                 483                25   \n",
       "136                 33             2829                 641                34   \n",
       "414                 48             3873                 766                48   \n",
       "645                 30             3865                 618                32   \n",
       "1182                23             3070                 529                25   \n",
       "\n",
       "        rushing_scrim_yds  rushing_seasons  max_madden  \n",
       "fms_id                                                  \n",
       "113                  2839                4        63.0  \n",
       "136                  3340                3        68.0  \n",
       "414                  4089                3        69.0  \n",
       "645                  4330                4        71.0  \n",
       "1182                 3477                4        69.0  \n",
       "\n",
       "[5 rows x 37 columns]"
      ]
     },
     "execution_count": 302,
     "metadata": {},
     "output_type": "execute_result"
    }
   ],
   "source": [
    "dataset.head()"
   ]
  },
  {
   "cell_type": "code",
   "execution_count": 330,
   "metadata": {},
   "outputs": [
    {
     "ename": "ZeroDivisionError",
     "evalue": "division by zero",
     "output_type": "error",
     "traceback": [
      "\u001b[1;31m---------------------------------------------------------------------------\u001b[0m",
      "\u001b[1;31mZeroDivisionError\u001b[0m                         Traceback (most recent call last)",
      "\u001b[1;32m<ipython-input-330-1f6331ab2d69>\u001b[0m in \u001b[0;36m<module>\u001b[1;34m\u001b[0m\n\u001b[0;32m     19\u001b[0m \u001b[1;33m\u001b[0m\u001b[0m\n\u001b[0;32m     20\u001b[0m \u001b[1;33m\u001b[0m\u001b[0m\n\u001b[1;32m---> 21\u001b[1;33m \u001b[0mdataset\u001b[0m \u001b[1;33m=\u001b[0m \u001b[0mdataset\u001b[0m\u001b[1;33m.\u001b[0m\u001b[0mapply\u001b[0m\u001b[1;33m(\u001b[0m\u001b[0mgame_avg\u001b[0m\u001b[1;33m,\u001b[0m \u001b[0maxis\u001b[0m\u001b[1;33m=\u001b[0m\u001b[1;36m1\u001b[0m\u001b[1;33m)\u001b[0m\u001b[1;33m\u001b[0m\u001b[1;33m\u001b[0m\u001b[0m\n\u001b[0m",
      "\u001b[1;32m~\\Anaconda3\\envs\\tf-gpu2.0\\lib\\site-packages\\pandas\\core\\frame.py\u001b[0m in \u001b[0;36mapply\u001b[1;34m(self, func, axis, raw, result_type, args, **kwds)\u001b[0m\n\u001b[0;32m   6876\u001b[0m             \u001b[0mkwds\u001b[0m\u001b[1;33m=\u001b[0m\u001b[0mkwds\u001b[0m\u001b[1;33m,\u001b[0m\u001b[1;33m\u001b[0m\u001b[1;33m\u001b[0m\u001b[0m\n\u001b[0;32m   6877\u001b[0m         )\n\u001b[1;32m-> 6878\u001b[1;33m         \u001b[1;32mreturn\u001b[0m \u001b[0mop\u001b[0m\u001b[1;33m.\u001b[0m\u001b[0mget_result\u001b[0m\u001b[1;33m(\u001b[0m\u001b[1;33m)\u001b[0m\u001b[1;33m\u001b[0m\u001b[1;33m\u001b[0m\u001b[0m\n\u001b[0m\u001b[0;32m   6879\u001b[0m \u001b[1;33m\u001b[0m\u001b[0m\n\u001b[0;32m   6880\u001b[0m     \u001b[1;32mdef\u001b[0m \u001b[0mapplymap\u001b[0m\u001b[1;33m(\u001b[0m\u001b[0mself\u001b[0m\u001b[1;33m,\u001b[0m \u001b[0mfunc\u001b[0m\u001b[1;33m)\u001b[0m \u001b[1;33m->\u001b[0m \u001b[1;34m\"DataFrame\"\u001b[0m\u001b[1;33m:\u001b[0m\u001b[1;33m\u001b[0m\u001b[1;33m\u001b[0m\u001b[0m\n",
      "\u001b[1;32m~\\Anaconda3\\envs\\tf-gpu2.0\\lib\\site-packages\\pandas\\core\\apply.py\u001b[0m in \u001b[0;36mget_result\u001b[1;34m(self)\u001b[0m\n\u001b[0;32m    184\u001b[0m             \u001b[1;32mreturn\u001b[0m \u001b[0mself\u001b[0m\u001b[1;33m.\u001b[0m\u001b[0mapply_raw\u001b[0m\u001b[1;33m(\u001b[0m\u001b[1;33m)\u001b[0m\u001b[1;33m\u001b[0m\u001b[1;33m\u001b[0m\u001b[0m\n\u001b[0;32m    185\u001b[0m \u001b[1;33m\u001b[0m\u001b[0m\n\u001b[1;32m--> 186\u001b[1;33m         \u001b[1;32mreturn\u001b[0m \u001b[0mself\u001b[0m\u001b[1;33m.\u001b[0m\u001b[0mapply_standard\u001b[0m\u001b[1;33m(\u001b[0m\u001b[1;33m)\u001b[0m\u001b[1;33m\u001b[0m\u001b[1;33m\u001b[0m\u001b[0m\n\u001b[0m\u001b[0;32m    187\u001b[0m \u001b[1;33m\u001b[0m\u001b[0m\n\u001b[0;32m    188\u001b[0m     \u001b[1;32mdef\u001b[0m \u001b[0mapply_empty_result\u001b[0m\u001b[1;33m(\u001b[0m\u001b[0mself\u001b[0m\u001b[1;33m)\u001b[0m\u001b[1;33m:\u001b[0m\u001b[1;33m\u001b[0m\u001b[1;33m\u001b[0m\u001b[0m\n",
      "\u001b[1;32m~\\Anaconda3\\envs\\tf-gpu2.0\\lib\\site-packages\\pandas\\core\\apply.py\u001b[0m in \u001b[0;36mapply_standard\u001b[1;34m(self)\u001b[0m\n\u001b[0;32m    311\u001b[0m \u001b[1;33m\u001b[0m\u001b[0m\n\u001b[0;32m    312\u001b[0m         \u001b[1;31m# compute the result using the series generator\u001b[0m\u001b[1;33m\u001b[0m\u001b[1;33m\u001b[0m\u001b[1;33m\u001b[0m\u001b[0m\n\u001b[1;32m--> 313\u001b[1;33m         \u001b[0mresults\u001b[0m\u001b[1;33m,\u001b[0m \u001b[0mres_index\u001b[0m \u001b[1;33m=\u001b[0m \u001b[0mself\u001b[0m\u001b[1;33m.\u001b[0m\u001b[0mapply_series_generator\u001b[0m\u001b[1;33m(\u001b[0m\u001b[1;33m)\u001b[0m\u001b[1;33m\u001b[0m\u001b[1;33m\u001b[0m\u001b[0m\n\u001b[0m\u001b[0;32m    314\u001b[0m \u001b[1;33m\u001b[0m\u001b[0m\n\u001b[0;32m    315\u001b[0m         \u001b[1;31m# wrap results\u001b[0m\u001b[1;33m\u001b[0m\u001b[1;33m\u001b[0m\u001b[1;33m\u001b[0m\u001b[0m\n",
      "\u001b[1;32m~\\Anaconda3\\envs\\tf-gpu2.0\\lib\\site-packages\\pandas\\core\\apply.py\u001b[0m in \u001b[0;36mapply_series_generator\u001b[1;34m(self)\u001b[0m\n\u001b[0;32m    339\u001b[0m         \u001b[1;32melse\u001b[0m\u001b[1;33m:\u001b[0m\u001b[1;33m\u001b[0m\u001b[1;33m\u001b[0m\u001b[0m\n\u001b[0;32m    340\u001b[0m             \u001b[1;32mfor\u001b[0m \u001b[0mi\u001b[0m\u001b[1;33m,\u001b[0m \u001b[0mv\u001b[0m \u001b[1;32min\u001b[0m \u001b[0menumerate\u001b[0m\u001b[1;33m(\u001b[0m\u001b[0mseries_gen\u001b[0m\u001b[1;33m)\u001b[0m\u001b[1;33m:\u001b[0m\u001b[1;33m\u001b[0m\u001b[1;33m\u001b[0m\u001b[0m\n\u001b[1;32m--> 341\u001b[1;33m                 \u001b[0mresults\u001b[0m\u001b[1;33m[\u001b[0m\u001b[0mi\u001b[0m\u001b[1;33m]\u001b[0m \u001b[1;33m=\u001b[0m \u001b[0mself\u001b[0m\u001b[1;33m.\u001b[0m\u001b[0mf\u001b[0m\u001b[1;33m(\u001b[0m\u001b[0mv\u001b[0m\u001b[1;33m)\u001b[0m\u001b[1;33m\u001b[0m\u001b[1;33m\u001b[0m\u001b[0m\n\u001b[0m\u001b[0;32m    342\u001b[0m                 \u001b[0mkeys\u001b[0m\u001b[1;33m.\u001b[0m\u001b[0mappend\u001b[0m\u001b[1;33m(\u001b[0m\u001b[0mv\u001b[0m\u001b[1;33m.\u001b[0m\u001b[0mname\u001b[0m\u001b[1;33m)\u001b[0m\u001b[1;33m\u001b[0m\u001b[1;33m\u001b[0m\u001b[0m\n\u001b[0;32m    343\u001b[0m \u001b[1;33m\u001b[0m\u001b[0m\n",
      "\u001b[1;32m<ipython-input-330-1f6331ab2d69>\u001b[0m in \u001b[0;36mgame_avg\u001b[1;34m(row)\u001b[0m\n\u001b[0;32m     16\u001b[0m        'rushing_scrim_yds', 'rushing_seasons']\n\u001b[0;32m     17\u001b[0m     \u001b[1;32mfor\u001b[0m \u001b[0mstat\u001b[0m \u001b[1;32min\u001b[0m \u001b[0mstats_list\u001b[0m\u001b[1;33m:\u001b[0m\u001b[1;33m\u001b[0m\u001b[1;33m\u001b[0m\u001b[0m\n\u001b[1;32m---> 18\u001b[1;33m          \u001b[0mrow\u001b[0m\u001b[1;33m[\u001b[0m\u001b[0mstat\u001b[0m\u001b[1;33m]\u001b[0m \u001b[1;33m=\u001b[0m \u001b[0mrow\u001b[0m\u001b[1;33m[\u001b[0m\u001b[0mstat\u001b[0m\u001b[1;33m]\u001b[0m\u001b[1;33m/\u001b[0m\u001b[0mrow\u001b[0m\u001b[1;33m[\u001b[0m\u001b[1;34m'rushing_games'\u001b[0m\u001b[1;33m]\u001b[0m\u001b[1;33m\u001b[0m\u001b[1;33m\u001b[0m\u001b[0m\n\u001b[0m\u001b[0;32m     19\u001b[0m \u001b[1;33m\u001b[0m\u001b[0m\n\u001b[0;32m     20\u001b[0m \u001b[1;33m\u001b[0m\u001b[0m\n",
      "\u001b[1;31mZeroDivisionError\u001b[0m: division by zero"
     ]
    }
   ],
   "source": [
    "#in the above cell if a player is assigned a number it has been drafted, create our own variable\n",
    "def f(row):\n",
    "    if row['max_madden'] > 90 : val = 90\n",
    "    elif row['max_madden'] < 90 and row['max_madden'] >= 80 : val = 80\n",
    "    elif row['max_madden'] < 80 and row['max_madden'] >= 70 : val = 70  \n",
    "    elif row['max_madden'] < 70 and row['max_madden'] >= 60 : val = 60\n",
    "    elif row['max_madden'] < 60 and row['max_madden'] >= 50 : val = 50\n",
    "    else: val = 0\n",
    "    return val\n",
    "dataset['madden_cat'] = dataset.apply(f, axis=1)\n",
    "\n",
    "\n",
    "def game_avg(row):\n",
    "    stats_list = ['rushing_rec_td', 'rushing_rec_yards',\n",
    "       'rushing_receptions', 'rushing_rush_att', 'rushing_rush_td', 'rushing_rush_yds', 'rushing_scrim_plays', 'rushing_scrim_tds',\n",
    "       'rushing_scrim_yds', 'rushing_seasons']\n",
    "    for stat in stats_list:\n",
    "         row[stat] = row[stat]/row['rushing_games']\n",
    "\n",
    "\n",
    "dataset = dataset.apply(game_avg, axis=1)"
   ]
  },
  {
   "cell_type": "code",
   "execution_count": 304,
   "metadata": {},
   "outputs": [
    {
     "data": {
      "text/html": [
       "<div>\n",
       "<style scoped>\n",
       "    .dataframe tbody tr th:only-of-type {\n",
       "        vertical-align: middle;\n",
       "    }\n",
       "\n",
       "    .dataframe tbody tr th {\n",
       "        vertical-align: top;\n",
       "    }\n",
       "\n",
       "    .dataframe thead th {\n",
       "        text-align: right;\n",
       "    }\n",
       "</style>\n",
       "<table border=\"1\" class=\"dataframe\">\n",
       "  <thead>\n",
       "    <tr style=\"text-align: right;\">\n",
       "      <th></th>\n",
       "      <th>madden_cat</th>\n",
       "      <th>max_madden</th>\n",
       "    </tr>\n",
       "    <tr>\n",
       "      <th>fms_id</th>\n",
       "      <th></th>\n",
       "      <th></th>\n",
       "    </tr>\n",
       "  </thead>\n",
       "  <tbody>\n",
       "    <tr>\n",
       "      <th>113</th>\n",
       "      <td>60</td>\n",
       "      <td>63.0</td>\n",
       "    </tr>\n",
       "    <tr>\n",
       "      <th>136</th>\n",
       "      <td>60</td>\n",
       "      <td>68.0</td>\n",
       "    </tr>\n",
       "    <tr>\n",
       "      <th>414</th>\n",
       "      <td>60</td>\n",
       "      <td>69.0</td>\n",
       "    </tr>\n",
       "    <tr>\n",
       "      <th>645</th>\n",
       "      <td>70</td>\n",
       "      <td>71.0</td>\n",
       "    </tr>\n",
       "    <tr>\n",
       "      <th>1182</th>\n",
       "      <td>60</td>\n",
       "      <td>69.0</td>\n",
       "    </tr>\n",
       "    <tr>\n",
       "      <th>...</th>\n",
       "      <td>...</td>\n",
       "      <td>...</td>\n",
       "    </tr>\n",
       "    <tr>\n",
       "      <th>4656</th>\n",
       "      <td>50</td>\n",
       "      <td>50.0</td>\n",
       "    </tr>\n",
       "    <tr>\n",
       "      <th>4658</th>\n",
       "      <td>50</td>\n",
       "      <td>50.0</td>\n",
       "    </tr>\n",
       "    <tr>\n",
       "      <th>4774</th>\n",
       "      <td>50</td>\n",
       "      <td>50.0</td>\n",
       "    </tr>\n",
       "    <tr>\n",
       "      <th>4833</th>\n",
       "      <td>50</td>\n",
       "      <td>50.0</td>\n",
       "    </tr>\n",
       "    <tr>\n",
       "      <th>4843</th>\n",
       "      <td>50</td>\n",
       "      <td>50.0</td>\n",
       "    </tr>\n",
       "  </tbody>\n",
       "</table>\n",
       "<p>528 rows × 2 columns</p>\n",
       "</div>"
      ],
      "text/plain": [
       "        madden_cat  max_madden\n",
       "fms_id                        \n",
       "113             60        63.0\n",
       "136             60        68.0\n",
       "414             60        69.0\n",
       "645             70        71.0\n",
       "1182            60        69.0\n",
       "...            ...         ...\n",
       "4656            50        50.0\n",
       "4658            50        50.0\n",
       "4774            50        50.0\n",
       "4833            50        50.0\n",
       "4843            50        50.0\n",
       "\n",
       "[528 rows x 2 columns]"
      ]
     },
     "execution_count": 304,
     "metadata": {},
     "output_type": "execute_result"
    }
   ],
   "source": [
    "dataset[['madden_cat', 'max_madden']]"
   ]
  },
  {
   "cell_type": "code",
   "execution_count": 305,
   "metadata": {},
   "outputs": [
    {
     "data": {
      "text/plain": [
       "Index(['espn_id', 'full_name', 'first_name', 'last_name', 'position',\n",
       "       'position_group', 'section', 'college', 'draft_year',\n",
       "       'selection_number', 'position_rank', 'position_group_rank',\n",
       "       'section_rank', 'drafting_team', 'home_city', 'home_state',\n",
       "       'home_country', 'college_weight_pounds', 'college_height_inches',\n",
       "       'forty', 'vertical', 'bench', 'broad', 'threecone', 'shuttle',\n",
       "       'rushing_games', 'rushing_rec_td', 'rushing_rec_yards',\n",
       "       'rushing_receptions', 'rushing_rush_att', 'rushing_rush_td',\n",
       "       'rushing_rush_yds', 'rushing_scrim_plays', 'rushing_scrim_tds',\n",
       "       'rushing_scrim_yds', 'rushing_seasons', 'max_madden', 'madden_cat'],\n",
       "      dtype='object')"
      ]
     },
     "execution_count": 305,
     "metadata": {},
     "output_type": "execute_result"
    }
   ],
   "source": [
    "dataset.columns"
   ]
  },
  {
   "cell_type": "code",
   "execution_count": 310,
   "metadata": {},
   "outputs": [],
   "source": [
    "\n",
    "#Total Features\n",
    "\"\"\"['espn_id', 'full_name', 'first_name', 'last_name', 'position',\n",
    "       'position_group', 'section', 'college', 'draft_year',\n",
    "       'selection_number', 'position_rank', 'position_group_rank',\n",
    "       'section_rank', 'drafting_team', 'home_city', 'home_state',\n",
    "       'home_country', 'college_weight_pounds', 'college_height_inches',\n",
    "       'forty', 'vertical', 'bench', 'broad', 'threecone', 'shuttle',\n",
    "       'rushing_games', 'rushing_rec_td', 'rushing_rec_yards',\n",
    "       'rushing_receptions', 'rushing_rush_att', 'rushing_rush_td',\n",
    "       'rushing_rush_yds', 'rushing_scrim_plays', 'rushing_scrim_tds',\n",
    "       'rushing_scrim_yds', 'rushing_seasons', 'max_madden', 'drafted']\"\"\"\n",
    "\n",
    "features = ['college_weight_pounds', 'college_height_inches',\n",
    "       'forty', 'vertical', 'bench', 'broad', 'threecone', 'shuttle',\n",
    "       'rushing_games', 'rushing_rec_td', 'rushing_rec_yards',\n",
    "       'rushing_receptions', 'rushing_rush_att', 'rushing_rush_td',\n",
    "       'rushing_rush_yds', 'rushing_scrim_plays', 'rushing_scrim_tds',\n",
    "       'rushing_scrim_yds', 'rushing_seasons', 'madden_cat']"
   ]
  },
  {
   "cell_type": "code",
   "execution_count": 311,
   "metadata": {},
   "outputs": [],
   "source": [
    "#create the dataset with the features we want to feed the model\n",
    "bl_data = dataset[features].copy()\n",
    "bl_data = shuffle(bl_data)\n",
    "value_data, label_data = bl_data[:].drop(['madden_cat'], axis =1), bl_data.pop('madden_cat')"
   ]
  },
  {
   "cell_type": "code",
   "execution_count": 312,
   "metadata": {},
   "outputs": [
    {
     "data": {
      "text/html": [
       "<div>\n",
       "<style scoped>\n",
       "    .dataframe tbody tr th:only-of-type {\n",
       "        vertical-align: middle;\n",
       "    }\n",
       "\n",
       "    .dataframe tbody tr th {\n",
       "        vertical-align: top;\n",
       "    }\n",
       "\n",
       "    .dataframe thead th {\n",
       "        text-align: right;\n",
       "    }\n",
       "</style>\n",
       "<table border=\"1\" class=\"dataframe\">\n",
       "  <thead>\n",
       "    <tr style=\"text-align: right;\">\n",
       "      <th></th>\n",
       "      <th>college_weight_pounds</th>\n",
       "      <th>college_height_inches</th>\n",
       "      <th>forty</th>\n",
       "      <th>vertical</th>\n",
       "      <th>bench</th>\n",
       "      <th>broad</th>\n",
       "      <th>threecone</th>\n",
       "      <th>shuttle</th>\n",
       "      <th>rushing_games</th>\n",
       "      <th>rushing_rec_td</th>\n",
       "      <th>rushing_rec_yards</th>\n",
       "      <th>rushing_receptions</th>\n",
       "      <th>rushing_rush_att</th>\n",
       "      <th>rushing_rush_td</th>\n",
       "      <th>rushing_rush_yds</th>\n",
       "      <th>rushing_scrim_plays</th>\n",
       "      <th>rushing_scrim_tds</th>\n",
       "      <th>rushing_scrim_yds</th>\n",
       "      <th>rushing_seasons</th>\n",
       "    </tr>\n",
       "    <tr>\n",
       "      <th>fms_id</th>\n",
       "      <th></th>\n",
       "      <th></th>\n",
       "      <th></th>\n",
       "      <th></th>\n",
       "      <th></th>\n",
       "      <th></th>\n",
       "      <th></th>\n",
       "      <th></th>\n",
       "      <th></th>\n",
       "      <th></th>\n",
       "      <th></th>\n",
       "      <th></th>\n",
       "      <th></th>\n",
       "      <th></th>\n",
       "      <th></th>\n",
       "      <th></th>\n",
       "      <th></th>\n",
       "      <th></th>\n",
       "      <th></th>\n",
       "    </tr>\n",
       "  </thead>\n",
       "  <tbody>\n",
       "    <tr>\n",
       "      <th>2991</th>\n",
       "      <td>-1.104265</td>\n",
       "      <td>-2.042933</td>\n",
       "      <td>0.406269</td>\n",
       "      <td>-0.868232</td>\n",
       "      <td>-1.86853</td>\n",
       "      <td>-0.001403</td>\n",
       "      <td>-2.795328</td>\n",
       "      <td>0.312380</td>\n",
       "      <td>0.410292</td>\n",
       "      <td>-0.592757</td>\n",
       "      <td>0.044940</td>\n",
       "      <td>0.328404</td>\n",
       "      <td>1.184726</td>\n",
       "      <td>0.195881</td>\n",
       "      <td>0.882385</td>\n",
       "      <td>1.148800</td>\n",
       "      <td>0.066100</td>\n",
       "      <td>0.788896</td>\n",
       "      <td>0.626694</td>\n",
       "    </tr>\n",
       "    <tr>\n",
       "      <th>3199</th>\n",
       "      <td>0.305946</td>\n",
       "      <td>0.253328</td>\n",
       "      <td>1.050614</td>\n",
       "      <td>-0.316499</td>\n",
       "      <td>0.39203</td>\n",
       "      <td>-1.579847</td>\n",
       "      <td>1.273831</td>\n",
       "      <td>1.177739</td>\n",
       "      <td>0.794565</td>\n",
       "      <td>-0.592757</td>\n",
       "      <td>-0.492632</td>\n",
       "      <td>-0.065170</td>\n",
       "      <td>0.130765</td>\n",
       "      <td>-0.106090</td>\n",
       "      <td>-0.005160</td>\n",
       "      <td>0.111070</td>\n",
       "      <td>-0.215928</td>\n",
       "      <td>-0.130913</td>\n",
       "      <td>0.626694</td>\n",
       "    </tr>\n",
       "    <tr>\n",
       "      <th>1511</th>\n",
       "      <td>0.587988</td>\n",
       "      <td>0.827393</td>\n",
       "      <td>0.682417</td>\n",
       "      <td>-0.132587</td>\n",
       "      <td>-1.11501</td>\n",
       "      <td>-0.790625</td>\n",
       "      <td>1.855140</td>\n",
       "      <td>-0.552978</td>\n",
       "      <td>-0.454323</td>\n",
       "      <td>-0.235070</td>\n",
       "      <td>0.014908</td>\n",
       "      <td>0.215954</td>\n",
       "      <td>-0.255060</td>\n",
       "      <td>-0.710032</td>\n",
       "      <td>-0.479975</td>\n",
       "      <td>-0.202865</td>\n",
       "      <td>-0.709477</td>\n",
       "      <td>-0.419027</td>\n",
       "      <td>-0.451138</td>\n",
       "    </tr>\n",
       "    <tr>\n",
       "      <th>2592</th>\n",
       "      <td>0.305946</td>\n",
       "      <td>0.827393</td>\n",
       "      <td>0.222170</td>\n",
       "      <td>0.786969</td>\n",
       "      <td>-1.11501</td>\n",
       "      <td>0.393209</td>\n",
       "      <td>-0.599274</td>\n",
       "      <td>0.398916</td>\n",
       "      <td>0.410292</td>\n",
       "      <td>-0.592757</td>\n",
       "      <td>-0.570715</td>\n",
       "      <td>-0.571193</td>\n",
       "      <td>0.831837</td>\n",
       "      <td>-0.634540</td>\n",
       "      <td>0.330620</td>\n",
       "      <td>0.682257</td>\n",
       "      <td>-0.709477</td>\n",
       "      <td>0.144876</td>\n",
       "      <td>0.626694</td>\n",
       "    </tr>\n",
       "    <tr>\n",
       "      <th>4833</th>\n",
       "      <td>1.575136</td>\n",
       "      <td>0.827393</td>\n",
       "      <td>0.958565</td>\n",
       "      <td>0.051324</td>\n",
       "      <td>0.39203</td>\n",
       "      <td>-0.001403</td>\n",
       "      <td>2.694808</td>\n",
       "      <td>1.523882</td>\n",
       "      <td>-0.550391</td>\n",
       "      <td>-0.950443</td>\n",
       "      <td>-0.456593</td>\n",
       "      <td>-0.290069</td>\n",
       "      <td>-0.890260</td>\n",
       "      <td>-0.861018</td>\n",
       "      <td>-0.910194</td>\n",
       "      <td>-0.869978</td>\n",
       "      <td>-0.991505</td>\n",
       "      <td>-0.918990</td>\n",
       "      <td>-0.451138</td>\n",
       "    </tr>\n",
       "  </tbody>\n",
       "</table>\n",
       "</div>"
      ],
      "text/plain": [
       "        college_weight_pounds  college_height_inches     forty  vertical  \\\n",
       "fms_id                                                                     \n",
       "2991                -1.104265              -2.042933  0.406269 -0.868232   \n",
       "3199                 0.305946               0.253328  1.050614 -0.316499   \n",
       "1511                 0.587988               0.827393  0.682417 -0.132587   \n",
       "2592                 0.305946               0.827393  0.222170  0.786969   \n",
       "4833                 1.575136               0.827393  0.958565  0.051324   \n",
       "\n",
       "          bench     broad  threecone   shuttle  rushing_games  rushing_rec_td  \\\n",
       "fms_id                                                                          \n",
       "2991   -1.86853 -0.001403  -2.795328  0.312380       0.410292       -0.592757   \n",
       "3199    0.39203 -1.579847   1.273831  1.177739       0.794565       -0.592757   \n",
       "1511   -1.11501 -0.790625   1.855140 -0.552978      -0.454323       -0.235070   \n",
       "2592   -1.11501  0.393209  -0.599274  0.398916       0.410292       -0.592757   \n",
       "4833    0.39203 -0.001403   2.694808  1.523882      -0.550391       -0.950443   \n",
       "\n",
       "        rushing_rec_yards  rushing_receptions  rushing_rush_att  \\\n",
       "fms_id                                                            \n",
       "2991             0.044940            0.328404          1.184726   \n",
       "3199            -0.492632           -0.065170          0.130765   \n",
       "1511             0.014908            0.215954         -0.255060   \n",
       "2592            -0.570715           -0.571193          0.831837   \n",
       "4833            -0.456593           -0.290069         -0.890260   \n",
       "\n",
       "        rushing_rush_td  rushing_rush_yds  rushing_scrim_plays  \\\n",
       "fms_id                                                           \n",
       "2991           0.195881          0.882385             1.148800   \n",
       "3199          -0.106090         -0.005160             0.111070   \n",
       "1511          -0.710032         -0.479975            -0.202865   \n",
       "2592          -0.634540          0.330620             0.682257   \n",
       "4833          -0.861018         -0.910194            -0.869978   \n",
       "\n",
       "        rushing_scrim_tds  rushing_scrim_yds  rushing_seasons  \n",
       "fms_id                                                         \n",
       "2991             0.066100           0.788896         0.626694  \n",
       "3199            -0.215928          -0.130913         0.626694  \n",
       "1511            -0.709477          -0.419027        -0.451138  \n",
       "2592            -0.709477           0.144876         0.626694  \n",
       "4833            -0.991505          -0.918990        -0.451138  "
      ]
     },
     "execution_count": 312,
     "metadata": {},
     "output_type": "execute_result"
    }
   ],
   "source": [
    "#feature Engineering\n",
    "#Z_score transformations\n",
    "\n",
    "value_cols = value_data.columns\n",
    "for col in value_cols:\n",
    "    value_data[col] = stats.zscore(value_data[col].values)\n",
    "\n",
    "    \n",
    "value_data.head()\n",
    "\n"
   ]
  },
  {
   "cell_type": "code",
   "execution_count": 313,
   "metadata": {},
   "outputs": [
    {
     "name": "stdout",
     "output_type": "stream",
     "text": [
      "60\n"
     ]
    },
    {
     "data": {
      "text/plain": [
       "63.0"
      ]
     },
     "execution_count": 313,
     "metadata": {},
     "output_type": "execute_result"
    }
   ],
   "source": [
    "#quick check that the original dataset and copied dataset have the same score\n",
    "print(label_data[113])\n",
    "dataset['max_madden'][113]"
   ]
  },
  {
   "cell_type": "code",
   "execution_count": 314,
   "metadata": {},
   "outputs": [
    {
     "data": {
      "image/png": "[encoded data removed]",
      "text/plain": [
       "<Figure size 432x288 with 20 Axes>"
      ]
     },
     "metadata": {
      "needs_background": "light"
     },
     "output_type": "display_data"
    }
   ],
   "source": [
    "# histograms for some interesting measurements\n",
    "value_data.hist()\n",
    "pyplot.show()"
   ]
  },
  {
   "cell_type": "code",
   "execution_count": 315,
   "metadata": {},
   "outputs": [],
   "source": [
    "X_train, X_validation, Y_train, Y_validation = train_test_split(value_data, label_data, test_size=0.20, random_state=1)"
   ]
  },
  {
   "cell_type": "code",
   "execution_count": 316,
   "metadata": {},
   "outputs": [
    {
     "data": {
      "text/plain": [
       "array([[-1.38630671, -2.04293325, -0.60627493, ..., -0.63896984,\n",
       "        -1.09001015, -0.45113786],\n",
       "       [-0.18762749,  0.25332807,  0.13012033, ..., -0.42744879,\n",
       "        -0.99371525,  0.62669377],\n",
       "       [-0.96324345, -0.89480259, -0.79037374, ..., -0.14542072,\n",
       "        -0.00996652, -1.52896948],\n",
       "       ...,\n",
       "       [ 0.23543577,  0.8273934 ,  0.22216973, ..., -0.99150492,\n",
       "        -1.32034755, -1.52896948],\n",
       "       [ 0.94054119,  1.40145873, -0.97447255, ...,  0.3481284 ,\n",
       "         0.42066428,  0.62669377],\n",
       "       [ 0.09441468, -0.32073726,  0.        , ..., -0.92099791,\n",
       "        -0.89742034, -0.45113786]])"
      ]
     },
     "execution_count": 316,
     "metadata": {},
     "output_type": "execute_result"
    }
   ],
   "source": [
    "X_train.values"
   ]
  },
  {
   "cell_type": "code",
   "execution_count": 317,
   "metadata": {},
   "outputs": [
    {
     "name": "stdout",
     "output_type": "stream",
     "text": [
      "Accuracy:  0.6320754716981132\n",
      "R2 : -0.1555110853652113\n"
     ]
    },
    {
     "name": "stderr",
     "output_type": "stream",
     "text": [
      "C:\\Users\\jonat\\Anaconda3\\envs\\tf-gpu2.0\\lib\\site-packages\\sklearn\\linear_model\\logistic.py:432: FutureWarning: Default solver will be changed to 'lbfgs' in 0.22. Specify a solver to silence this warning.\n",
      "  FutureWarning)\n",
      "C:\\Users\\jonat\\Anaconda3\\envs\\tf-gpu2.0\\lib\\site-packages\\sklearn\\linear_model\\logistic.py:469: FutureWarning: Default multi_class will be changed to 'auto' in 0.22. Specify the multi_class option to silence this warning.\n",
      "  \"this warning.\", FutureWarning)\n"
     ]
    }
   ],
   "source": [
    "#Logistic Regression:\n",
    "clf = LogisticRegression(random_state=0).fit(X_train, Y_train)\n",
    "madden_predict = clf.predict(X_validation)\n",
    "print('Accuracy:  ' + str(accuracy_score(Y_validation, madden_predict)))\n",
    "print('R2 : ' + str(r2_score(Y_validation, madden_predict)))"
   ]
  },
  {
   "cell_type": "code",
   "execution_count": 318,
   "metadata": {},
   "outputs": [],
   "source": [
    "# Plot feature importance\n",
    "def plot_feat_import(coef, model_title):\n",
    "    feature_coef = pd.Series(index=X_train.columns, data=coef)\n",
    "    print('{} model picked {} out of {} features'.format(model_title, str(sum(feature_coef != 0)), str(X_train.shape[1])))\n",
    "    top_bottom_10 = pd.concat([feature_coef.sort_values().head(10), feature_coef.sort_values().tail(10)])\n",
    "    top_bottom_10.plot(kind='barh', title='Feature importance (Top and bottom 10) - {} model'.format(model_title))\n",
    "    #from W207 project (Fleishman, Hilton, Niu)\n",
    "    \n",
    "# Plot predictions\n",
    "def plot_it(y_train, y_valid, model_title):\n",
    "    plt.scatter(y_train, train_labels, c = \"blue\", alpha=0.6, marker = \"o\", label = \"Training data\")\n",
    "    plt.scatter(y_valid, dev_labels, c = \"green\", alpha=0.6, marker = \"o\", label = \"Validation data\")\n",
    "    plt.title(model_title)\n",
    "    plt.xlabel(\"Predicted values\")\n",
    "    plt.ylabel(\"Real values\")\n",
    "    plt.legend(loc = \"upper left\")\n",
    "    plt.plot([10.5, 13.5], [10.5, 13.5], c = \"red\")\n",
    "    plt.show()"
   ]
  },
  {
   "cell_type": "code",
   "execution_count": 319,
   "metadata": {},
   "outputs": [
    {
     "name": "stdout",
     "output_type": "stream",
     "text": [
      "Lasso Model\n",
      "Accuracy:  0.018867924528301886\n",
      "R2 : 0.027472747380062223\n",
      "MSE : 164.35849056603774\n",
      "Lasso model picked 14 out of 19 features\n"
     ]
    },
    {
     "name": "stderr",
     "output_type": "stream",
     "text": [
      "C:\\Users\\jonat\\Anaconda3\\envs\\tf-gpu2.0\\lib\\site-packages\\sklearn\\linear_model\\coordinate_descent.py:475: ConvergenceWarning: Objective did not converge. You might want to increase the number of iterations. Duality gap: 18.075848270811548, tolerance: 6.786753554502371\n",
      "  positive)\n"
     ]
    },
    {
     "ename": "TypeError",
     "evalue": "plot_it() missing 3 required positional arguments: 'y_train', 'y_valid', and 'model_title'",
     "output_type": "error",
     "traceback": [
      "\u001b[1;31m---------------------------------------------------------------------------\u001b[0m",
      "\u001b[1;31mTypeError\u001b[0m                                 Traceback (most recent call last)",
      "\u001b[1;32m<ipython-input-319-bca95982c19f>\u001b[0m in \u001b[0;36m<module>\u001b[1;34m\u001b[0m\n\u001b[0;32m     11\u001b[0m \u001b[0mprint\u001b[0m\u001b[1;33m(\u001b[0m\u001b[1;34m'MSE : '\u001b[0m \u001b[1;33m+\u001b[0m \u001b[0mstr\u001b[0m\u001b[1;33m(\u001b[0m\u001b[0mmean_squared_error\u001b[0m\u001b[1;33m(\u001b[0m\u001b[0mY_validation\u001b[0m\u001b[1;33m,\u001b[0m \u001b[0mmadden_predict\u001b[0m\u001b[1;33m)\u001b[0m\u001b[1;33m)\u001b[0m\u001b[1;33m)\u001b[0m\u001b[1;33m\u001b[0m\u001b[1;33m\u001b[0m\u001b[0m\n\u001b[0;32m     12\u001b[0m \u001b[0mplot_feat_import\u001b[0m\u001b[1;33m(\u001b[0m\u001b[0mlasso_model\u001b[0m\u001b[1;33m.\u001b[0m\u001b[0mcoef_\u001b[0m\u001b[1;33m,\u001b[0m \u001b[1;34m'Lasso'\u001b[0m\u001b[1;33m)\u001b[0m\u001b[1;33m\u001b[0m\u001b[1;33m\u001b[0m\u001b[0m\n\u001b[1;32m---> 13\u001b[1;33m \u001b[0mplot_it\u001b[0m\u001b[1;33m(\u001b[0m\u001b[1;33m)\u001b[0m\u001b[1;33m\u001b[0m\u001b[1;33m\u001b[0m\u001b[0m\n\u001b[0m\u001b[0;32m     14\u001b[0m \u001b[0mprint\u001b[0m\u001b[1;33m(\u001b[0m\u001b[1;34m'----------'\u001b[0m\u001b[1;33m)\u001b[0m\u001b[1;33m\u001b[0m\u001b[1;33m\u001b[0m\u001b[0m\n\u001b[0;32m     15\u001b[0m \u001b[1;33m\u001b[0m\u001b[0m\n",
      "\u001b[1;31mTypeError\u001b[0m: plot_it() missing 3 required positional arguments: 'y_train', 'y_valid', and 'model_title'"
     ]
    },
    {
     "data": {
      "image/png": "[encoded data removed]",
      "text/plain": [
       "<Figure size 432x288 with 1 Axes>"
      ]
     },
     "metadata": {
      "needs_background": "light"
     },
     "output_type": "display_data"
    }
   ],
   "source": [
    "#Lasso:\n",
    "alpha = 0.1\n",
    "lasso_model = Lasso(alpha=alpha).fit(X_train, Y_train)\n",
    "madden_predict = lasso_model.predict(X_validation)\n",
    "\n",
    "madden_predict = np.around(madden_predict, decimals = 0)\n",
    "\n",
    "print('Lasso Model')\n",
    "print('Accuracy:  ' + str(accuracy_score(Y_validation, madden_predict)))\n",
    "print('R2 : ' + str(r2_score(Y_validation, madden_predict)))\n",
    "print('MSE : ' + str(mean_squared_error(Y_validation, madden_predict)))\n",
    "plot_feat_import(lasso_model.coef_, 'Lasso')  \n",
    "plot_it()\n",
    "print('----------')\n",
    "\n"
   ]
  },
  {
   "cell_type": "code",
   "execution_count": 320,
   "metadata": {},
   "outputs": [
    {
     "name": "stderr",
     "output_type": "stream",
     "text": [
      "C:\\Users\\jonat\\Anaconda3\\envs\\tf-gpu2.0\\lib\\site-packages\\sklearn\\linear_model\\coordinate_descent.py:475: ConvergenceWarning: Objective did not converge. You might want to increase the number of iterations. Duality gap: 7.2433323733566795, tolerance: 6.786753554502371\n",
      "  positive)\n"
     ]
    },
    {
     "name": "stdout",
     "output_type": "stream",
     "text": [
      "Accuracy:  0.018867924528301886\n",
      "R2 : 0.024793301385012456\n",
      "MSE : 164.81132075471697\n",
      "LassoCV Model\n",
      "Lassocv model picked 14 out of 19 features\n",
      "----------\n"
     ]
    },
    {
     "data": {
      "image/png": "[encoded data removed]",
      "text/plain": [
       "<Figure size 432x288 with 1 Axes>"
      ]
     },
     "metadata": {
      "needs_background": "light"
     },
     "output_type": "display_data"
    }
   ],
   "source": [
    "#Lassocv:\n",
    "\n",
    "lasso_modelcv = LassoCV(cv=5, random_state=0).fit(X_train, Y_train)\n",
    "madden_predict = lasso_modelcv.predict(X_validation)\n",
    "madden_predict = np.around(madden_predict, decimals = 0)\n",
    "print('Accuracy:  ' + str(accuracy_score(Y_validation, madden_predict)))\n",
    "print('R2 : ' + str(r2_score(Y_validation, madden_predict)))\n",
    "print('MSE : ' + str(mean_squared_error(Y_validation, madden_predict)))\n",
    "print('LassoCV Model')\n",
    "plot_feat_import(lasso_modelcv.coef_, 'Lassocv') \n",
    "print('----------')\n",
    "\n",
    "\n",
    "\n",
    "\n",
    "\n",
    "\n",
    "\n"
   ]
  },
  {
   "cell_type": "code",
   "execution_count": 321,
   "metadata": {},
   "outputs": [
    {
     "name": "stdout",
     "output_type": "stream",
     "text": [
      "RidgeCV Model\n",
      "Accuracy:  0.02830188679245283\n",
      "R2 : 0.010949497077255343\n",
      "MSE : 167.1509433962264\n",
      "RidgeCV model picked 19 out of 19 features\n",
      "----------\n"
     ]
    },
    {
     "name": "stderr",
     "output_type": "stream",
     "text": [
      "C:\\Users\\jonat\\Anaconda3\\envs\\tf-gpu2.0\\lib\\site-packages\\sklearn\\model_selection\\_search.py:813: DeprecationWarning: The default of the `iid` parameter will change from True to False in version 0.22 and will be removed in 0.24. This will change numeric results when test-set sizes are unequal.\n",
      "  DeprecationWarning)\n"
     ]
    },
    {
     "data": {
      "image/png": "[encoded data removed]",
      "text/plain": [
       "<Figure size 432x288 with 1 Axes>"
      ]
     },
     "metadata": {
      "needs_background": "light"
     },
     "output_type": "display_data"
    }
   ],
   "source": [
    "#RidgeCV:\n",
    "\n",
    "ridge_model = RidgeCV(cv=5).fit(X_train, Y_train)\n",
    "madden_predict = ridge_model.predict(X_validation)\n",
    "madden_predict = np.around(madden_predict, decimals = 0)\n",
    "\n",
    "print('RidgeCV Model')\n",
    "print('Accuracy:  ' + str(accuracy_score(Y_validation, madden_predict)))\n",
    "print('R2 : ' + str(r2_score(Y_validation, madden_predict)))\n",
    "print('MSE : ' + str(mean_squared_error(Y_validation, madden_predict)))\n",
    "\n",
    "plot_feat_import(ridge_model.coef_, 'RidgeCV')\n",
    "print('----------')"
   ]
  },
  {
   "cell_type": "code",
   "execution_count": 324,
   "metadata": {},
   "outputs": [
    {
     "name": "stdout",
     "output_type": "stream",
     "text": [
      "ElasticNetCV Model\n",
      "Accuracy:  0.018867924528301886\n",
      "R2 : 0.011451893201327112\n",
      "MSE : 167.06603773584905\n",
      "ElasticNetCV model picked 18 out of 19 features\n"
     ]
    },
    {
     "data": {
      "image/png": "[encoded data removed]",
      "text/plain": [
       "<Figure size 432x288 with 1 Axes>"
      ]
     },
     "metadata": {
      "needs_background": "light"
     },
     "output_type": "display_data"
    }
   ],
   "source": [
    "#ElasticNetCV:\n",
    "\n",
    "elasticnetcv_model = ElasticNetCV(cv=5, random_state=0).fit(X_train, Y_train)\n",
    "madden_predict = elasticnetcv_model.predict(X_validation)\n",
    "madden_predict = np.around(madden_predict, decimals = 0)\n",
    "print('ElasticNetCV Model')\n",
    "print('Accuracy:  ' + str(accuracy_score(Y_validation, madden_predict)))\n",
    "print('R2 : ' + str(r2_score(Y_validation, madden_predict)))\n",
    "print('MSE : ' + str(mean_squared_error(Y_validation, madden_predict)))\n",
    "plot_feat_import(elasticnetcv_model.coef_, 'ElasticNetCV')\n"
   ]
  },
  {
   "cell_type": "code",
   "execution_count": 220,
   "metadata": {},
   "outputs": [
    {
     "name": "stdout",
     "output_type": "stream",
     "text": [
      "Accuracy:  0.33962264150943394\n",
      "R2 : -1.0806364823934138\n",
      "MSE : 340.3490566037736\n",
      "Decision Tree Regressor model picked 20 out of 20 features\n",
      "Accuracy:  0.41509433962264153\n",
      "R2 : -0.4187914212201782\n",
      "MSE : 232.08490566037736\n",
      "Accuracy:  0.3490566037735849\n",
      "R2 : -0.9942436711667226\n",
      "MSE : 326.2169811320755\n"
     ]
    },
    {
     "data": {
      "image/png": "[encoded data removed]",
      "text/plain": [
       "<Figure size 432x288 with 1 Axes>"
      ]
     },
     "metadata": {
      "needs_background": "light"
     },
     "output_type": "display_data"
    }
   ],
   "source": [
    "#Decision Tree Regressor\n",
    "from sklearn import tree\n",
    "decisiontreeregrssor = DecisionTreeRegressor()\n",
    "decisiontreeregrssor.fit(X_train, Y_train)\n",
    "madden_predict = decisiontreeregrssor.predict(X_validation)\n",
    "print('Accuracy:  ' + str(accuracy_score(Y_validation, madden_predict)))\n",
    "print('R2 : ' + str(r2_score(Y_validation, madden_predict)))\n",
    "print('MSE : ' + str(mean_squared_error(Y_validation, madden_predict)))\n",
    "plot_feat_import(decisiontreeregrssor.feature_importances_, 'Decision Tree Regressor')"
   ]
  },
  {
   "cell_type": "code",
   "execution_count": 240,
   "metadata": {},
   "outputs": [
    {
     "name": "stdout",
     "output_type": "stream",
     "text": [
      "Accuracy:  0.42452830188679247\n",
      "R2 : -0.4717344123457474\n",
      "MSE : 240.74528301886792\n",
      "AdaBoostRegressor model picked 20 out of 20 features\n"
     ]
    },
    {
     "data": {
      "image/png": "[encoded data removed]",
      "text/plain": [
       "<Figure size 432x288 with 1 Axes>"
      ]
     },
     "metadata": {
      "needs_background": "light"
     },
     "output_type": "display_data"
    }
   ],
   "source": [
    "#Adaboost\n",
    "adaboostregressor = AdaBoostRegressor(DecisionTreeRegressor(), n_estimators=300)\n",
    "adaboostregressor.fit(X_train, Y_train)\n",
    "madden_predict = adaboostregressor.predict(X_validation)\n",
    "print('Accuracy:  ' + str(accuracy_score(Y_validation, madden_predict)))\n",
    "print('R2 : ' + str(r2_score(Y_validation, madden_predict)))\n",
    "print('MSE : ' + str(mean_squared_error(Y_validation, madden_predict)))\n",
    "plot_feat_import(adaboostregressor.feature_importances_, 'AdaBoostRegressor')\n",
    "\n"
   ]
  },
  {
   "cell_type": "code",
   "execution_count": 325,
   "metadata": {},
   "outputs": [
    {
     "name": "stdout",
     "output_type": "stream",
     "text": [
      "Accuracy:  0.5283018867924528\n",
      "R2 : -0.5127705513718468\n",
      "MSE : 255.66037735849056\n",
      "Decision Tree Classifier model picked 19 out of 19 features\n"
     ]
    },
    {
     "data": {
      "image/png": "[encoded data removed]",
      "text/plain": [
       "<Figure size 432x288 with 1 Axes>"
      ]
     },
     "metadata": {
      "needs_background": "light"
     },
     "output_type": "display_data"
    }
   ],
   "source": [
    "#Decision Tree\n",
    "from sklearn import tree\n",
    "decisiontree = DecisionTreeClassifier(max_depth = 100)\n",
    "decisiontree.fit(X_train, Y_train)\n",
    "madden_predict = decisiontree.predict(X_validation)\n",
    "print('Accuracy:  ' + str(accuracy_score(Y_validation, madden_predict)))\n",
    "print('R2 : ' + str(r2_score(Y_validation, madden_predict)))\n",
    "print('MSE : ' + str(mean_squared_error(Y_validation, madden_predict)))\n",
    "plot_feat_import(decisiontree.feature_importances_, 'Decision Tree Classifier')"
   ]
  },
  {
   "cell_type": "code",
   "execution_count": 326,
   "metadata": {},
   "outputs": [
    {
     "name": "stderr",
     "output_type": "stream",
     "text": [
      "C:\\Users\\jonat\\Anaconda3\\envs\\tf-gpu2.0\\lib\\site-packages\\sklearn\\ensemble\\forest.py:245: FutureWarning: The default value of n_estimators will change from 10 in version 0.20 to 100 in 0.22.\n",
      "  \"10 in version 0.20 to 100 in 0.22.\", FutureWarning)\n"
     ]
    },
    {
     "name": "stdout",
     "output_type": "stream",
     "text": [
      "Accuracy:  0.6226415094339622\n",
      "R2 : -0.23366159355416283\n",
      "MSE : 208.49056603773585\n",
      "Extra Tree Classifier model picked 19 out of 19 features\n"
     ]
    },
    {
     "data": {
      "image/png": "[encoded data removed]",
      "text/plain": [
       "<Figure size 432x288 with 1 Axes>"
      ]
     },
     "metadata": {
      "needs_background": "light"
     },
     "output_type": "display_data"
    }
   ],
   "source": [
    "#Extra Tree\n",
    "from sklearn import tree\n",
    "extradecisiontree = ExtraTreesClassifier(max_depth = 100)\n",
    "extradecisiontree.fit(X_train, Y_train)\n",
    "madden_predict = extradecisiontree.predict(X_validation)\n",
    "print('Accuracy:  ' + str(accuracy_score(Y_validation, madden_predict)))\n",
    "print('R2 : ' + str(r2_score(Y_validation, madden_predict)))\n",
    "print('MSE : ' + str(mean_squared_error(Y_validation, madden_predict)))\n",
    "plot_feat_import(extradecisiontree.feature_importances_, 'Extra Tree Classifier')"
   ]
  },
  {
   "cell_type": "code",
   "execution_count": 327,
   "metadata": {},
   "outputs": [
    {
     "name": "stdout",
     "output_type": "stream",
     "text": [
      "Accuracy:  0.6415094339622641\n",
      "R2 : -0.2001685186160409\n",
      "MSE : 202.83018867924528\n"
     ]
    },
    {
     "name": "stderr",
     "output_type": "stream",
     "text": [
      "C:\\Users\\jonat\\Anaconda3\\envs\\tf-gpu2.0\\lib\\site-packages\\sklearn\\linear_model\\logistic.py:432: FutureWarning: Default solver will be changed to 'lbfgs' in 0.22. Specify a solver to silence this warning.\n",
      "  FutureWarning)\n",
      "C:\\Users\\jonat\\Anaconda3\\envs\\tf-gpu2.0\\lib\\site-packages\\sklearn\\linear_model\\logistic.py:469: FutureWarning: Default multi_class will be changed to 'auto' in 0.22. Specify the multi_class option to silence this warning.\n",
      "  \"this warning.\", FutureWarning)\n"
     ]
    }
   ],
   "source": [
    "#PCA with Linear Regression\n",
    "pca = PCA(n_components=5)\n",
    "pca_x = pca.fit_transform(X_train)\n",
    "pca_validation = pca.transform(X_validation)\n",
    "\n",
    "log_pca = LogisticRegression(random_state=0).fit(pca_x, Y_train)\n",
    "madden_predict = log_pca.predict(pca_validation)\n",
    "print('Accuracy:  ' + str(accuracy_score(Y_validation, madden_predict)))\n",
    "print('R2 : ' + str(r2_score(Y_validation, madden_predict)))\n",
    "print('MSE : ' + str(mean_squared_error(Y_validation, madden_predict)))\n",
    "#print(log_pca.coef_.shape)\n",
    "#plot_feat_import(log_pca.coef_, 'PCA with Log Regression')"
   ]
  },
  {
   "cell_type": "code",
   "execution_count": 328,
   "metadata": {},
   "outputs": [
    {
     "name": "stdout",
     "output_type": "stream",
     "text": [
      "Accuracy:  0.03773584905660377\n",
      "R2 : -0.0308052030122703\n",
      "R2 : 174.20754716981133\n",
      "Gradient Booster Regressor model picked 19 out of 19 features\n"
     ]
    },
    {
     "data": {
      "image/png": "[encoded data removed]",
      "text/plain": [
       "<Figure size 432x288 with 1 Axes>"
      ]
     },
     "metadata": {
      "needs_background": "light"
     },
     "output_type": "display_data"
    }
   ],
   "source": [
    "#Gradient Booster Regressor\n",
    "import numpy as np\n",
    "gradientboostingregressor = GradientBoostingRegressor(random_state=0)\n",
    "gradientboostingregressor.fit(X_train, Y_train)\n",
    "madden_predict = gradientboostingregressor.predict(X_validation)\n",
    "madden_predict = np.around(madden_predict, decimals = 0)\n",
    "print('Accuracy:  ' + str(accuracy_score(Y_validation, madden_predict)))\n",
    "print('R2 : ' + str(r2_score(Y_validation, madden_predict)))\n",
    "print('R2 : ' + str(mean_squared_error(Y_validation, madden_predict)))\n",
    "plot_feat_import(gradientboostingregressor.feature_importances_, 'Gradient Booster Regressor')"
   ]
  },
  {
   "cell_type": "code",
   "execution_count": null,
   "metadata": {},
   "outputs": [],
   "source": []
  },
  {
   "cell_type": "code",
   "execution_count": 322,
   "metadata": {},
   "outputs": [
    {
     "name": "stderr",
     "output_type": "stream",
     "text": [
      "C:\\Users\\jonat\\Anaconda3\\envs\\tf-gpu2.0\\lib\\site-packages\\sklearn\\model_selection\\_split.py:657: Warning: The least populated class in y has only 5 members, which is too few. The minimum number of members in any class cannot be less than n_splits=10.\n",
      "  % (min_groups, self.n_splits)), Warning)\n"
     ]
    },
    {
     "name": "stdout",
     "output_type": "stream",
     "text": [
      "LR: 0.610119 (0.038533)\n",
      "LDA: 0.608309 (0.045182)\n",
      "KNN: 0.563119 (0.030394)\n",
      "CART: 0.475146 (0.050228)\n"
     ]
    },
    {
     "name": "stderr",
     "output_type": "stream",
     "text": [
      "C:\\Users\\jonat\\Anaconda3\\envs\\tf-gpu2.0\\lib\\site-packages\\sklearn\\model_selection\\_split.py:657: Warning: The least populated class in y has only 5 members, which is too few. The minimum number of members in any class cannot be less than n_splits=10.\n",
      "  % (min_groups, self.n_splits)), Warning)\n",
      "C:\\Users\\jonat\\Anaconda3\\envs\\tf-gpu2.0\\lib\\site-packages\\sklearn\\discriminant_analysis.py:388: UserWarning: Variables are collinear.\n",
      "  warnings.warn(\"Variables are collinear.\")\n",
      "C:\\Users\\jonat\\Anaconda3\\envs\\tf-gpu2.0\\lib\\site-packages\\sklearn\\discriminant_analysis.py:388: UserWarning: Variables are collinear.\n",
      "  warnings.warn(\"Variables are collinear.\")\n",
      "C:\\Users\\jonat\\Anaconda3\\envs\\tf-gpu2.0\\lib\\site-packages\\sklearn\\discriminant_analysis.py:388: UserWarning: Variables are collinear.\n",
      "  warnings.warn(\"Variables are collinear.\")\n",
      "C:\\Users\\jonat\\Anaconda3\\envs\\tf-gpu2.0\\lib\\site-packages\\sklearn\\discriminant_analysis.py:388: UserWarning: Variables are collinear.\n",
      "  warnings.warn(\"Variables are collinear.\")\n",
      "C:\\Users\\jonat\\Anaconda3\\envs\\tf-gpu2.0\\lib\\site-packages\\sklearn\\discriminant_analysis.py:388: UserWarning: Variables are collinear.\n",
      "  warnings.warn(\"Variables are collinear.\")\n",
      "C:\\Users\\jonat\\Anaconda3\\envs\\tf-gpu2.0\\lib\\site-packages\\sklearn\\discriminant_analysis.py:388: UserWarning: Variables are collinear.\n",
      "  warnings.warn(\"Variables are collinear.\")\n",
      "C:\\Users\\jonat\\Anaconda3\\envs\\tf-gpu2.0\\lib\\site-packages\\sklearn\\discriminant_analysis.py:388: UserWarning: Variables are collinear.\n",
      "  warnings.warn(\"Variables are collinear.\")\n",
      "C:\\Users\\jonat\\Anaconda3\\envs\\tf-gpu2.0\\lib\\site-packages\\sklearn\\discriminant_analysis.py:388: UserWarning: Variables are collinear.\n",
      "  warnings.warn(\"Variables are collinear.\")\n",
      "C:\\Users\\jonat\\Anaconda3\\envs\\tf-gpu2.0\\lib\\site-packages\\sklearn\\discriminant_analysis.py:388: UserWarning: Variables are collinear.\n",
      "  warnings.warn(\"Variables are collinear.\")\n",
      "C:\\Users\\jonat\\Anaconda3\\envs\\tf-gpu2.0\\lib\\site-packages\\sklearn\\discriminant_analysis.py:388: UserWarning: Variables are collinear.\n",
      "  warnings.warn(\"Variables are collinear.\")\n",
      "C:\\Users\\jonat\\Anaconda3\\envs\\tf-gpu2.0\\lib\\site-packages\\sklearn\\model_selection\\_split.py:657: Warning: The least populated class in y has only 5 members, which is too few. The minimum number of members in any class cannot be less than n_splits=10.\n",
      "  % (min_groups, self.n_splits)), Warning)\n",
      "C:\\Users\\jonat\\Anaconda3\\envs\\tf-gpu2.0\\lib\\site-packages\\sklearn\\model_selection\\_split.py:657: Warning: The least populated class in y has only 5 members, which is too few. The minimum number of members in any class cannot be less than n_splits=10.\n",
      "  % (min_groups, self.n_splits)), Warning)\n",
      "C:\\Users\\jonat\\Anaconda3\\envs\\tf-gpu2.0\\lib\\site-packages\\sklearn\\model_selection\\_split.py:657: Warning: The least populated class in y has only 5 members, which is too few. The minimum number of members in any class cannot be less than n_splits=10.\n",
      "  % (min_groups, self.n_splits)), Warning)\n"
     ]
    },
    {
     "name": "stdout",
     "output_type": "stream",
     "text": [
      "ABC: 0.396145 (0.108865)\n"
     ]
    },
    {
     "name": "stderr",
     "output_type": "stream",
     "text": [
      "C:\\Users\\jonat\\Anaconda3\\envs\\tf-gpu2.0\\lib\\site-packages\\sklearn\\model_selection\\_split.py:657: Warning: The least populated class in y has only 5 members, which is too few. The minimum number of members in any class cannot be less than n_splits=10.\n",
      "  % (min_groups, self.n_splits)), Warning)\n"
     ]
    },
    {
     "name": "stdout",
     "output_type": "stream",
     "text": [
      "GBC: 0.577947 (0.031209)\n",
      "RFC: 0.591292 (0.036062)\n",
      "GNB: 0.475340 (0.032538)\n"
     ]
    },
    {
     "name": "stderr",
     "output_type": "stream",
     "text": [
      "C:\\Users\\jonat\\Anaconda3\\envs\\tf-gpu2.0\\lib\\site-packages\\sklearn\\model_selection\\_split.py:657: Warning: The least populated class in y has only 5 members, which is too few. The minimum number of members in any class cannot be less than n_splits=10.\n",
      "  % (min_groups, self.n_splits)), Warning)\n",
      "C:\\Users\\jonat\\Anaconda3\\envs\\tf-gpu2.0\\lib\\site-packages\\sklearn\\ensemble\\forest.py:245: FutureWarning: The default value of n_estimators will change from 10 in version 0.20 to 100 in 0.22.\n",
      "  \"10 in version 0.20 to 100 in 0.22.\", FutureWarning)\n",
      "C:\\Users\\jonat\\Anaconda3\\envs\\tf-gpu2.0\\lib\\site-packages\\sklearn\\ensemble\\forest.py:245: FutureWarning: The default value of n_estimators will change from 10 in version 0.20 to 100 in 0.22.\n",
      "  \"10 in version 0.20 to 100 in 0.22.\", FutureWarning)\n",
      "C:\\Users\\jonat\\Anaconda3\\envs\\tf-gpu2.0\\lib\\site-packages\\sklearn\\ensemble\\forest.py:245: FutureWarning: The default value of n_estimators will change from 10 in version 0.20 to 100 in 0.22.\n",
      "  \"10 in version 0.20 to 100 in 0.22.\", FutureWarning)\n",
      "C:\\Users\\jonat\\Anaconda3\\envs\\tf-gpu2.0\\lib\\site-packages\\sklearn\\ensemble\\forest.py:245: FutureWarning: The default value of n_estimators will change from 10 in version 0.20 to 100 in 0.22.\n",
      "  \"10 in version 0.20 to 100 in 0.22.\", FutureWarning)\n",
      "C:\\Users\\jonat\\Anaconda3\\envs\\tf-gpu2.0\\lib\\site-packages\\sklearn\\ensemble\\forest.py:245: FutureWarning: The default value of n_estimators will change from 10 in version 0.20 to 100 in 0.22.\n",
      "  \"10 in version 0.20 to 100 in 0.22.\", FutureWarning)\n",
      "C:\\Users\\jonat\\Anaconda3\\envs\\tf-gpu2.0\\lib\\site-packages\\sklearn\\ensemble\\forest.py:245: FutureWarning: The default value of n_estimators will change from 10 in version 0.20 to 100 in 0.22.\n",
      "  \"10 in version 0.20 to 100 in 0.22.\", FutureWarning)\n",
      "C:\\Users\\jonat\\Anaconda3\\envs\\tf-gpu2.0\\lib\\site-packages\\sklearn\\ensemble\\forest.py:245: FutureWarning: The default value of n_estimators will change from 10 in version 0.20 to 100 in 0.22.\n",
      "  \"10 in version 0.20 to 100 in 0.22.\", FutureWarning)\n",
      "C:\\Users\\jonat\\Anaconda3\\envs\\tf-gpu2.0\\lib\\site-packages\\sklearn\\ensemble\\forest.py:245: FutureWarning: The default value of n_estimators will change from 10 in version 0.20 to 100 in 0.22.\n",
      "  \"10 in version 0.20 to 100 in 0.22.\", FutureWarning)\n",
      "C:\\Users\\jonat\\Anaconda3\\envs\\tf-gpu2.0\\lib\\site-packages\\sklearn\\ensemble\\forest.py:245: FutureWarning: The default value of n_estimators will change from 10 in version 0.20 to 100 in 0.22.\n",
      "  \"10 in version 0.20 to 100 in 0.22.\", FutureWarning)\n",
      "C:\\Users\\jonat\\Anaconda3\\envs\\tf-gpu2.0\\lib\\site-packages\\sklearn\\ensemble\\forest.py:245: FutureWarning: The default value of n_estimators will change from 10 in version 0.20 to 100 in 0.22.\n",
      "  \"10 in version 0.20 to 100 in 0.22.\", FutureWarning)\n",
      "C:\\Users\\jonat\\Anaconda3\\envs\\tf-gpu2.0\\lib\\site-packages\\sklearn\\model_selection\\_split.py:657: Warning: The least populated class in y has only 5 members, which is too few. The minimum number of members in any class cannot be less than n_splits=10.\n",
      "  % (min_groups, self.n_splits)), Warning)\n",
      "C:\\Users\\jonat\\Anaconda3\\envs\\tf-gpu2.0\\lib\\site-packages\\sklearn\\model_selection\\_split.py:657: Warning: The least populated class in y has only 5 members, which is too few. The minimum number of members in any class cannot be less than n_splits=10.\n",
      "  % (min_groups, self.n_splits)), Warning)\n"
     ]
    },
    {
     "name": "stdout",
     "output_type": "stream",
     "text": [
      "SVM: 0.602750 (0.017260)\n",
      "ETC: 0.591712 (0.036477)\n"
     ]
    },
    {
     "name": "stderr",
     "output_type": "stream",
     "text": [
      "C:\\Users\\jonat\\Anaconda3\\envs\\tf-gpu2.0\\lib\\site-packages\\sklearn\\model_selection\\_split.py:657: Warning: The least populated class in y has only 5 members, which is too few. The minimum number of members in any class cannot be less than n_splits=10.\n",
      "  % (min_groups, self.n_splits)), Warning)\n",
      "C:\\Users\\jonat\\Anaconda3\\envs\\tf-gpu2.0\\lib\\site-packages\\sklearn\\ensemble\\forest.py:245: FutureWarning: The default value of n_estimators will change from 10 in version 0.20 to 100 in 0.22.\n",
      "  \"10 in version 0.20 to 100 in 0.22.\", FutureWarning)\n",
      "C:\\Users\\jonat\\Anaconda3\\envs\\tf-gpu2.0\\lib\\site-packages\\sklearn\\ensemble\\forest.py:245: FutureWarning: The default value of n_estimators will change from 10 in version 0.20 to 100 in 0.22.\n",
      "  \"10 in version 0.20 to 100 in 0.22.\", FutureWarning)\n",
      "C:\\Users\\jonat\\Anaconda3\\envs\\tf-gpu2.0\\lib\\site-packages\\sklearn\\ensemble\\forest.py:245: FutureWarning: The default value of n_estimators will change from 10 in version 0.20 to 100 in 0.22.\n",
      "  \"10 in version 0.20 to 100 in 0.22.\", FutureWarning)\n",
      "C:\\Users\\jonat\\Anaconda3\\envs\\tf-gpu2.0\\lib\\site-packages\\sklearn\\ensemble\\forest.py:245: FutureWarning: The default value of n_estimators will change from 10 in version 0.20 to 100 in 0.22.\n",
      "  \"10 in version 0.20 to 100 in 0.22.\", FutureWarning)\n",
      "C:\\Users\\jonat\\Anaconda3\\envs\\tf-gpu2.0\\lib\\site-packages\\sklearn\\ensemble\\forest.py:245: FutureWarning: The default value of n_estimators will change from 10 in version 0.20 to 100 in 0.22.\n",
      "  \"10 in version 0.20 to 100 in 0.22.\", FutureWarning)\n",
      "C:\\Users\\jonat\\Anaconda3\\envs\\tf-gpu2.0\\lib\\site-packages\\sklearn\\ensemble\\forest.py:245: FutureWarning: The default value of n_estimators will change from 10 in version 0.20 to 100 in 0.22.\n",
      "  \"10 in version 0.20 to 100 in 0.22.\", FutureWarning)\n",
      "C:\\Users\\jonat\\Anaconda3\\envs\\tf-gpu2.0\\lib\\site-packages\\sklearn\\ensemble\\forest.py:245: FutureWarning: The default value of n_estimators will change from 10 in version 0.20 to 100 in 0.22.\n",
      "  \"10 in version 0.20 to 100 in 0.22.\", FutureWarning)\n",
      "C:\\Users\\jonat\\Anaconda3\\envs\\tf-gpu2.0\\lib\\site-packages\\sklearn\\ensemble\\forest.py:245: FutureWarning: The default value of n_estimators will change from 10 in version 0.20 to 100 in 0.22.\n",
      "  \"10 in version 0.20 to 100 in 0.22.\", FutureWarning)\n",
      "C:\\Users\\jonat\\Anaconda3\\envs\\tf-gpu2.0\\lib\\site-packages\\sklearn\\ensemble\\forest.py:245: FutureWarning: The default value of n_estimators will change from 10 in version 0.20 to 100 in 0.22.\n",
      "  \"10 in version 0.20 to 100 in 0.22.\", FutureWarning)\n",
      "C:\\Users\\jonat\\Anaconda3\\envs\\tf-gpu2.0\\lib\\site-packages\\sklearn\\ensemble\\forest.py:245: FutureWarning: The default value of n_estimators will change from 10 in version 0.20 to 100 in 0.22.\n",
      "  \"10 in version 0.20 to 100 in 0.22.\", FutureWarning)\n"
     ]
    }
   ],
   "source": [
    "# Spot Check Algorithms\n",
    "models = []\n",
    "models.append(('LR', LogisticRegression(solver='liblinear', multi_class='ovr')))\n",
    "#models.append(('LASSO', Lasso(alpha=0.1)))\n",
    "models.append(('LDA', LinearDiscriminantAnalysis()))\n",
    "models.append(('KNN', KNeighborsClassifier()))\n",
    "models.append(('CART', DecisionTreeClassifier()))\n",
    "models.append(('ABC', AdaBoostClassifier()))\n",
    "models.append(('GBC', GradientBoostingClassifier(n_estimators=200)))\n",
    "models.append(('RFC', RandomForestClassifier()))\n",
    "models.append(('GNB', GaussianNB()))\n",
    "models.append(('SVM', SVC(gamma='auto')))\n",
    "models.append(('ETC', ExtraTreesClassifier()))\n",
    "\n",
    "# evaluate each model in turn\n",
    "results = []\n",
    "names = []\n",
    "\n",
    "for name, model in models:\n",
    "    kfold = StratifiedKFold(n_splits=10, random_state=1, shuffle=True)\n",
    "    cv_results = cross_val_score(model, value_data, label_data, cv=kfold, scoring='accuracy')\n",
    "    results.append(cv_results)\n",
    "    names.append(name)\n",
    "    print('%s: %f (%f)' % (name, cv_results.mean(), cv_results.std()))\n"
   ]
  },
  {
   "cell_type": "code",
   "execution_count": 323,
   "metadata": {},
   "outputs": [
    {
     "data": {
      "image/png": "[encoded data removed]",
      "text/plain": [
       "<Figure size 432x288 with 1 Axes>"
      ]
     },
     "metadata": {
      "needs_background": "light"
     },
     "output_type": "display_data"
    }
   ],
   "source": [
    "# Compare Algorithms\n",
    "pyplot.boxplot(results, labels=names)\n",
    "pyplot.title('Algorithm Comparison')\n",
    "pyplot.show()"
   ]
  },
  {
   "cell_type": "code",
   "execution_count": null,
   "metadata": {},
   "outputs": [],
   "source": []
  }
 ],
 "metadata": {
  "kernelspec": {
   "display_name": "Python 3",
   "language": "python",
   "name": "python3"
  },
  "language_info": {
   "codemirror_mode": {
    "name": "ipython",
    "version": 3
   },
   "file_extension": ".py",
   "mimetype": "text/x-python",
   "name": "python",
   "nbconvert_exporter": "python",
   "pygments_lexer": "ipython3",
   "version": "3.7.3"
  }
 },
 "nbformat": 4,
 "nbformat_minor": 2
}
