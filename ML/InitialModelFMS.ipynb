{
 "cells": [
  {
   "cell_type": "code",
   "execution_count": 583,
   "metadata": {},
   "outputs": [],
   "source": [
    "#import libraries\n",
    "import os\n",
    "from pandas import read_csv\n",
    "import pandas as pd\n",
    "from matplotlib import pyplot\n",
    "from sklearn.model_selection import train_test_split\n",
    "from sklearn.model_selection import cross_val_score\n",
    "from sklearn.model_selection import StratifiedKFold\n",
    "from sklearn.linear_model import LogisticRegression\n",
    "from sklearn.tree import DecisionTreeClassifier\n",
    "from sklearn.neighbors import KNeighborsClassifier\n",
    "from sklearn.discriminant_analysis import LinearDiscriminantAnalysis\n",
    "from sklearn.naive_bayes import GaussianNB\n",
    "from sklearn.svm import SVC\n",
    "from sklearn.utils import shuffle\n",
    "%matplotlib inline\n",
    "\n",
    "import pandas_profiling\n",
    "\n",
    "\n",
    "from scipy.stats import skew, norm\n",
    "from scipy import stats\n",
    "from scipy.special import boxcox1p\n",
    "from sklearn.preprocessing import LabelEncoder, PolynomialFeatures, RobustScaler\n",
    "from sklearn import linear_model\n",
    "from sklearn.linear_model import ElasticNetCV, ElasticNet, LinearRegression, Lasso, LassoCV, Ridge, RidgeCV, LogisticRegression\n",
    "from sklearn.tree import DecisionTreeRegressor\n",
    "from sklearn.ensemble import AdaBoostRegressor, AdaBoostClassifier, ExtraTreesClassifier, VotingClassifier\n",
    "from sklearn.ensemble import GradientBoostingRegressor, GradientBoostingClassifier, RandomForestClassifier\n",
    "from sklearn.decomposition import PCA\n",
    "from sklearn.model_selection import GridSearchCV\n",
    "from sklearn.pipeline import make_pipeline, Pipeline\n",
    "from sklearn.preprocessing import RobustScaler\n",
    "from sklearn.metrics import r2_score, mean_squared_error, mean_squared_log_error, classification_report, accuracy_score\n",
    "from math import sqrt\n",
    "\n",
    "\n",
    "\n",
    "from lightgbm import LGBMRegressor\n",
    "import lightgbm as lgb"
   ]
  },
  {
   "cell_type": "code",
   "execution_count": 584,
   "metadata": {},
   "outputs": [
    {
     "name": "stdout",
     "output_type": "stream",
     "text": [
      "C:\\Users\\jonat\\Desktop\\capstone\\nfl2\\nfl_capstone\n",
      "C:\\Users\\jonat\\Desktop\\capstone\\nfl2\\nfl_capstone//data_mart//reporting_rb.csv\n"
     ]
    },
    {
     "data": {
      "text/html": [
       "<div>\n",
       "<style scoped>\n",
       "    .dataframe tbody tr th:only-of-type {\n",
       "        vertical-align: middle;\n",
       "    }\n",
       "\n",
       "    .dataframe tbody tr th {\n",
       "        vertical-align: top;\n",
       "    }\n",
       "\n",
       "    .dataframe thead th {\n",
       "        text-align: right;\n",
       "    }\n",
       "</style>\n",
       "<table border=\"1\" class=\"dataframe\">\n",
       "  <thead>\n",
       "    <tr style=\"text-align: right;\">\n",
       "      <th></th>\n",
       "      <th>espn_id</th>\n",
       "      <th>full_name</th>\n",
       "      <th>first_name</th>\n",
       "      <th>last_name</th>\n",
       "      <th>position</th>\n",
       "      <th>position_group</th>\n",
       "      <th>section</th>\n",
       "      <th>college</th>\n",
       "      <th>draft_year</th>\n",
       "      <th>selection_number</th>\n",
       "      <th>...</th>\n",
       "      <th>rushing_rec_yards_zscore</th>\n",
       "      <th>rushing_receptions_zscore</th>\n",
       "      <th>rushing_rush_att_zscore</th>\n",
       "      <th>rushing_rush_td_zscore</th>\n",
       "      <th>rushing_rush_yds_zscore</th>\n",
       "      <th>rushing_scrim_plays_zscore</th>\n",
       "      <th>rushing_scrim_tds_zscore</th>\n",
       "      <th>rushing_scrim_yds_zscore</th>\n",
       "      <th>rushing_seasons_zscore</th>\n",
       "      <th>max_madden_zscore</th>\n",
       "    </tr>\n",
       "    <tr>\n",
       "      <th>fms_id</th>\n",
       "      <th></th>\n",
       "      <th></th>\n",
       "      <th></th>\n",
       "      <th></th>\n",
       "      <th></th>\n",
       "      <th></th>\n",
       "      <th></th>\n",
       "      <th></th>\n",
       "      <th></th>\n",
       "      <th></th>\n",
       "      <th></th>\n",
       "      <th></th>\n",
       "      <th></th>\n",
       "      <th></th>\n",
       "      <th></th>\n",
       "      <th></th>\n",
       "      <th></th>\n",
       "      <th></th>\n",
       "      <th></th>\n",
       "      <th></th>\n",
       "      <th></th>\n",
       "    </tr>\n",
       "  </thead>\n",
       "  <tbody>\n",
       "    <tr>\n",
       "      <th>113</th>\n",
       "      <td>3886636.0</td>\n",
       "      <td>Alex Barnes</td>\n",
       "      <td>Alex</td>\n",
       "      <td>Barnes</td>\n",
       "      <td>RB</td>\n",
       "      <td>RB</td>\n",
       "      <td>O</td>\n",
       "      <td>Kansas State</td>\n",
       "      <td>2019</td>\n",
       "      <td>NaN</td>\n",
       "      <td>...</td>\n",
       "      <td>-0.718123</td>\n",
       "      <td>-0.715121</td>\n",
       "      <td>-0.161304</td>\n",
       "      <td>-0.034324</td>\n",
       "      <td>-0.013948</td>\n",
       "      <td>-0.260805</td>\n",
       "      <td>-0.220294</td>\n",
       "      <td>-0.197161</td>\n",
       "      <td>0.627247</td>\n",
       "      <td>-1.509613</td>\n",
       "    </tr>\n",
       "    <tr>\n",
       "      <th>136</th>\n",
       "      <td>4048244.0</td>\n",
       "      <td>Alexander Mattison</td>\n",
       "      <td>Alexander</td>\n",
       "      <td>Mattison</td>\n",
       "      <td>RB</td>\n",
       "      <td>RB</td>\n",
       "      <td>O</td>\n",
       "      <td>Boise State</td>\n",
       "      <td>2019</td>\n",
       "      <td>NaN</td>\n",
       "      <td>...</td>\n",
       "      <td>0.147553</td>\n",
       "      <td>0.269752</td>\n",
       "      <td>0.419838</td>\n",
       "      <td>0.571162</td>\n",
       "      <td>0.173067</td>\n",
       "      <td>0.431125</td>\n",
       "      <td>0.416036</td>\n",
       "      <td>0.190511</td>\n",
       "      <td>-0.463707</td>\n",
       "      <td>-0.905189</td>\n",
       "    </tr>\n",
       "    <tr>\n",
       "      <th>414</th>\n",
       "      <td>NaN</td>\n",
       "      <td>Benny Snell</td>\n",
       "      <td>Benny</td>\n",
       "      <td>Snell</td>\n",
       "      <td>RB</td>\n",
       "      <td>RB</td>\n",
       "      <td>O</td>\n",
       "      <td>Kentucky</td>\n",
       "      <td>2019</td>\n",
       "      <td>NaN</td>\n",
       "      <td>...</td>\n",
       "      <td>-0.739163</td>\n",
       "      <td>-0.602564</td>\n",
       "      <td>1.156895</td>\n",
       "      <td>1.706450</td>\n",
       "      <td>1.089706</td>\n",
       "      <td>0.978538</td>\n",
       "      <td>1.405883</td>\n",
       "      <td>0.770083</td>\n",
       "      <td>-0.463707</td>\n",
       "      <td>-0.784305</td>\n",
       "    </tr>\n",
       "    <tr>\n",
       "      <th>645</th>\n",
       "      <td>3931398.0</td>\n",
       "      <td>Bryce Love</td>\n",
       "      <td>Bryce</td>\n",
       "      <td>Love</td>\n",
       "      <td>RB</td>\n",
       "      <td>RB</td>\n",
       "      <td>O</td>\n",
       "      <td>Stanford</td>\n",
       "      <td>2019</td>\n",
       "      <td>NaN</td>\n",
       "      <td>...</td>\n",
       "      <td>0.009286</td>\n",
       "      <td>-0.039779</td>\n",
       "      <td>0.363141</td>\n",
       "      <td>0.344105</td>\n",
       "      <td>1.082682</td>\n",
       "      <td>0.330401</td>\n",
       "      <td>0.274629</td>\n",
       "      <td>0.956568</td>\n",
       "      <td>0.627247</td>\n",
       "      <td>-0.542535</td>\n",
       "    </tr>\n",
       "    <tr>\n",
       "      <th>1182</th>\n",
       "      <td>3925347.0</td>\n",
       "      <td>Damien Harris</td>\n",
       "      <td>Damien</td>\n",
       "      <td>Harris</td>\n",
       "      <td>RB</td>\n",
       "      <td>RB</td>\n",
       "      <td>O</td>\n",
       "      <td>Alabama</td>\n",
       "      <td>2019</td>\n",
       "      <td>NaN</td>\n",
       "      <td>...</td>\n",
       "      <td>-0.165052</td>\n",
       "      <td>0.044638</td>\n",
       "      <td>-0.071534</td>\n",
       "      <td>-0.185696</td>\n",
       "      <td>0.384667</td>\n",
       "      <td>-0.059357</td>\n",
       "      <td>-0.220294</td>\n",
       "      <td>0.296521</td>\n",
       "      <td>0.627247</td>\n",
       "      <td>-0.784305</td>\n",
       "    </tr>\n",
       "  </tbody>\n",
       "</table>\n",
       "<p>5 rows × 59 columns</p>\n",
       "</div>"
      ],
      "text/plain": [
       "          espn_id           full_name first_name last_name position  \\\n",
       "fms_id                                                                \n",
       "113     3886636.0         Alex Barnes       Alex    Barnes       RB   \n",
       "136     4048244.0  Alexander Mattison  Alexander  Mattison       RB   \n",
       "414           NaN         Benny Snell      Benny     Snell       RB   \n",
       "645     3931398.0          Bryce Love      Bryce      Love       RB   \n",
       "1182    3925347.0       Damien Harris     Damien    Harris       RB   \n",
       "\n",
       "       position_group section       college  draft_year  selection_number  \\\n",
       "fms_id                                                                      \n",
       "113                RB       O  Kansas State        2019               NaN   \n",
       "136                RB       O   Boise State        2019               NaN   \n",
       "414                RB       O      Kentucky        2019               NaN   \n",
       "645                RB       O      Stanford        2019               NaN   \n",
       "1182               RB       O       Alabama        2019               NaN   \n",
       "\n",
       "        ...  rushing_rec_yards_zscore  rushing_receptions_zscore  \\\n",
       "fms_id  ...                                                        \n",
       "113     ...                 -0.718123                  -0.715121   \n",
       "136     ...                  0.147553                   0.269752   \n",
       "414     ...                 -0.739163                  -0.602564   \n",
       "645     ...                  0.009286                  -0.039779   \n",
       "1182    ...                 -0.165052                   0.044638   \n",
       "\n",
       "        rushing_rush_att_zscore rushing_rush_td_zscore  \\\n",
       "fms_id                                                   \n",
       "113                   -0.161304              -0.034324   \n",
       "136                    0.419838               0.571162   \n",
       "414                    1.156895               1.706450   \n",
       "645                    0.363141               0.344105   \n",
       "1182                  -0.071534              -0.185696   \n",
       "\n",
       "       rushing_rush_yds_zscore rushing_scrim_plays_zscore  \\\n",
       "fms_id                                                      \n",
       "113                  -0.013948                  -0.260805   \n",
       "136                   0.173067                   0.431125   \n",
       "414                   1.089706                   0.978538   \n",
       "645                   1.082682                   0.330401   \n",
       "1182                  0.384667                  -0.059357   \n",
       "\n",
       "       rushing_scrim_tds_zscore  rushing_scrim_yds_zscore  \\\n",
       "fms_id                                                      \n",
       "113                   -0.220294                 -0.197161   \n",
       "136                    0.416036                  0.190511   \n",
       "414                    1.405883                  0.770083   \n",
       "645                    0.274629                  0.956568   \n",
       "1182                  -0.220294                  0.296521   \n",
       "\n",
       "        rushing_seasons_zscore  max_madden_zscore  \n",
       "fms_id                                             \n",
       "113                   0.627247          -1.509613  \n",
       "136                  -0.463707          -0.905189  \n",
       "414                  -0.463707          -0.784305  \n",
       "645                   0.627247          -0.542535  \n",
       "1182                  0.627247          -0.784305  \n",
       "\n",
       "[5 rows x 59 columns]"
      ]
     },
     "execution_count": 584,
     "metadata": {},
     "output_type": "execute_result"
    }
   ],
   "source": [
    "#import data\n",
    "current_path = os.getcwd()\n",
    "current_path = os.path.dirname(current_path)\n",
    "print(current_path)\n",
    "#C:\\Users\\jonat\\Desktop\\capstone\\nfl2\\nfl_capstone\\data_mart\n",
    "dataset = current_path + '//data_mart//reporting_rb.csv'\n",
    "print(dataset)\n",
    "dataset = pd.read_csv(dataset, index_col = 0)\n",
    "dataset.head()\n",
    "\n",
    "#https://stackoverflow.com/questions/9856683/using-pythons-os-path-how-do-i-go-up-one-directory"
   ]
  },
  {
   "cell_type": "code",
   "execution_count": 585,
   "metadata": {},
   "outputs": [],
   "source": [
    "#pandas_profiling.ProfileReport(dataset)"
   ]
  },
  {
   "cell_type": "code",
   "execution_count": 586,
   "metadata": {},
   "outputs": [
    {
     "data": {
      "text/html": [
       "<div>\n",
       "<style scoped>\n",
       "    .dataframe tbody tr th:only-of-type {\n",
       "        vertical-align: middle;\n",
       "    }\n",
       "\n",
       "    .dataframe tbody tr th {\n",
       "        vertical-align: top;\n",
       "    }\n",
       "\n",
       "    .dataframe thead th {\n",
       "        text-align: right;\n",
       "    }\n",
       "</style>\n",
       "<table border=\"1\" class=\"dataframe\">\n",
       "  <thead>\n",
       "    <tr style=\"text-align: right;\">\n",
       "      <th></th>\n",
       "      <th>espn_id</th>\n",
       "      <th>draft_year</th>\n",
       "      <th>selection_number</th>\n",
       "      <th>position_rank</th>\n",
       "      <th>position_group_rank</th>\n",
       "      <th>section_rank</th>\n",
       "      <th>college_weight_pounds</th>\n",
       "      <th>college_height_inches</th>\n",
       "      <th>hw_ratio</th>\n",
       "      <th>forty</th>\n",
       "      <th>...</th>\n",
       "      <th>rushing_rec_yards_zscore</th>\n",
       "      <th>rushing_receptions_zscore</th>\n",
       "      <th>rushing_rush_att_zscore</th>\n",
       "      <th>rushing_rush_td_zscore</th>\n",
       "      <th>rushing_rush_yds_zscore</th>\n",
       "      <th>rushing_scrim_plays_zscore</th>\n",
       "      <th>rushing_scrim_tds_zscore</th>\n",
       "      <th>rushing_scrim_yds_zscore</th>\n",
       "      <th>rushing_seasons_zscore</th>\n",
       "      <th>max_madden_zscore</th>\n",
       "    </tr>\n",
       "  </thead>\n",
       "  <tbody>\n",
       "    <tr>\n",
       "      <th>count</th>\n",
       "      <td>6.500000e+01</td>\n",
       "      <td>527.000000</td>\n",
       "      <td>500.000000</td>\n",
       "      <td>500.000000</td>\n",
       "      <td>500.00000</td>\n",
       "      <td>500.000000</td>\n",
       "      <td>527.000000</td>\n",
       "      <td>527.000000</td>\n",
       "      <td>527.000000</td>\n",
       "      <td>514.000000</td>\n",
       "      <td>...</td>\n",
       "      <td>5.270000e+02</td>\n",
       "      <td>5.270000e+02</td>\n",
       "      <td>5.270000e+02</td>\n",
       "      <td>5.270000e+02</td>\n",
       "      <td>5.270000e+02</td>\n",
       "      <td>5.270000e+02</td>\n",
       "      <td>5.270000e+02</td>\n",
       "      <td>5.270000e+02</td>\n",
       "      <td>5.270000e+02</td>\n",
       "      <td>2.090000e+02</td>\n",
       "    </tr>\n",
       "    <tr>\n",
       "      <th>mean</th>\n",
       "      <td>3.365359e+06</td>\n",
       "      <td>2009.709677</td>\n",
       "      <td>188.416000</td>\n",
       "      <td>14.096000</td>\n",
       "      <td>16.30800</td>\n",
       "      <td>65.872000</td>\n",
       "      <td>214.574953</td>\n",
       "      <td>70.554080</td>\n",
       "      <td>0.329926</td>\n",
       "      <td>4.555525</td>\n",
       "      <td>...</td>\n",
       "      <td>-7.752601e-17</td>\n",
       "      <td>5.056044e-18</td>\n",
       "      <td>6.741392e-17</td>\n",
       "      <td>3.707766e-17</td>\n",
       "      <td>-9.437949e-17</td>\n",
       "      <td>2.089832e-16</td>\n",
       "      <td>-8.763810e-17</td>\n",
       "      <td>-1.516813e-16</td>\n",
       "      <td>2.022418e-16</td>\n",
       "      <td>6.799452e-17</td>\n",
       "    </tr>\n",
       "    <tr>\n",
       "      <th>std</th>\n",
       "      <td>1.126266e+06</td>\n",
       "      <td>5.782592</td>\n",
       "      <td>106.309767</td>\n",
       "      <td>8.198855</td>\n",
       "      <td>10.25551</td>\n",
       "      <td>37.654367</td>\n",
       "      <td>14.070760</td>\n",
       "      <td>1.742015</td>\n",
       "      <td>0.018413</td>\n",
       "      <td>0.109945</td>\n",
       "      <td>...</td>\n",
       "      <td>1.000950e+00</td>\n",
       "      <td>1.000950e+00</td>\n",
       "      <td>1.000950e+00</td>\n",
       "      <td>1.000950e+00</td>\n",
       "      <td>1.000950e+00</td>\n",
       "      <td>1.000950e+00</td>\n",
       "      <td>1.000950e+00</td>\n",
       "      <td>1.000950e+00</td>\n",
       "      <td>1.000950e+00</td>\n",
       "      <td>1.002401e+00</td>\n",
       "    </tr>\n",
       "    <tr>\n",
       "      <th>min</th>\n",
       "      <td>5.454230e+05</td>\n",
       "      <td>2000.000000</td>\n",
       "      <td>2.000000</td>\n",
       "      <td>1.000000</td>\n",
       "      <td>1.00000</td>\n",
       "      <td>1.000000</td>\n",
       "      <td>168.000000</td>\n",
       "      <td>66.000000</td>\n",
       "      <td>0.274131</td>\n",
       "      <td>4.240000</td>\n",
       "      <td>...</td>\n",
       "      <td>-1.388420e+00</td>\n",
       "      <td>-1.418602e+00</td>\n",
       "      <td>-2.325231e+00</td>\n",
       "      <td>-1.926470e+00</td>\n",
       "      <td>-2.310814e+00</td>\n",
       "      <td>-2.376010e+00</td>\n",
       "      <td>-1.987877e+00</td>\n",
       "      <td>-2.393965e+00</td>\n",
       "      <td>-3.736572e+00</td>\n",
       "      <td>-1.872267e+00</td>\n",
       "    </tr>\n",
       "    <tr>\n",
       "      <th>25%</th>\n",
       "      <td>3.127335e+06</td>\n",
       "      <td>2005.000000</td>\n",
       "      <td>90.000000</td>\n",
       "      <td>7.000000</td>\n",
       "      <td>7.00000</td>\n",
       "      <td>32.000000</td>\n",
       "      <td>206.000000</td>\n",
       "      <td>69.000000</td>\n",
       "      <td>0.318077</td>\n",
       "      <td>4.480000</td>\n",
       "      <td>...</td>\n",
       "      <td>-7.121109e-01</td>\n",
       "      <td>-6.869820e-01</td>\n",
       "      <td>-6.833870e-01</td>\n",
       "      <td>-7.154969e-01</td>\n",
       "      <td>-6.886963e-01</td>\n",
       "      <td>-7.074946e-01</td>\n",
       "      <td>-6.445138e-01</td>\n",
       "      <td>-6.645328e-01</td>\n",
       "      <td>-4.637075e-01</td>\n",
       "      <td>-7.843047e-01</td>\n",
       "    </tr>\n",
       "    <tr>\n",
       "      <th>50%</th>\n",
       "      <td>3.915381e+06</td>\n",
       "      <td>2010.000000</td>\n",
       "      <td>194.500000</td>\n",
       "      <td>14.000000</td>\n",
       "      <td>16.00000</td>\n",
       "      <td>65.000000</td>\n",
       "      <td>214.000000</td>\n",
       "      <td>71.000000</td>\n",
       "      <td>0.328638</td>\n",
       "      <td>4.560000</td>\n",
       "      <td>...</td>\n",
       "      <td>-1.981160e-01</td>\n",
       "      <td>-1.804756e-01</td>\n",
       "      <td>-1.956236e-02</td>\n",
       "      <td>-1.100102e-01</td>\n",
       "      <td>-3.326429e-02</td>\n",
       "      <td>-4.621954e-02</td>\n",
       "      <td>-7.888720e-02</td>\n",
       "      <td>7.121263e-03</td>\n",
       "      <td>6.272472e-01</td>\n",
       "      <td>-1.798811e-01</td>\n",
       "    </tr>\n",
       "    <tr>\n",
       "      <th>75%</th>\n",
       "      <td>4.035006e+06</td>\n",
       "      <td>2015.000000</td>\n",
       "      <td>300.000000</td>\n",
       "      <td>21.000000</td>\n",
       "      <td>25.00000</td>\n",
       "      <td>96.250000</td>\n",
       "      <td>224.000000</td>\n",
       "      <td>72.000000</td>\n",
       "      <td>0.339901</td>\n",
       "      <td>4.630000</td>\n",
       "      <td>...</td>\n",
       "      <td>5.398125e-01</td>\n",
       "      <td>4.385877e-01</td>\n",
       "      <td>5.922902e-01</td>\n",
       "      <td>5.711625e-01</td>\n",
       "      <td>6.094366e-01</td>\n",
       "      <td>5.931590e-01</td>\n",
       "      <td>5.574427e-01</td>\n",
       "      <td>6.346690e-01</td>\n",
       "      <td>6.272472e-01</td>\n",
       "      <td>7.871967e-01</td>\n",
       "    </tr>\n",
       "    <tr>\n",
       "      <th>max</th>\n",
       "      <td>4.372601e+06</td>\n",
       "      <td>2019.000000</td>\n",
       "      <td>300.000000</td>\n",
       "      <td>34.000000</td>\n",
       "      <td>44.00000</td>\n",
       "      <td>148.000000</td>\n",
       "      <td>267.000000</td>\n",
       "      <td>76.000000</td>\n",
       "      <td>0.416667</td>\n",
       "      <td>4.930000</td>\n",
       "      <td>...</td>\n",
       "      <td>4.800560e+00</td>\n",
       "      <td>7.107588e+00</td>\n",
       "      <td>3.438940e+00</td>\n",
       "      <td>3.901340e+00</td>\n",
       "      <td>3.944984e+00</td>\n",
       "      <td>3.159432e+00</td>\n",
       "      <td>4.163312e+00</td>\n",
       "      <td>3.366165e+00</td>\n",
       "      <td>2.809157e+00</td>\n",
       "      <td>2.600468e+00</td>\n",
       "    </tr>\n",
       "  </tbody>\n",
       "</table>\n",
       "<p>8 rows × 48 columns</p>\n",
       "</div>"
      ],
      "text/plain": [
       "            espn_id   draft_year  selection_number  position_rank  \\\n",
       "count  6.500000e+01   527.000000        500.000000     500.000000   \n",
       "mean   3.365359e+06  2009.709677        188.416000      14.096000   \n",
       "std    1.126266e+06     5.782592        106.309767       8.198855   \n",
       "min    5.454230e+05  2000.000000          2.000000       1.000000   \n",
       "25%    3.127335e+06  2005.000000         90.000000       7.000000   \n",
       "50%    3.915381e+06  2010.000000        194.500000      14.000000   \n",
       "75%    4.035006e+06  2015.000000        300.000000      21.000000   \n",
       "max    4.372601e+06  2019.000000        300.000000      34.000000   \n",
       "\n",
       "       position_group_rank  section_rank  college_weight_pounds  \\\n",
       "count            500.00000    500.000000             527.000000   \n",
       "mean              16.30800     65.872000             214.574953   \n",
       "std               10.25551     37.654367              14.070760   \n",
       "min                1.00000      1.000000             168.000000   \n",
       "25%                7.00000     32.000000             206.000000   \n",
       "50%               16.00000     65.000000             214.000000   \n",
       "75%               25.00000     96.250000             224.000000   \n",
       "max               44.00000    148.000000             267.000000   \n",
       "\n",
       "       college_height_inches    hw_ratio       forty  ...  \\\n",
       "count             527.000000  527.000000  514.000000  ...   \n",
       "mean               70.554080    0.329926    4.555525  ...   \n",
       "std                 1.742015    0.018413    0.109945  ...   \n",
       "min                66.000000    0.274131    4.240000  ...   \n",
       "25%                69.000000    0.318077    4.480000  ...   \n",
       "50%                71.000000    0.328638    4.560000  ...   \n",
       "75%                72.000000    0.339901    4.630000  ...   \n",
       "max                76.000000    0.416667    4.930000  ...   \n",
       "\n",
       "       rushing_rec_yards_zscore  rushing_receptions_zscore  \\\n",
       "count              5.270000e+02               5.270000e+02   \n",
       "mean              -7.752601e-17               5.056044e-18   \n",
       "std                1.000950e+00               1.000950e+00   \n",
       "min               -1.388420e+00              -1.418602e+00   \n",
       "25%               -7.121109e-01              -6.869820e-01   \n",
       "50%               -1.981160e-01              -1.804756e-01   \n",
       "75%                5.398125e-01               4.385877e-01   \n",
       "max                4.800560e+00               7.107588e+00   \n",
       "\n",
       "       rushing_rush_att_zscore  rushing_rush_td_zscore  \\\n",
       "count             5.270000e+02            5.270000e+02   \n",
       "mean              6.741392e-17            3.707766e-17   \n",
       "std               1.000950e+00            1.000950e+00   \n",
       "min              -2.325231e+00           -1.926470e+00   \n",
       "25%              -6.833870e-01           -7.154969e-01   \n",
       "50%              -1.956236e-02           -1.100102e-01   \n",
       "75%               5.922902e-01            5.711625e-01   \n",
       "max               3.438940e+00            3.901340e+00   \n",
       "\n",
       "       rushing_rush_yds_zscore  rushing_scrim_plays_zscore  \\\n",
       "count             5.270000e+02                5.270000e+02   \n",
       "mean             -9.437949e-17                2.089832e-16   \n",
       "std               1.000950e+00                1.000950e+00   \n",
       "min              -2.310814e+00               -2.376010e+00   \n",
       "25%              -6.886963e-01               -7.074946e-01   \n",
       "50%              -3.326429e-02               -4.621954e-02   \n",
       "75%               6.094366e-01                5.931590e-01   \n",
       "max               3.944984e+00                3.159432e+00   \n",
       "\n",
       "       rushing_scrim_tds_zscore  rushing_scrim_yds_zscore  \\\n",
       "count              5.270000e+02              5.270000e+02   \n",
       "mean              -8.763810e-17             -1.516813e-16   \n",
       "std                1.000950e+00              1.000950e+00   \n",
       "min               -1.987877e+00             -2.393965e+00   \n",
       "25%               -6.445138e-01             -6.645328e-01   \n",
       "50%               -7.888720e-02              7.121263e-03   \n",
       "75%                5.574427e-01              6.346690e-01   \n",
       "max                4.163312e+00              3.366165e+00   \n",
       "\n",
       "       rushing_seasons_zscore  max_madden_zscore  \n",
       "count            5.270000e+02       2.090000e+02  \n",
       "mean             2.022418e-16       6.799452e-17  \n",
       "std              1.000950e+00       1.002401e+00  \n",
       "min             -3.736572e+00      -1.872267e+00  \n",
       "25%             -4.637075e-01      -7.843047e-01  \n",
       "50%              6.272472e-01      -1.798811e-01  \n",
       "75%              6.272472e-01       7.871967e-01  \n",
       "max              2.809157e+00       2.600468e+00  \n",
       "\n",
       "[8 rows x 48 columns]"
      ]
     },
     "execution_count": 586,
     "metadata": {},
     "output_type": "execute_result"
    }
   ],
   "source": [
    "dataset.describe()"
   ]
  },
  {
   "cell_type": "code",
   "execution_count": 587,
   "metadata": {},
   "outputs": [
    {
     "data": {
      "text/plain": [
       "Index(['espn_id', 'full_name', 'first_name', 'last_name', 'position',\n",
       "       'position_group', 'section', 'college', 'draft_year',\n",
       "       'selection_number', 'position_rank', 'position_group_rank',\n",
       "       'section_rank', 'drafting_team', 'home_city', 'home_state',\n",
       "       'home_country', 'college_weight_pounds', 'college_height_inches',\n",
       "       'hw_ratio', 'forty', 'vertical', 'bench', 'broad', 'threecone',\n",
       "       'shuttle', 'rushing_games', 'rushing_rec_td', 'rushing_rec_yards',\n",
       "       'rushing_receptions', 'rushing_rush_att', 'rushing_rush_td',\n",
       "       'rushing_rush_yds', 'rushing_scrim_plays', 'rushing_scrim_tds',\n",
       "       'rushing_scrim_yds', 'rushing_seasons', 'max_madden',\n",
       "       'college_weight_pounds_zscore', 'college_height_inches_zscore',\n",
       "       'hw_ratio_zscore', 'forty_zscore', 'vertical_zscore', 'bench_zscore',\n",
       "       'broad_zscore', 'threecone_zscore', 'shuttle_zscore',\n",
       "       'rushing_games_zscore', 'rushing_rec_td_zscore',\n",
       "       'rushing_rec_yards_zscore', 'rushing_receptions_zscore',\n",
       "       'rushing_rush_att_zscore', 'rushing_rush_td_zscore',\n",
       "       'rushing_rush_yds_zscore', 'rushing_scrim_plays_zscore',\n",
       "       'rushing_scrim_tds_zscore', 'rushing_scrim_yds_zscore',\n",
       "       'rushing_seasons_zscore', 'max_madden_zscore'],\n",
       "      dtype='object')"
      ]
     },
     "execution_count": 587,
     "metadata": {},
     "output_type": "execute_result"
    }
   ],
   "source": [
    "dataset.columns"
   ]
  },
  {
   "cell_type": "code",
   "execution_count": 588,
   "metadata": {},
   "outputs": [
    {
     "name": "stdout",
     "output_type": "stream",
     "text": [
      "['espn_id', 'selection_number', 'position_rank', 'position_group_rank', 'section_rank', 'drafting_team', 'home_city', 'home_state', 'home_country', 'forty', 'vertical', 'bench', 'broad', 'threecone', 'shuttle', 'max_madden', 'forty_zscore', 'vertical_zscore', 'bench_zscore', 'broad_zscore', 'threecone_zscore', 'shuttle_zscore', 'max_madden_zscore']\n"
     ]
    }
   ],
   "source": [
    "#determine which columns have None values\n",
    "none_columns = []\n",
    "for x in dataset.columns:\n",
    "    if dataset[x].isnull().values.any() == True:\n",
    "        none_columns.append(x)\n",
    "print(none_columns)"
   ]
  },
  {
   "cell_type": "code",
   "execution_count": 589,
   "metadata": {},
   "outputs": [
    {
     "name": "stdout",
     "output_type": "stream",
     "text": [
      "{'espn_id': 0, 'selection_number': 400, 'position_rank': 400, 'position_group_rank': 400, 'section_rank': 400, 'drafting_team': 'No Team', 'home_city': 'No City', 'home_state': 'No State', 'home_country': 'USA', 'forty': 4.555525291828793, 'vertical': 34.36480186480186, 'bench': 19.435323383084576, 'broad': 118.0190023752969, 'threecone': 7.062059800664453, 'shuttle': 4.263355263157894, 'max_madden': 50.0, 'forty_zscore': 3.4006520038323862e-15, 'vertical_zscore': 9.585701825668018e-16, 'bench_zscore': 2.562902902617277e-16, 'broad_zscore': 9.620174807203257e-16, 'threecone_zscore': -3.794675906094223e-15, 'shuttle_zscore': 2.4308040960213954e-15, 'max_madden_zscore': -2.872267194774412}\n"
     ]
    }
   ],
   "source": [
    "#Deal with None Values\n",
    "none_dict = {'espn_id': 0,    \n",
    "    'selection_number': 400,\n",
    "    'position_rank': 400,\n",
    "    'position_group_rank': 400,\n",
    "    'section_rank': 400,\n",
    "    'drafting_team': 'No Team',\n",
    "    'home_city': 'No City',\n",
    "    'home_state': 'No State',\n",
    "    'home_country': 'USA',\n",
    "    'forty': dataset['forty'].mean(),\n",
    "    'vertical': dataset['vertical'].mean(), \n",
    "    'bench': dataset['bench'].mean(), \n",
    "    'broad': dataset['broad'].mean(),\n",
    "    'threecone': dataset['threecone'].mean(),\n",
    "    'shuttle': dataset['shuttle'].mean(),\n",
    "    'max_madden': dataset['max_madden'].min() - 10,\n",
    "    'forty_zscore': dataset['forty_zscore'].mean(), \n",
    "    'vertical_zscore': dataset['vertical_zscore'].mean(), \n",
    "    'bench_zscore': dataset['bench_zscore'].mean(), \n",
    "    'broad_zscore': dataset['broad_zscore'].mean(), \n",
    "    'threecone_zscore': dataset['threecone_zscore'].mean(), \n",
    "    'shuttle_zscore': dataset['shuttle_zscore'].mean(), \n",
    "    'max_madden_zscore': dataset['max_madden_zscore'].min() - 1}\n",
    "\n",
    "print(none_dict)\n",
    "\n",
    "for none_col in none_columns:\n",
    "    dataset[none_col] = dataset[none_col].fillna(none_dict[none_col])\n",
    "   \n",
    "\n",
    "#https://jakevdp.github.io/PythonDataScienceHandbook/03.04-missing-values.html"
   ]
  },
  {
   "cell_type": "code",
   "execution_count": 590,
   "metadata": {},
   "outputs": [
    {
     "data": {
      "text/html": [
       "<div>\n",
       "<style scoped>\n",
       "    .dataframe tbody tr th:only-of-type {\n",
       "        vertical-align: middle;\n",
       "    }\n",
       "\n",
       "    .dataframe tbody tr th {\n",
       "        vertical-align: top;\n",
       "    }\n",
       "\n",
       "    .dataframe thead th {\n",
       "        text-align: right;\n",
       "    }\n",
       "</style>\n",
       "<table border=\"1\" class=\"dataframe\">\n",
       "  <thead>\n",
       "    <tr style=\"text-align: right;\">\n",
       "      <th></th>\n",
       "      <th>espn_id</th>\n",
       "      <th>full_name</th>\n",
       "      <th>first_name</th>\n",
       "      <th>last_name</th>\n",
       "      <th>position</th>\n",
       "      <th>position_group</th>\n",
       "      <th>section</th>\n",
       "      <th>college</th>\n",
       "      <th>draft_year</th>\n",
       "      <th>selection_number</th>\n",
       "      <th>...</th>\n",
       "      <th>rushing_rec_yards_zscore</th>\n",
       "      <th>rushing_receptions_zscore</th>\n",
       "      <th>rushing_rush_att_zscore</th>\n",
       "      <th>rushing_rush_td_zscore</th>\n",
       "      <th>rushing_rush_yds_zscore</th>\n",
       "      <th>rushing_scrim_plays_zscore</th>\n",
       "      <th>rushing_scrim_tds_zscore</th>\n",
       "      <th>rushing_scrim_yds_zscore</th>\n",
       "      <th>rushing_seasons_zscore</th>\n",
       "      <th>max_madden_zscore</th>\n",
       "    </tr>\n",
       "    <tr>\n",
       "      <th>fms_id</th>\n",
       "      <th></th>\n",
       "      <th></th>\n",
       "      <th></th>\n",
       "      <th></th>\n",
       "      <th></th>\n",
       "      <th></th>\n",
       "      <th></th>\n",
       "      <th></th>\n",
       "      <th></th>\n",
       "      <th></th>\n",
       "      <th></th>\n",
       "      <th></th>\n",
       "      <th></th>\n",
       "      <th></th>\n",
       "      <th></th>\n",
       "      <th></th>\n",
       "      <th></th>\n",
       "      <th></th>\n",
       "      <th></th>\n",
       "      <th></th>\n",
       "      <th></th>\n",
       "    </tr>\n",
       "  </thead>\n",
       "  <tbody>\n",
       "    <tr>\n",
       "      <th>113</th>\n",
       "      <td>3886636.0</td>\n",
       "      <td>Alex Barnes</td>\n",
       "      <td>Alex</td>\n",
       "      <td>Barnes</td>\n",
       "      <td>RB</td>\n",
       "      <td>RB</td>\n",
       "      <td>O</td>\n",
       "      <td>Kansas State</td>\n",
       "      <td>2019</td>\n",
       "      <td>400.0</td>\n",
       "      <td>...</td>\n",
       "      <td>-0.718123</td>\n",
       "      <td>-0.715121</td>\n",
       "      <td>-0.161304</td>\n",
       "      <td>-0.034324</td>\n",
       "      <td>-0.013948</td>\n",
       "      <td>-0.260805</td>\n",
       "      <td>-0.220294</td>\n",
       "      <td>-0.197161</td>\n",
       "      <td>0.627247</td>\n",
       "      <td>-1.509613</td>\n",
       "    </tr>\n",
       "    <tr>\n",
       "      <th>136</th>\n",
       "      <td>4048244.0</td>\n",
       "      <td>Alexander Mattison</td>\n",
       "      <td>Alexander</td>\n",
       "      <td>Mattison</td>\n",
       "      <td>RB</td>\n",
       "      <td>RB</td>\n",
       "      <td>O</td>\n",
       "      <td>Boise State</td>\n",
       "      <td>2019</td>\n",
       "      <td>400.0</td>\n",
       "      <td>...</td>\n",
       "      <td>0.147553</td>\n",
       "      <td>0.269752</td>\n",
       "      <td>0.419838</td>\n",
       "      <td>0.571162</td>\n",
       "      <td>0.173067</td>\n",
       "      <td>0.431125</td>\n",
       "      <td>0.416036</td>\n",
       "      <td>0.190511</td>\n",
       "      <td>-0.463707</td>\n",
       "      <td>-0.905189</td>\n",
       "    </tr>\n",
       "    <tr>\n",
       "      <th>414</th>\n",
       "      <td>0.0</td>\n",
       "      <td>Benny Snell</td>\n",
       "      <td>Benny</td>\n",
       "      <td>Snell</td>\n",
       "      <td>RB</td>\n",
       "      <td>RB</td>\n",
       "      <td>O</td>\n",
       "      <td>Kentucky</td>\n",
       "      <td>2019</td>\n",
       "      <td>400.0</td>\n",
       "      <td>...</td>\n",
       "      <td>-0.739163</td>\n",
       "      <td>-0.602564</td>\n",
       "      <td>1.156895</td>\n",
       "      <td>1.706450</td>\n",
       "      <td>1.089706</td>\n",
       "      <td>0.978538</td>\n",
       "      <td>1.405883</td>\n",
       "      <td>0.770083</td>\n",
       "      <td>-0.463707</td>\n",
       "      <td>-0.784305</td>\n",
       "    </tr>\n",
       "    <tr>\n",
       "      <th>645</th>\n",
       "      <td>3931398.0</td>\n",
       "      <td>Bryce Love</td>\n",
       "      <td>Bryce</td>\n",
       "      <td>Love</td>\n",
       "      <td>RB</td>\n",
       "      <td>RB</td>\n",
       "      <td>O</td>\n",
       "      <td>Stanford</td>\n",
       "      <td>2019</td>\n",
       "      <td>400.0</td>\n",
       "      <td>...</td>\n",
       "      <td>0.009286</td>\n",
       "      <td>-0.039779</td>\n",
       "      <td>0.363141</td>\n",
       "      <td>0.344105</td>\n",
       "      <td>1.082682</td>\n",
       "      <td>0.330401</td>\n",
       "      <td>0.274629</td>\n",
       "      <td>0.956568</td>\n",
       "      <td>0.627247</td>\n",
       "      <td>-0.542535</td>\n",
       "    </tr>\n",
       "    <tr>\n",
       "      <th>1182</th>\n",
       "      <td>3925347.0</td>\n",
       "      <td>Damien Harris</td>\n",
       "      <td>Damien</td>\n",
       "      <td>Harris</td>\n",
       "      <td>RB</td>\n",
       "      <td>RB</td>\n",
       "      <td>O</td>\n",
       "      <td>Alabama</td>\n",
       "      <td>2019</td>\n",
       "      <td>400.0</td>\n",
       "      <td>...</td>\n",
       "      <td>-0.165052</td>\n",
       "      <td>0.044638</td>\n",
       "      <td>-0.071534</td>\n",
       "      <td>-0.185696</td>\n",
       "      <td>0.384667</td>\n",
       "      <td>-0.059357</td>\n",
       "      <td>-0.220294</td>\n",
       "      <td>0.296521</td>\n",
       "      <td>0.627247</td>\n",
       "      <td>-0.784305</td>\n",
       "    </tr>\n",
       "  </tbody>\n",
       "</table>\n",
       "<p>5 rows × 59 columns</p>\n",
       "</div>"
      ],
      "text/plain": [
       "          espn_id           full_name first_name last_name position  \\\n",
       "fms_id                                                                \n",
       "113     3886636.0         Alex Barnes       Alex    Barnes       RB   \n",
       "136     4048244.0  Alexander Mattison  Alexander  Mattison       RB   \n",
       "414           0.0         Benny Snell      Benny     Snell       RB   \n",
       "645     3931398.0          Bryce Love      Bryce      Love       RB   \n",
       "1182    3925347.0       Damien Harris     Damien    Harris       RB   \n",
       "\n",
       "       position_group section       college  draft_year  selection_number  \\\n",
       "fms_id                                                                      \n",
       "113                RB       O  Kansas State        2019             400.0   \n",
       "136                RB       O   Boise State        2019             400.0   \n",
       "414                RB       O      Kentucky        2019             400.0   \n",
       "645                RB       O      Stanford        2019             400.0   \n",
       "1182               RB       O       Alabama        2019             400.0   \n",
       "\n",
       "        ...  rushing_rec_yards_zscore  rushing_receptions_zscore  \\\n",
       "fms_id  ...                                                        \n",
       "113     ...                 -0.718123                  -0.715121   \n",
       "136     ...                  0.147553                   0.269752   \n",
       "414     ...                 -0.739163                  -0.602564   \n",
       "645     ...                  0.009286                  -0.039779   \n",
       "1182    ...                 -0.165052                   0.044638   \n",
       "\n",
       "        rushing_rush_att_zscore rushing_rush_td_zscore  \\\n",
       "fms_id                                                   \n",
       "113                   -0.161304              -0.034324   \n",
       "136                    0.419838               0.571162   \n",
       "414                    1.156895               1.706450   \n",
       "645                    0.363141               0.344105   \n",
       "1182                  -0.071534              -0.185696   \n",
       "\n",
       "       rushing_rush_yds_zscore rushing_scrim_plays_zscore  \\\n",
       "fms_id                                                      \n",
       "113                  -0.013948                  -0.260805   \n",
       "136                   0.173067                   0.431125   \n",
       "414                   1.089706                   0.978538   \n",
       "645                   1.082682                   0.330401   \n",
       "1182                  0.384667                  -0.059357   \n",
       "\n",
       "       rushing_scrim_tds_zscore  rushing_scrim_yds_zscore  \\\n",
       "fms_id                                                      \n",
       "113                   -0.220294                 -0.197161   \n",
       "136                    0.416036                  0.190511   \n",
       "414                    1.405883                  0.770083   \n",
       "645                    0.274629                  0.956568   \n",
       "1182                  -0.220294                  0.296521   \n",
       "\n",
       "        rushing_seasons_zscore  max_madden_zscore  \n",
       "fms_id                                             \n",
       "113                   0.627247          -1.509613  \n",
       "136                  -0.463707          -0.905189  \n",
       "414                  -0.463707          -0.784305  \n",
       "645                   0.627247          -0.542535  \n",
       "1182                  0.627247          -0.784305  \n",
       "\n",
       "[5 rows x 59 columns]"
      ]
     },
     "execution_count": 590,
     "metadata": {},
     "output_type": "execute_result"
    }
   ],
   "source": [
    "dataset.head()"
   ]
  },
  {
   "cell_type": "code",
   "execution_count": 591,
   "metadata": {},
   "outputs": [],
   "source": [
    "#create categories for grades\n",
    "def f(row):\n",
    "    if row['max_madden'] > 90 : val = 90\n",
    "    elif row['max_madden'] < 90 and row['max_madden'] >= 80 : val = 80\n",
    "    elif row['max_madden'] < 80 and row['max_madden'] >= 70 : val = 70  \n",
    "    elif row['max_madden'] < 70 and row['max_madden'] >= 60 : val = 60\n",
    "    elif row['max_madden'] < 60 and row['max_madden'] >= 50 : val = 50\n",
    "    else: val = 0\n",
    "    return val\n",
    "dataset['madden_cat'] = dataset.apply(f, axis=1)\n",
    "\n"
   ]
  },
  {
   "cell_type": "code",
   "execution_count": 592,
   "metadata": {},
   "outputs": [],
   "source": [
    "stats_list = ['rushing_rec_td', 'rushing_rec_yards',\n",
    "       'rushing_receptions', 'rushing_rush_att', 'rushing_rush_td', 'rushing_rush_yds', 'rushing_scrim_plays', 'rushing_scrim_tds',\n",
    "       'rushing_scrim_yds']\n",
    "\n",
    "\n",
    "def game_avg(row):\n",
    "    #print(row)\n",
    "    if row['rushing_games'] == 0:\n",
    "        pass\n",
    "    else:\n",
    "        for stat in stats_list:\n",
    "            row[stat] = row[stat]/row['rushing_games']\n",
    "    return row\n",
    "             \n",
    "\n",
    "dataset = dataset.apply(game_avg, axis=1)"
   ]
  },
  {
   "cell_type": "code",
   "execution_count": 593,
   "metadata": {},
   "outputs": [
    {
     "data": {
      "text/html": [
       "<div>\n",
       "<style scoped>\n",
       "    .dataframe tbody tr th:only-of-type {\n",
       "        vertical-align: middle;\n",
       "    }\n",
       "\n",
       "    .dataframe tbody tr th {\n",
       "        vertical-align: top;\n",
       "    }\n",
       "\n",
       "    .dataframe thead th {\n",
       "        text-align: right;\n",
       "    }\n",
       "</style>\n",
       "<table border=\"1\" class=\"dataframe\">\n",
       "  <thead>\n",
       "    <tr style=\"text-align: right;\">\n",
       "      <th></th>\n",
       "      <th>rushing_rush_yds</th>\n",
       "    </tr>\n",
       "    <tr>\n",
       "      <th>fms_id</th>\n",
       "      <th></th>\n",
       "    </tr>\n",
       "  </thead>\n",
       "  <tbody>\n",
       "    <tr>\n",
       "      <th>113</th>\n",
       "      <td>74.742857</td>\n",
       "    </tr>\n",
       "    <tr>\n",
       "      <th>136</th>\n",
       "      <td>74.447368</td>\n",
       "    </tr>\n",
       "    <tr>\n",
       "      <th>414</th>\n",
       "      <td>99.307692</td>\n",
       "    </tr>\n",
       "    <tr>\n",
       "      <th>645</th>\n",
       "      <td>78.877551</td>\n",
       "    </tr>\n",
       "    <tr>\n",
       "      <th>1182</th>\n",
       "      <td>56.851852</td>\n",
       "    </tr>\n",
       "    <tr>\n",
       "      <th>...</th>\n",
       "      <td>...</td>\n",
       "    </tr>\n",
       "    <tr>\n",
       "      <th>4656</th>\n",
       "      <td>82.826087</td>\n",
       "    </tr>\n",
       "    <tr>\n",
       "      <th>4658</th>\n",
       "      <td>90.863636</td>\n",
       "    </tr>\n",
       "    <tr>\n",
       "      <th>4774</th>\n",
       "      <td>127.181818</td>\n",
       "    </tr>\n",
       "    <tr>\n",
       "      <th>4833</th>\n",
       "      <td>49.562500</td>\n",
       "    </tr>\n",
       "    <tr>\n",
       "      <th>4843</th>\n",
       "      <td>86.333333</td>\n",
       "    </tr>\n",
       "  </tbody>\n",
       "</table>\n",
       "<p>527 rows × 1 columns</p>\n",
       "</div>"
      ],
      "text/plain": [
       "        rushing_rush_yds\n",
       "fms_id                  \n",
       "113            74.742857\n",
       "136            74.447368\n",
       "414            99.307692\n",
       "645            78.877551\n",
       "1182           56.851852\n",
       "...                  ...\n",
       "4656           82.826087\n",
       "4658           90.863636\n",
       "4774          127.181818\n",
       "4833           49.562500\n",
       "4843           86.333333\n",
       "\n",
       "[527 rows x 1 columns]"
      ]
     },
     "execution_count": 593,
     "metadata": {},
     "output_type": "execute_result"
    }
   ],
   "source": [
    "dataset[['rushing_rush_yds']]"
   ]
  },
  {
   "cell_type": "code",
   "execution_count": null,
   "metadata": {},
   "outputs": [],
   "source": []
  },
  {
   "cell_type": "code",
   "execution_count": 594,
   "metadata": {},
   "outputs": [],
   "source": [
    "\n",
    "#Total Features\n",
    "\"\"\"['espn_id', 'full_name', 'first_name', 'last_name', 'position',\n",
    "       'position_group', 'section', 'college', 'draft_year',\n",
    "       'selection_number', 'position_rank', 'position_group_rank',\n",
    "       'section_rank', 'drafting_team', 'home_city', 'home_state',\n",
    "       'home_country', 'college_weight_pounds', 'college_height_inches',\n",
    "       'hw_ratio', 'forty', 'vertical', 'bench', 'broad', 'threecone',\n",
    "       'shuttle', 'rushing_games', 'rushing_rec_td', 'rushing_rec_yards',\n",
    "       'rushing_receptions', 'rushing_rush_att', 'rushing_rush_td',\n",
    "       'rushing_rush_yds', 'rushing_scrim_plays', 'rushing_scrim_tds',\n",
    "       'rushing_scrim_yds', 'rushing_seasons', 'max_madden',\n",
    "       'college_weight_pounds_zscore', 'college_height_inches_zscore',\n",
    "       'hw_ratio_zscore', 'forty_zscore', 'vertical_zscore', 'bench_zscore',\n",
    "       'broad_zscore', 'threecone_zscore', 'shuttle_zscore',\n",
    "       'rushing_games_zscore', 'rushing_rec_td_zscore',\n",
    "       'rushing_rec_yards_zscore', 'rushing_receptions_zscore',\n",
    "       'rushing_rush_att_zscore', 'rushing_rush_td_zscore',\n",
    "       'rushing_rush_yds_zscore', 'rushing_scrim_plays_zscore',\n",
    "       'rushing_scrim_tds_zscore', 'rushing_scrim_yds_zscore',\n",
    "       'rushing_seasons_zscore', 'max_madden_zscore', 'madden_cat']\"\"\"\n",
    "\n",
    "\n",
    "features = ['hw_ratio', 'forty', 'vertical', 'bench', 'broad', 'threecone',\n",
    "       'shuttle', 'rushing_games', 'rushing_rec_td', 'rushing_rec_yards',\n",
    "       'rushing_receptions', 'rushing_rush_att', 'rushing_rush_td',\n",
    "       'rushing_rush_yds', 'rushing_scrim_plays', 'rushing_scrim_tds',\n",
    "       'rushing_scrim_yds', 'rushing_seasons', 'madden_cat']\n",
    "\n",
    "z_features = ['hw_ratio_zscore', 'forty_zscore', 'vertical_zscore', 'bench_zscore',\n",
    "       'broad_zscore', 'threecone_zscore', 'shuttle_zscore',\n",
    "       'rushing_games_zscore', 'rushing_rec_td_zscore',\n",
    "       'rushing_rec_yards_zscore', 'rushing_receptions_zscore',\n",
    "       'rushing_rush_att_zscore', 'rushing_rush_td_zscore',\n",
    "       'rushing_rush_yds_zscore', 'rushing_scrim_plays_zscore',\n",
    "       'rushing_scrim_tds_zscore', 'rushing_scrim_yds_zscore',\n",
    "       'rushing_seasons_zscore', 'madden_cat']\n",
    "\n",
    "limit_features = ['rushing_rush_yds_zscore', 'rushing_scrim_yds_zscore', 'broad_zscore', 'rushing_receptions_zscore', \n",
    "'rushing_rush_att_zscore', 'rushing_scrim_plays_zscore', 'rushing_seasons_zscore', 'vertical_zscore', 'max_madden']"
   ]
  },
  {
   "cell_type": "code",
   "execution_count": 595,
   "metadata": {},
   "outputs": [],
   "source": [
    "#create the dataset with the features we want to feed the model\n",
    "bl_data = dataset[features].copy()\n",
    "bl_data = shuffle(bl_data)\n",
    "value_data, label_data = bl_data[:].drop(['madden_cat'], axis =1), bl_data.pop('madden_cat')"
   ]
  },
  {
   "cell_type": "code",
   "execution_count": 596,
   "metadata": {},
   "outputs": [
    {
     "data": {
      "text/html": [
       "<div>\n",
       "<style scoped>\n",
       "    .dataframe tbody tr th:only-of-type {\n",
       "        vertical-align: middle;\n",
       "    }\n",
       "\n",
       "    .dataframe tbody tr th {\n",
       "        vertical-align: top;\n",
       "    }\n",
       "\n",
       "    .dataframe thead th {\n",
       "        text-align: right;\n",
       "    }\n",
       "</style>\n",
       "<table border=\"1\" class=\"dataframe\">\n",
       "  <thead>\n",
       "    <tr style=\"text-align: right;\">\n",
       "      <th></th>\n",
       "      <th>hw_ratio</th>\n",
       "      <th>forty</th>\n",
       "      <th>vertical</th>\n",
       "      <th>bench</th>\n",
       "      <th>broad</th>\n",
       "      <th>threecone</th>\n",
       "      <th>shuttle</th>\n",
       "      <th>rushing_games</th>\n",
       "      <th>rushing_rec_td</th>\n",
       "      <th>rushing_rec_yards</th>\n",
       "      <th>rushing_receptions</th>\n",
       "      <th>rushing_rush_att</th>\n",
       "      <th>rushing_rush_td</th>\n",
       "      <th>rushing_rush_yds</th>\n",
       "      <th>rushing_scrim_plays</th>\n",
       "      <th>rushing_scrim_tds</th>\n",
       "      <th>rushing_scrim_yds</th>\n",
       "      <th>rushing_seasons</th>\n",
       "    </tr>\n",
       "    <tr>\n",
       "      <th>fms_id</th>\n",
       "      <th></th>\n",
       "      <th></th>\n",
       "      <th></th>\n",
       "      <th></th>\n",
       "      <th></th>\n",
       "      <th></th>\n",
       "      <th></th>\n",
       "      <th></th>\n",
       "      <th></th>\n",
       "      <th></th>\n",
       "      <th></th>\n",
       "      <th></th>\n",
       "      <th></th>\n",
       "      <th></th>\n",
       "      <th></th>\n",
       "      <th></th>\n",
       "      <th></th>\n",
       "      <th></th>\n",
       "    </tr>\n",
       "  </thead>\n",
       "  <tbody>\n",
       "    <tr>\n",
       "      <th>755</th>\n",
       "      <td>-0.453361</td>\n",
       "      <td>0.594374</td>\n",
       "      <td>-1.420846</td>\n",
       "      <td>-3.602259e-01</td>\n",
       "      <td>-2.371368</td>\n",
       "      <td>0.051333</td>\n",
       "      <td>-0.375561</td>\n",
       "      <td>1.185722</td>\n",
       "      <td>-0.950363</td>\n",
       "      <td>-0.929465</td>\n",
       "      <td>-0.857581</td>\n",
       "      <td>-1.107440</td>\n",
       "      <td>-0.755338</td>\n",
       "      <td>-1.220563</td>\n",
       "      <td>-1.181273</td>\n",
       "      <td>-0.908152</td>\n",
       "      <td>-1.347356</td>\n",
       "      <td>0.627247</td>\n",
       "    </tr>\n",
       "    <tr>\n",
       "      <th>2015</th>\n",
       "      <td>2.299259</td>\n",
       "      <td>-0.235311</td>\n",
       "      <td>0.000000</td>\n",
       "      <td>-8.916314e-16</td>\n",
       "      <td>0.000000</td>\n",
       "      <td>0.000000</td>\n",
       "      <td>0.000000</td>\n",
       "      <td>0.699740</td>\n",
       "      <td>0.272608</td>\n",
       "      <td>0.581684</td>\n",
       "      <td>0.344348</td>\n",
       "      <td>-0.289078</td>\n",
       "      <td>-0.682468</td>\n",
       "      <td>-0.371119</td>\n",
       "      <td>-0.217955</td>\n",
       "      <td>-0.588963</td>\n",
       "      <td>-0.181270</td>\n",
       "      <td>0.627247</td>\n",
       "    </tr>\n",
       "    <tr>\n",
       "      <th>546</th>\n",
       "      <td>-0.391315</td>\n",
       "      <td>-1.433744</td>\n",
       "      <td>0.049704</td>\n",
       "      <td>6.436618e-01</td>\n",
       "      <td>-0.990257</td>\n",
       "      <td>-0.530514</td>\n",
       "      <td>-0.115689</td>\n",
       "      <td>1.088526</td>\n",
       "      <td>1.295910</td>\n",
       "      <td>0.086846</td>\n",
       "      <td>-0.204144</td>\n",
       "      <td>-1.374983</td>\n",
       "      <td>-1.459840</td>\n",
       "      <td>-1.491403</td>\n",
       "      <td>-1.329736</td>\n",
       "      <td>-1.113919</td>\n",
       "      <td>-1.323254</td>\n",
       "      <td>0.627247</td>\n",
       "    </tr>\n",
       "    <tr>\n",
       "      <th>4954</th>\n",
       "      <td>0.271936</td>\n",
       "      <td>-0.327498</td>\n",
       "      <td>-0.869390</td>\n",
       "      <td>-8.621697e-01</td>\n",
       "      <td>-1.779463</td>\n",
       "      <td>1.085728</td>\n",
       "      <td>1.010424</td>\n",
       "      <td>0.602544</td>\n",
       "      <td>-0.637672</td>\n",
       "      <td>0.077875</td>\n",
       "      <td>0.059014</td>\n",
       "      <td>0.262535</td>\n",
       "      <td>1.041426</td>\n",
       "      <td>0.313517</td>\n",
       "      <td>0.257083</td>\n",
       "      <td>0.853362</td>\n",
       "      <td>0.303574</td>\n",
       "      <td>0.627247</td>\n",
       "    </tr>\n",
       "    <tr>\n",
       "      <th>4788</th>\n",
       "      <td>-0.383559</td>\n",
       "      <td>-0.235311</td>\n",
       "      <td>0.000000</td>\n",
       "      <td>1.145606e+00</td>\n",
       "      <td>0.000000</td>\n",
       "      <td>0.000000</td>\n",
       "      <td>0.000000</td>\n",
       "      <td>-0.563813</td>\n",
       "      <td>1.199391</td>\n",
       "      <td>-0.181183</td>\n",
       "      <td>-0.351647</td>\n",
       "      <td>-1.207225</td>\n",
       "      <td>-1.262117</td>\n",
       "      <td>-1.220793</td>\n",
       "      <td>-1.194927</td>\n",
       "      <td>-0.946877</td>\n",
       "      <td>-1.149820</td>\n",
       "      <td>-0.463707</td>\n",
       "    </tr>\n",
       "  </tbody>\n",
       "</table>\n",
       "</div>"
      ],
      "text/plain": [
       "        hw_ratio     forty  vertical         bench     broad  threecone  \\\n",
       "fms_id                                                                    \n",
       "755    -0.453361  0.594374 -1.420846 -3.602259e-01 -2.371368   0.051333   \n",
       "2015    2.299259 -0.235311  0.000000 -8.916314e-16  0.000000   0.000000   \n",
       "546    -0.391315 -1.433744  0.049704  6.436618e-01 -0.990257  -0.530514   \n",
       "4954    0.271936 -0.327498 -0.869390 -8.621697e-01 -1.779463   1.085728   \n",
       "4788   -0.383559 -0.235311  0.000000  1.145606e+00  0.000000   0.000000   \n",
       "\n",
       "         shuttle  rushing_games  rushing_rec_td  rushing_rec_yards  \\\n",
       "fms_id                                                               \n",
       "755    -0.375561       1.185722       -0.950363          -0.929465   \n",
       "2015    0.000000       0.699740        0.272608           0.581684   \n",
       "546    -0.115689       1.088526        1.295910           0.086846   \n",
       "4954    1.010424       0.602544       -0.637672           0.077875   \n",
       "4788    0.000000      -0.563813        1.199391          -0.181183   \n",
       "\n",
       "        rushing_receptions  rushing_rush_att  rushing_rush_td  \\\n",
       "fms_id                                                          \n",
       "755              -0.857581         -1.107440        -0.755338   \n",
       "2015              0.344348         -0.289078        -0.682468   \n",
       "546              -0.204144         -1.374983        -1.459840   \n",
       "4954              0.059014          0.262535         1.041426   \n",
       "4788             -0.351647         -1.207225        -1.262117   \n",
       "\n",
       "        rushing_rush_yds  rushing_scrim_plays  rushing_scrim_tds  \\\n",
       "fms_id                                                             \n",
       "755            -1.220563            -1.181273          -0.908152   \n",
       "2015           -0.371119            -0.217955          -0.588963   \n",
       "546            -1.491403            -1.329736          -1.113919   \n",
       "4954            0.313517             0.257083           0.853362   \n",
       "4788           -1.220793            -1.194927          -0.946877   \n",
       "\n",
       "        rushing_scrim_yds  rushing_seasons  \n",
       "fms_id                                      \n",
       "755             -1.347356         0.627247  \n",
       "2015            -0.181270         0.627247  \n",
       "546             -1.323254         0.627247  \n",
       "4954             0.303574         0.627247  \n",
       "4788            -1.149820        -0.463707  "
      ]
     },
     "execution_count": 596,
     "metadata": {},
     "output_type": "execute_result"
    }
   ],
   "source": [
    "#feature Engineering\n",
    "#Z_score transformations\n",
    "\n",
    "value_cols = value_data.columns\n",
    "for col in value_cols:\n",
    "    value_data[col] = stats.zscore(value_data[col].values)\n",
    "\n",
    "    \n",
    "value_data.head()\n",
    "\n"
   ]
  },
  {
   "cell_type": "code",
   "execution_count": 597,
   "metadata": {},
   "outputs": [
    {
     "name": "stdout",
     "output_type": "stream",
     "text": [
      "60\n"
     ]
    },
    {
     "data": {
      "text/plain": [
       "63.0"
      ]
     },
     "execution_count": 597,
     "metadata": {},
     "output_type": "execute_result"
    }
   ],
   "source": [
    "#quick check that the original dataset and copied dataset have the same score\n",
    "print(label_data[113])\n",
    "dataset['max_madden'][113]"
   ]
  },
  {
   "cell_type": "code",
   "execution_count": 598,
   "metadata": {},
   "outputs": [
    {
     "data": {
      "image/png": "[encoded data removed]",
      "text/plain": [
       "<Figure size 432x288 with 20 Axes>"
      ]
     },
     "metadata": {
      "needs_background": "light"
     },
     "output_type": "display_data"
    }
   ],
   "source": [
    "# histograms for some interesting measurements\n",
    "value_data.hist()\n",
    "pyplot.show()"
   ]
  },
  {
   "cell_type": "code",
   "execution_count": 599,
   "metadata": {},
   "outputs": [],
   "source": [
    "X_train, X_validation, Y_train, Y_validation = train_test_split(value_data, label_data, test_size=0.20, random_state=1)"
   ]
  },
  {
   "cell_type": "code",
   "execution_count": 600,
   "metadata": {},
   "outputs": [
    {
     "data": {
      "text/plain": [
       "array([[ 0.87225803, -2.07905466, -0.50175241, ...,  1.09592041,\n",
       "         1.63381068, -0.4637075 ],\n",
       "       [-1.26437955,  0.40999991, -0.31793364, ..., -0.74685035,\n",
       "        -0.6160069 ,  0.62724719],\n",
       "       [-0.76845834,  0.2256255 ,  1.15261656, ..., -1.57896073,\n",
       "        -1.26803644, -0.4637075 ],\n",
       "       ...,\n",
       "       [-0.16322905, -1.43374422, -0.50175241, ...,  1.21514904,\n",
       "         1.92521263, -1.55466218],\n",
       "       [-1.08080374, -0.14312333, -0.13411486, ...,  1.44324408,\n",
       "         1.49379629,  0.62724719],\n",
       "       [-0.83011963, -0.97280818,  0.41734146, ..., -0.3648642 ,\n",
       "        -0.13634748, -0.4637075 ]])"
      ]
     },
     "execution_count": 600,
     "metadata": {},
     "output_type": "execute_result"
    }
   ],
   "source": [
    "X_train.values"
   ]
  },
  {
   "cell_type": "code",
   "execution_count": 601,
   "metadata": {},
   "outputs": [
    {
     "name": "stdout",
     "output_type": "stream",
     "text": [
      "Accuracy:  0.6037735849056604\n",
      "R2 : -0.34923988662715777\n"
     ]
    },
    {
     "name": "stderr",
     "output_type": "stream",
     "text": [
      "C:\\Users\\jonat\\Anaconda3\\envs\\tf-gpu2.0\\lib\\site-packages\\sklearn\\linear_model\\logistic.py:432: FutureWarning: Default solver will be changed to 'lbfgs' in 0.22. Specify a solver to silence this warning.\n",
      "  FutureWarning)\n",
      "C:\\Users\\jonat\\Anaconda3\\envs\\tf-gpu2.0\\lib\\site-packages\\sklearn\\linear_model\\logistic.py:469: FutureWarning: Default multi_class will be changed to 'auto' in 0.22. Specify the multi_class option to silence this warning.\n",
      "  \"this warning.\", FutureWarning)\n"
     ]
    }
   ],
   "source": [
    "#Logistic Regression:\n",
    "clf = LogisticRegression(random_state=0).fit(X_train, Y_train)\n",
    "madden_predict = clf.predict(X_validation)\n",
    "print('Accuracy:  ' + str(accuracy_score(Y_validation, madden_predict)))\n",
    "print('R2 : ' + str(r2_score(Y_validation, madden_predict)))"
   ]
  },
  {
   "cell_type": "code",
   "execution_count": 602,
   "metadata": {},
   "outputs": [],
   "source": [
    "# Plot feature importance\n",
    "def plot_feat_import(coef, model_title):\n",
    "    feature_coef = pd.Series(index=X_train.columns, data=coef)\n",
    "    print('{} model picked {} out of {} features'.format(model_title, str(sum(feature_coef != 0)), str(X_train.shape[1])))\n",
    "    top_bottom_10 = pd.concat([feature_coef.sort_values().head(10), feature_coef.sort_values().tail(10)])\n",
    "    top_bottom_10.plot(kind='barh', title='Feature importance (Top and bottom 10) - {} model'.format(model_title))\n",
    "    #from W207 project (Fleishman, Hilton, Niu)\n",
    "    \n",
    "# Plot predictions\n",
    "def plot_it(y_train, y_valid, model_title):\n",
    "    plt.scatter(y_train, train_labels, c = \"blue\", alpha=0.6, marker = \"o\", label = \"Training data\")\n",
    "    plt.scatter(y_valid, dev_labels, c = \"green\", alpha=0.6, marker = \"o\", label = \"Validation data\")\n",
    "    plt.title(model_title)\n",
    "    plt.xlabel(\"Predicted values\")\n",
    "    plt.ylabel(\"Real values\")\n",
    "    plt.legend(loc = \"upper left\")\n",
    "    plt.plot([10.5, 13.5], [10.5, 13.5], c = \"red\")\n",
    "    plt.show()"
   ]
  },
  {
   "cell_type": "code",
   "execution_count": 603,
   "metadata": {},
   "outputs": [
    {
     "name": "stdout",
     "output_type": "stream",
     "text": [
      "Lasso Model\n",
      "Accuracy:  0.02830188679245283\n",
      "R2 : 0.08584900798763229\n",
      "MSE : 157.87735849056602\n",
      "Lasso model picked 14 out of 18 features\n",
      "----------\n"
     ]
    },
    {
     "data": {
      "image/png": "[encoded data removed]",
      "text/plain": [
       "<Figure size 432x288 with 1 Axes>"
      ]
     },
     "metadata": {
      "needs_background": "light"
     },
     "output_type": "display_data"
    }
   ],
   "source": [
    "#Lasso:\n",
    "alpha = 0.1\n",
    "lasso_model = Lasso(alpha=alpha).fit(X_train, Y_train)\n",
    "madden_predict = lasso_model.predict(X_validation)\n",
    "\n",
    "madden_predict = np.around(madden_predict, decimals = 0)\n",
    "\n",
    "print('Lasso Model')\n",
    "print('Accuracy:  ' + str(accuracy_score(Y_validation, madden_predict)))\n",
    "print('R2 : ' + str(r2_score(Y_validation, madden_predict)))\n",
    "print('MSE : ' + str(mean_squared_error(Y_validation, madden_predict)))\n",
    "plot_feat_import(lasso_model.coef_, 'Lasso')  \n",
    "#plot_it()\n",
    "print('----------')\n",
    "\n"
   ]
  },
  {
   "cell_type": "code",
   "execution_count": 604,
   "metadata": {},
   "outputs": [
    {
     "name": "stdout",
     "output_type": "stream",
     "text": [
      "Accuracy:  0.018867924528301886\n",
      "R2 : 0.08726926049987138\n",
      "MSE : 157.6320754716981\n",
      "LassoCV Model\n",
      "Lassocv model picked 15 out of 18 features\n",
      "----------\n"
     ]
    },
    {
     "name": "stderr",
     "output_type": "stream",
     "text": [
      "C:\\Users\\jonat\\Anaconda3\\envs\\tf-gpu2.0\\lib\\site-packages\\sklearn\\linear_model\\coordinate_descent.py:475: ConvergenceWarning: Objective did not converge. You might want to increase the number of iterations. Duality gap: 24.353650164295686, tolerance: 6.671876484560571\n",
      "  positive)\n"
     ]
    },
    {
     "data": {
      "image/png": "[encoded data removed]",
      "text/plain": [
       "<Figure size 432x288 with 1 Axes>"
      ]
     },
     "metadata": {
      "needs_background": "light"
     },
     "output_type": "display_data"
    }
   ],
   "source": [
    "#Lassocv:\n",
    "\n",
    "lasso_modelcv = LassoCV(cv=5, random_state=0).fit(X_train, Y_train)\n",
    "madden_predict = lasso_modelcv.predict(X_validation)\n",
    "madden_predict = np.around(madden_predict, decimals = 0)\n",
    "print('Accuracy:  ' + str(accuracy_score(Y_validation, madden_predict)))\n",
    "print('R2 : ' + str(r2_score(Y_validation, madden_predict)))\n",
    "print('MSE : ' + str(mean_squared_error(Y_validation, madden_predict)))\n",
    "print('LassoCV Model')\n",
    "plot_feat_import(lasso_modelcv.coef_, 'Lassocv') \n",
    "print('----------')\n"
   ]
  },
  {
   "cell_type": "code",
   "execution_count": 605,
   "metadata": {},
   "outputs": [
    {
     "name": "stdout",
     "output_type": "stream",
     "text": [
      "RidgeCV Model\n",
      "Accuracy:  0.02830188679245283\n",
      "R2 : 0.08956351455810374\n",
      "MSE : 157.23584905660377\n",
      "RidgeCV model picked 18 out of 18 features\n",
      "----------\n",
      "Index(['hw_ratio', 'forty', 'vertical', 'bench', 'broad', 'threecone',\n",
      "       'shuttle', 'rushing_games', 'rushing_rec_td', 'rushing_rec_yards',\n",
      "       'rushing_receptions', 'rushing_rush_att', 'rushing_rush_td',\n",
      "       'rushing_rush_yds', 'rushing_scrim_plays', 'rushing_scrim_tds',\n",
      "       'rushing_scrim_yds', 'rushing_seasons'],\n",
      "      dtype='object')\n",
      "[-0.44803943  0.31481135 -0.95186865  0.08369368  2.40353366 -0.49652317\n",
      "  0.66056947  1.89265008 -1.31174629  1.25871411 -0.00949636 -2.93201286\n",
      "  0.77910918  3.05785202 -2.76778482  0.46755215  3.09278079 -3.3356845 ]\n"
     ]
    },
    {
     "name": "stderr",
     "output_type": "stream",
     "text": [
      "C:\\Users\\jonat\\Anaconda3\\envs\\tf-gpu2.0\\lib\\site-packages\\sklearn\\model_selection\\_search.py:813: DeprecationWarning: The default of the `iid` parameter will change from True to False in version 0.22 and will be removed in 0.24. This will change numeric results when test-set sizes are unequal.\n",
      "  DeprecationWarning)\n"
     ]
    },
    {
     "data": {
      "image/png": "[encoded data removed]",
      "text/plain": [
       "<Figure size 432x288 with 1 Axes>"
      ]
     },
     "metadata": {
      "needs_background": "light"
     },
     "output_type": "display_data"
    }
   ],
   "source": [
    "#RidgeCV:\n",
    "\n",
    "ridge_model = RidgeCV(cv=5).fit(X_train, Y_train)\n",
    "madden_predict = ridge_model.predict(X_validation)\n",
    "madden_predict = np.around(madden_predict, decimals = 0)\n",
    "\n",
    "print('RidgeCV Model')\n",
    "print('Accuracy:  ' + str(accuracy_score(Y_validation, madden_predict)))\n",
    "print('R2 : ' + str(r2_score(Y_validation, madden_predict)))\n",
    "print('MSE : ' + str(mean_squared_error(Y_validation, madden_predict)))\n",
    "\n",
    "plot_feat_import(ridge_model.coef_, 'RidgeCV')\n",
    "print('----------')\n",
    "print(X_train.columns)\n",
    "print(ridge_model.coef_)"
   ]
  },
  {
   "cell_type": "code",
   "execution_count": 606,
   "metadata": {},
   "outputs": [
    {
     "data": {
      "text/plain": [
       "['rushing_rush_yds_zscore',\n",
       " 'rushing_scrim_yds_zscore',\n",
       " 'broad_zscore',\n",
       " 'rushing_receptions_zscore',\n",
       " 'rushing_rush_att_zscore',\n",
       " 'rushing_scrim_plays_zscore',\n",
       " 'rushing_seasons_zscore',\n",
       " 'vertical_zscore']"
      ]
     },
     "execution_count": 606,
     "metadata": {},
     "output_type": "execute_result"
    }
   ],
   "source": [
    "['rushing_rush_yds_zscore', 'rushing_scrim_yds_zscore', 'broad_zscore', 'rushing_receptions_zscore', \n",
    "'rushing_rush_att_zscore', 'rushing_scrim_plays_zscore', 'rushing_seasons_zscore', 'vertical_zscore']\n"
   ]
  },
  {
   "cell_type": "code",
   "execution_count": 607,
   "metadata": {},
   "outputs": [
    {
     "name": "stdout",
     "output_type": "stream",
     "text": [
      "ElasticNetCV Model\n",
      "Accuracy:  0.02830188679245283\n",
      "R2 : 0.08765163617624339\n",
      "MSE : 157.56603773584905\n",
      "ElasticNetCV model picked 17 out of 18 features\n"
     ]
    },
    {
     "data": {
      "image/png": "[encoded data removed]",
      "text/plain": [
       "<Figure size 432x288 with 1 Axes>"
      ]
     },
     "metadata": {
      "needs_background": "light"
     },
     "output_type": "display_data"
    }
   ],
   "source": [
    "#ElasticNetCV:\n",
    "\n",
    "elasticnetcv_model = ElasticNetCV(cv=5, random_state=0).fit(X_train, Y_train)\n",
    "madden_predict = elasticnetcv_model.predict(X_validation)\n",
    "madden_predict = np.around(madden_predict, decimals = 0)\n",
    "print('ElasticNetCV Model')\n",
    "print('Accuracy:  ' + str(accuracy_score(Y_validation, madden_predict)))\n",
    "print('R2 : ' + str(r2_score(Y_validation, madden_predict)))\n",
    "print('MSE : ' + str(mean_squared_error(Y_validation, madden_predict)))\n",
    "plot_feat_import(elasticnetcv_model.coef_, 'ElasticNetCV')\n"
   ]
  },
  {
   "cell_type": "code",
   "execution_count": 608,
   "metadata": {},
   "outputs": [
    {
     "name": "stdout",
     "output_type": "stream",
     "text": [
      "Accuracy:  0.5\n",
      "R2 : -0.6059778407626897\n",
      "MSE : 277.35849056603774\n",
      "Decision Tree Regressor model picked 18 out of 18 features\n"
     ]
    },
    {
     "data": {
      "image/png": "[encoded data removed]",
      "text/plain": [
       "<Figure size 432x288 with 1 Axes>"
      ]
     },
     "metadata": {
      "needs_background": "light"
     },
     "output_type": "display_data"
    }
   ],
   "source": [
    "#Decision Tree Regressor\n",
    "from sklearn import tree\n",
    "decisiontreeregrssor = DecisionTreeRegressor()\n",
    "decisiontreeregrssor.fit(X_train, Y_train)\n",
    "madden_predict = decisiontreeregrssor.predict(X_validation)\n",
    "print('Accuracy:  ' + str(accuracy_score(Y_validation, madden_predict)))\n",
    "print('R2 : ' + str(r2_score(Y_validation, madden_predict)))\n",
    "print('MSE : ' + str(mean_squared_error(Y_validation, madden_predict)))\n",
    "plot_feat_import(decisiontreeregrssor.feature_importances_, 'Decision Tree Regressor')"
   ]
  },
  {
   "cell_type": "code",
   "execution_count": 609,
   "metadata": {},
   "outputs": [
    {
     "name": "stdout",
     "output_type": "stream",
     "text": [
      "Accuracy:  0.5471698113207547\n",
      "R2 : 0.1423859829940739\n",
      "MSE : 148.11320754716982\n",
      "AdaBoostRegressor model picked 18 out of 18 features\n"
     ]
    },
    {
     "data": {
      "image/png": "[encoded data removed]",
      "text/plain": [
       "<Figure size 432x288 with 1 Axes>"
      ]
     },
     "metadata": {
      "needs_background": "light"
     },
     "output_type": "display_data"
    }
   ],
   "source": [
    "#Adaboost\n",
    "adaboostregressor = AdaBoostRegressor(DecisionTreeRegressor(), n_estimators=300)\n",
    "adaboostregressor.fit(X_train, Y_train)\n",
    "madden_predict = adaboostregressor.predict(X_validation)\n",
    "print('Accuracy:  ' + str(accuracy_score(Y_validation, madden_predict)))\n",
    "print('R2 : ' + str(r2_score(Y_validation, madden_predict)))\n",
    "print('MSE : ' + str(mean_squared_error(Y_validation, madden_predict)))\n",
    "plot_feat_import(adaboostregressor.feature_importances_, 'AdaBoostRegressor')\n",
    "\n"
   ]
  },
  {
   "cell_type": "code",
   "execution_count": 610,
   "metadata": {},
   "outputs": [
    {
     "name": "stdout",
     "output_type": "stream",
     "text": [
      "Accuracy:  0.4339622641509434\n",
      "R2 : -0.8354032465859311\n",
      "MSE : 316.9811320754717\n",
      "Decision Tree Classifier model picked 18 out of 18 features\n"
     ]
    },
    {
     "data": {
      "image/png": "[encoded data removed]",
      "text/plain": [
       "<Figure size 432x288 with 1 Axes>"
      ]
     },
     "metadata": {
      "needs_background": "light"
     },
     "output_type": "display_data"
    }
   ],
   "source": [
    "#Decision Tree\n",
    "from sklearn import tree\n",
    "decisiontree = DecisionTreeClassifier(max_depth = 100)\n",
    "decisiontree.fit(X_train, Y_train)\n",
    "madden_predict = decisiontree.predict(X_validation)\n",
    "print('Accuracy:  ' + str(accuracy_score(Y_validation, madden_predict)))\n",
    "print('R2 : ' + str(r2_score(Y_validation, madden_predict)))\n",
    "print('MSE : ' + str(mean_squared_error(Y_validation, madden_predict)))\n",
    "plot_feat_import(decisiontree.feature_importances_, 'Decision Tree Classifier')"
   ]
  },
  {
   "cell_type": "code",
   "execution_count": 611,
   "metadata": {},
   "outputs": [
    {
     "name": "stdout",
     "output_type": "stream",
     "text": [
      "Accuracy:  0.5754716981132075\n",
      "R2 : -0.22360216439062075\n",
      "MSE : 211.32075471698113\n",
      "Extra Tree Classifier model picked 18 out of 18 features\n"
     ]
    },
    {
     "name": "stderr",
     "output_type": "stream",
     "text": [
      "C:\\Users\\jonat\\Anaconda3\\envs\\tf-gpu2.0\\lib\\site-packages\\sklearn\\ensemble\\forest.py:245: FutureWarning: The default value of n_estimators will change from 10 in version 0.20 to 100 in 0.22.\n",
      "  \"10 in version 0.20 to 100 in 0.22.\", FutureWarning)\n"
     ]
    },
    {
     "data": {
      "image/png": "[encoded data removed]",
      "text/plain": [
       "<Figure size 432x288 with 1 Axes>"
      ]
     },
     "metadata": {
      "needs_background": "light"
     },
     "output_type": "display_data"
    }
   ],
   "source": [
    "#Extra Tree\n",
    "from sklearn import tree\n",
    "extradecisiontree = ExtraTreesClassifier(max_depth = 100)\n",
    "extradecisiontree.fit(X_train, Y_train)\n",
    "madden_predict = extradecisiontree.predict(X_validation)\n",
    "print('Accuracy:  ' + str(accuracy_score(Y_validation, madden_predict)))\n",
    "print('R2 : ' + str(r2_score(Y_validation, madden_predict)))\n",
    "print('MSE : ' + str(mean_squared_error(Y_validation, madden_predict)))\n",
    "plot_feat_import(extradecisiontree.feature_importances_, 'Extra Tree Classifier')"
   ]
  },
  {
   "cell_type": "code",
   "execution_count": 612,
   "metadata": {},
   "outputs": [
    {
     "name": "stdout",
     "output_type": "stream",
     "text": [
      "Accuracy:  0.42452830188679247\n",
      "R2 : -0.38747745426436464\n",
      "MSE : 239.62264150943398\n",
      "AdaBoostRegressor model picked 18 out of 18 features\n"
     ]
    },
    {
     "data": {
      "image/png": "[encoded data removed]",
      "text/plain": [
       "<Figure size 432x288 with 1 Axes>"
      ]
     },
     "metadata": {
      "needs_background": "light"
     },
     "output_type": "display_data"
    }
   ],
   "source": [
    "#Adaboost\n",
    "adaboostclassifier = AdaBoostClassifier(DecisionTreeClassifier(), n_estimators=500)\n",
    "adaboostclassifier.fit(X_train, Y_train)\n",
    "madden_predict = adaboostclassifier.predict(X_validation)\n",
    "print('Accuracy:  ' + str(accuracy_score(Y_validation, madden_predict)))\n",
    "print('R2 : ' + str(r2_score(Y_validation, madden_predict)))\n",
    "print('MSE : ' + str(mean_squared_error(Y_validation, madden_predict)))\n",
    "plot_feat_import(adaboostclassifier.feature_importances_, 'AdaBoostRegressor')"
   ]
  },
  {
   "cell_type": "code",
   "execution_count": 613,
   "metadata": {},
   "outputs": [
    {
     "name": "stdout",
     "output_type": "stream",
     "text": [
      "Accuracy:  0.6509433962264151\n",
      "R2 : -0.2618397320278276\n",
      "MSE : 217.9245283018868\n"
     ]
    },
    {
     "ename": "AttributeError",
     "evalue": "'SVC' object has no attribute 'feature_importances_'",
     "output_type": "error",
     "traceback": [
      "\u001b[1;31m---------------------------------------------------------------------------\u001b[0m",
      "\u001b[1;31mAttributeError\u001b[0m                            Traceback (most recent call last)",
      "\u001b[1;32m<ipython-input-613-71c36df37843>\u001b[0m in \u001b[0;36m<module>\u001b[1;34m\u001b[0m\n\u001b[0;32m      6\u001b[0m \u001b[0mprint\u001b[0m\u001b[1;33m(\u001b[0m\u001b[1;34m'R2 : '\u001b[0m \u001b[1;33m+\u001b[0m \u001b[0mstr\u001b[0m\u001b[1;33m(\u001b[0m\u001b[0mr2_score\u001b[0m\u001b[1;33m(\u001b[0m\u001b[0mY_validation\u001b[0m\u001b[1;33m,\u001b[0m \u001b[0mmadden_predict\u001b[0m\u001b[1;33m)\u001b[0m\u001b[1;33m)\u001b[0m\u001b[1;33m)\u001b[0m\u001b[1;33m\u001b[0m\u001b[1;33m\u001b[0m\u001b[0m\n\u001b[0;32m      7\u001b[0m \u001b[0mprint\u001b[0m\u001b[1;33m(\u001b[0m\u001b[1;34m'MSE : '\u001b[0m \u001b[1;33m+\u001b[0m \u001b[0mstr\u001b[0m\u001b[1;33m(\u001b[0m\u001b[0mmean_squared_error\u001b[0m\u001b[1;33m(\u001b[0m\u001b[0mY_validation\u001b[0m\u001b[1;33m,\u001b[0m \u001b[0mmadden_predict\u001b[0m\u001b[1;33m)\u001b[0m\u001b[1;33m)\u001b[0m\u001b[1;33m)\u001b[0m\u001b[1;33m\u001b[0m\u001b[1;33m\u001b[0m\u001b[0m\n\u001b[1;32m----> 8\u001b[1;33m \u001b[0mplot_feat_import\u001b[0m\u001b[1;33m(\u001b[0m\u001b[0msvmclassifier\u001b[0m\u001b[1;33m.\u001b[0m\u001b[0mfeature_importances_\u001b[0m\u001b[1;33m,\u001b[0m \u001b[1;34m'SVC'\u001b[0m\u001b[1;33m)\u001b[0m\u001b[1;33m\u001b[0m\u001b[1;33m\u001b[0m\u001b[0m\n\u001b[0m",
      "\u001b[1;31mAttributeError\u001b[0m: 'SVC' object has no attribute 'feature_importances_'"
     ]
    }
   ],
   "source": [
    "#SVM\n",
    "svmclassifier = SVC(gamma='auto')\n",
    "svmclassifier.fit(X_train, Y_train)\n",
    "madden_predict = svmclassifier.predict(X_validation)\n",
    "print('Accuracy:  ' + str(accuracy_score(Y_validation, madden_predict)))\n",
    "print('R2 : ' + str(r2_score(Y_validation, madden_predict)))\n",
    "print('MSE : ' + str(mean_squared_error(Y_validation, madden_predict)))\n",
    "plot_feat_import(svmclassifier.feature_importances_, 'SVC')"
   ]
  },
  {
   "cell_type": "code",
   "execution_count": 614,
   "metadata": {},
   "outputs": [
    {
     "name": "stdout",
     "output_type": "stream",
     "text": [
      "Accuracy:  0.5566037735849056\n",
      "R2 : -0.5677402731254828\n",
      "MSE : 270.75471698113205\n",
      "AdaBoostRegressor model picked 18 out of 18 features\n"
     ]
    },
    {
     "name": "stderr",
     "output_type": "stream",
     "text": [
      "C:\\Users\\jonat\\Anaconda3\\envs\\tf-gpu2.0\\lib\\site-packages\\sklearn\\ensemble\\forest.py:245: FutureWarning: The default value of n_estimators will change from 10 in version 0.20 to 100 in 0.22.\n",
      "  \"10 in version 0.20 to 100 in 0.22.\", FutureWarning)\n"
     ]
    },
    {
     "data": {
      "image/png": "[encoded data removed]",
      "text/plain": [
       "<Figure size 432x288 with 1 Axes>"
      ]
     },
     "metadata": {
      "needs_background": "light"
     },
     "output_type": "display_data"
    }
   ],
   "source": [
    "#RandomForest\n",
    "rfclassifier = RandomForestClassifier()\n",
    "rfclassifier.fit(X_train, Y_train)\n",
    "madden_predict = rfclassifier.predict(X_validation)\n",
    "print('Accuracy:  ' + str(accuracy_score(Y_validation, madden_predict)))\n",
    "print('R2 : ' + str(r2_score(Y_validation, madden_predict)))\n",
    "print('MSE : ' + str(mean_squared_error(Y_validation, madden_predict)))\n",
    "plot_feat_import(rfclassifier.feature_importances_, 'AdaBoostRegressor')"
   ]
  },
  {
   "cell_type": "code",
   "execution_count": 615,
   "metadata": {},
   "outputs": [
    {
     "name": "stdout",
     "output_type": "stream",
     "text": [
      "Accuracy:  0.6415094339622641\n",
      "R2 : -0.3110023189899507\n",
      "MSE : 226.41509433962264\n"
     ]
    },
    {
     "name": "stderr",
     "output_type": "stream",
     "text": [
      "C:\\Users\\jonat\\Anaconda3\\envs\\tf-gpu2.0\\lib\\site-packages\\sklearn\\linear_model\\logistic.py:432: FutureWarning: Default solver will be changed to 'lbfgs' in 0.22. Specify a solver to silence this warning.\n",
      "  FutureWarning)\n",
      "C:\\Users\\jonat\\Anaconda3\\envs\\tf-gpu2.0\\lib\\site-packages\\sklearn\\linear_model\\logistic.py:469: FutureWarning: Default multi_class will be changed to 'auto' in 0.22. Specify the multi_class option to silence this warning.\n",
      "  \"this warning.\", FutureWarning)\n"
     ]
    }
   ],
   "source": [
    "#PCA with Linear Regression\n",
    "pca = PCA(n_components=5)\n",
    "pca_x = pca.fit_transform(X_train)\n",
    "pca_validation = pca.transform(X_validation)\n",
    "\n",
    "log_pca = LogisticRegression(random_state=0).fit(pca_x, Y_train)\n",
    "madden_predict = log_pca.predict(pca_validation)\n",
    "print('Accuracy:  ' + str(accuracy_score(Y_validation, madden_predict)))\n",
    "print('R2 : ' + str(r2_score(Y_validation, madden_predict)))\n",
    "print('MSE : ' + str(mean_squared_error(Y_validation, madden_predict)))\n",
    "#print(log_pca.coef_.shape)\n",
    "#plot_feat_import(log_pca.coef_, 'PCA with Log Regression')"
   ]
  },
  {
   "cell_type": "code",
   "execution_count": 616,
   "metadata": {},
   "outputs": [
    {
     "name": "stdout",
     "output_type": "stream",
     "text": [
      "Accuracy: 0.60 (+/- 0.02) [SVC]\n",
      "Accuracy: 0.56 (+/- 0.02) [Extra Trees]\n",
      "Accuracy: 0.57 (+/- 0.01) [Random Forest]\n",
      "Accuracy: 0.60 (+/- 0.01) [Log_pca]\n"
     ]
    },
    {
     "name": "stderr",
     "output_type": "stream",
     "text": [
      "C:\\Users\\jonat\\Anaconda3\\envs\\tf-gpu2.0\\lib\\site-packages\\sklearn\\linear_model\\logistic.py:432: FutureWarning: Default solver will be changed to 'lbfgs' in 0.22. Specify a solver to silence this warning.\n",
      "  FutureWarning)\n",
      "C:\\Users\\jonat\\Anaconda3\\envs\\tf-gpu2.0\\lib\\site-packages\\sklearn\\linear_model\\logistic.py:469: FutureWarning: Default multi_class will be changed to 'auto' in 0.22. Specify the multi_class option to silence this warning.\n",
      "  \"this warning.\", FutureWarning)\n",
      "C:\\Users\\jonat\\Anaconda3\\envs\\tf-gpu2.0\\lib\\site-packages\\sklearn\\linear_model\\logistic.py:432: FutureWarning: Default solver will be changed to 'lbfgs' in 0.22. Specify a solver to silence this warning.\n",
      "  FutureWarning)\n",
      "C:\\Users\\jonat\\Anaconda3\\envs\\tf-gpu2.0\\lib\\site-packages\\sklearn\\linear_model\\logistic.py:469: FutureWarning: Default multi_class will be changed to 'auto' in 0.22. Specify the multi_class option to silence this warning.\n",
      "  \"this warning.\", FutureWarning)\n",
      "C:\\Users\\jonat\\Anaconda3\\envs\\tf-gpu2.0\\lib\\site-packages\\sklearn\\linear_model\\logistic.py:432: FutureWarning: Default solver will be changed to 'lbfgs' in 0.22. Specify a solver to silence this warning.\n",
      "  FutureWarning)\n",
      "C:\\Users\\jonat\\Anaconda3\\envs\\tf-gpu2.0\\lib\\site-packages\\sklearn\\linear_model\\logistic.py:469: FutureWarning: Default multi_class will be changed to 'auto' in 0.22. Specify the multi_class option to silence this warning.\n",
      "  \"this warning.\", FutureWarning)\n",
      "C:\\Users\\jonat\\Anaconda3\\envs\\tf-gpu2.0\\lib\\site-packages\\sklearn\\linear_model\\logistic.py:432: FutureWarning: Default solver will be changed to 'lbfgs' in 0.22. Specify a solver to silence this warning.\n",
      "  FutureWarning)\n",
      "C:\\Users\\jonat\\Anaconda3\\envs\\tf-gpu2.0\\lib\\site-packages\\sklearn\\linear_model\\logistic.py:469: FutureWarning: Default multi_class will be changed to 'auto' in 0.22. Specify the multi_class option to silence this warning.\n",
      "  \"this warning.\", FutureWarning)\n",
      "C:\\Users\\jonat\\Anaconda3\\envs\\tf-gpu2.0\\lib\\site-packages\\sklearn\\linear_model\\logistic.py:432: FutureWarning: Default solver will be changed to 'lbfgs' in 0.22. Specify a solver to silence this warning.\n",
      "  FutureWarning)\n",
      "C:\\Users\\jonat\\Anaconda3\\envs\\tf-gpu2.0\\lib\\site-packages\\sklearn\\linear_model\\logistic.py:469: FutureWarning: Default multi_class will be changed to 'auto' in 0.22. Specify the multi_class option to silence this warning.\n",
      "  \"this warning.\", FutureWarning)\n",
      "C:\\Users\\jonat\\Anaconda3\\envs\\tf-gpu2.0\\lib\\site-packages\\sklearn\\linear_model\\logistic.py:432: FutureWarning: Default solver will be changed to 'lbfgs' in 0.22. Specify a solver to silence this warning.\n",
      "  FutureWarning)\n",
      "C:\\Users\\jonat\\Anaconda3\\envs\\tf-gpu2.0\\lib\\site-packages\\sklearn\\linear_model\\logistic.py:469: FutureWarning: Default multi_class will be changed to 'auto' in 0.22. Specify the multi_class option to silence this warning.\n",
      "  \"this warning.\", FutureWarning)\n",
      "C:\\Users\\jonat\\Anaconda3\\envs\\tf-gpu2.0\\lib\\site-packages\\sklearn\\linear_model\\logistic.py:432: FutureWarning: Default solver will be changed to 'lbfgs' in 0.22. Specify a solver to silence this warning.\n",
      "  FutureWarning)\n",
      "C:\\Users\\jonat\\Anaconda3\\envs\\tf-gpu2.0\\lib\\site-packages\\sklearn\\linear_model\\logistic.py:469: FutureWarning: Default multi_class will be changed to 'auto' in 0.22. Specify the multi_class option to silence this warning.\n",
      "  \"this warning.\", FutureWarning)\n",
      "C:\\Users\\jonat\\Anaconda3\\envs\\tf-gpu2.0\\lib\\site-packages\\sklearn\\linear_model\\logistic.py:432: FutureWarning: Default solver will be changed to 'lbfgs' in 0.22. Specify a solver to silence this warning.\n",
      "  FutureWarning)\n",
      "C:\\Users\\jonat\\Anaconda3\\envs\\tf-gpu2.0\\lib\\site-packages\\sklearn\\linear_model\\logistic.py:469: FutureWarning: Default multi_class will be changed to 'auto' in 0.22. Specify the multi_class option to silence this warning.\n",
      "  \"this warning.\", FutureWarning)\n",
      "C:\\Users\\jonat\\Anaconda3\\envs\\tf-gpu2.0\\lib\\site-packages\\sklearn\\linear_model\\logistic.py:432: FutureWarning: Default solver will be changed to 'lbfgs' in 0.22. Specify a solver to silence this warning.\n",
      "  FutureWarning)\n",
      "C:\\Users\\jonat\\Anaconda3\\envs\\tf-gpu2.0\\lib\\site-packages\\sklearn\\linear_model\\logistic.py:469: FutureWarning: Default multi_class will be changed to 'auto' in 0.22. Specify the multi_class option to silence this warning.\n",
      "  \"this warning.\", FutureWarning)\n"
     ]
    },
    {
     "name": "stdout",
     "output_type": "stream",
     "text": [
      "Accuracy: 0.60 (+/- 0.01) [Ensemble]\n"
     ]
    },
    {
     "name": "stderr",
     "output_type": "stream",
     "text": [
      "C:\\Users\\jonat\\Anaconda3\\envs\\tf-gpu2.0\\lib\\site-packages\\sklearn\\linear_model\\logistic.py:432: FutureWarning: Default solver will be changed to 'lbfgs' in 0.22. Specify a solver to silence this warning.\n",
      "  FutureWarning)\n",
      "C:\\Users\\jonat\\Anaconda3\\envs\\tf-gpu2.0\\lib\\site-packages\\sklearn\\linear_model\\logistic.py:469: FutureWarning: Default multi_class will be changed to 'auto' in 0.22. Specify the multi_class option to silence this warning.\n",
      "  \"this warning.\", FutureWarning)\n"
     ]
    }
   ],
   "source": [
    "eclf = VotingClassifier(estimators=[('svc', svmclassifier), ('extratrees', extradecisiontree), ('rf', rfclassifier), ('logpca', log_pca)],voting='hard')\n",
    "\n",
    "\n",
    "for clf, label in zip([svmclassifier, extradecisiontree, rfclassifier, log_pca, eclf], ['SVC', 'Extra Trees', 'Random Forest', 'Log_pca', 'Ensemble']): \n",
    "    scores = cross_val_score(clf, value_data, label_data, scoring='accuracy', cv=5)\n",
    "    print(\"Accuracy: %0.2f (+/- %0.2f) [%s]\" % (scores.mean(), scores.std(), label))\n",
    "    \n",
    "#\n",
    "\n"
   ]
  },
  {
   "cell_type": "code",
   "execution_count": 617,
   "metadata": {},
   "outputs": [
    {
     "name": "stdout",
     "output_type": "stream",
     "text": [
      "Accuracy:  0.018867924528301886\n",
      "R2 : 0.1149095593919095\n",
      "R2 : 152.85849056603774\n",
      "Gradient Booster Regressor model picked 18 out of 18 features\n"
     ]
    },
    {
     "data": {
      "image/png": "[encoded data removed]",
      "text/plain": [
       "<Figure size 432x288 with 1 Axes>"
      ]
     },
     "metadata": {
      "needs_background": "light"
     },
     "output_type": "display_data"
    }
   ],
   "source": [
    "#Gradient Booster Regressor\n",
    "import numpy as np\n",
    "gradientboostingregressor = GradientBoostingRegressor(random_state=0)\n",
    "gradientboostingregressor.fit(X_train, Y_train)\n",
    "madden_predict = gradientboostingregressor.predict(X_validation)\n",
    "madden_predict = np.around(madden_predict, decimals = 0)\n",
    "print('Accuracy:  ' + str(accuracy_score(Y_validation, madden_predict)))\n",
    "print('R2 : ' + str(r2_score(Y_validation, madden_predict)))\n",
    "print('R2 : ' + str(mean_squared_error(Y_validation, madden_predict)))\n",
    "plot_feat_import(gradientboostingregressor.feature_importances_, 'Gradient Booster Regressor')"
   ]
  },
  {
   "cell_type": "code",
   "execution_count": null,
   "metadata": {},
   "outputs": [],
   "source": []
  },
  {
   "cell_type": "code",
   "execution_count": 618,
   "metadata": {},
   "outputs": [
    {
     "name": "stderr",
     "output_type": "stream",
     "text": [
      "C:\\Users\\jonat\\Anaconda3\\envs\\tf-gpu2.0\\lib\\site-packages\\sklearn\\model_selection\\_split.py:657: Warning: The least populated class in y has only 5 members, which is too few. The minimum number of members in any class cannot be less than n_splits=10.\n",
      "  % (min_groups, self.n_splits)), Warning)\n",
      "C:\\Users\\jonat\\Anaconda3\\envs\\tf-gpu2.0\\lib\\site-packages\\sklearn\\model_selection\\_split.py:657: Warning: The least populated class in y has only 5 members, which is too few. The minimum number of members in any class cannot be less than n_splits=10.\n",
      "  % (min_groups, self.n_splits)), Warning)\n",
      "C:\\Users\\jonat\\Anaconda3\\envs\\tf-gpu2.0\\lib\\site-packages\\sklearn\\discriminant_analysis.py:388: UserWarning: Variables are collinear.\n",
      "  warnings.warn(\"Variables are collinear.\")\n",
      "C:\\Users\\jonat\\Anaconda3\\envs\\tf-gpu2.0\\lib\\site-packages\\sklearn\\discriminant_analysis.py:388: UserWarning: Variables are collinear.\n",
      "  warnings.warn(\"Variables are collinear.\")\n",
      "C:\\Users\\jonat\\Anaconda3\\envs\\tf-gpu2.0\\lib\\site-packages\\sklearn\\discriminant_analysis.py:388: UserWarning: Variables are collinear.\n",
      "  warnings.warn(\"Variables are collinear.\")\n",
      "C:\\Users\\jonat\\Anaconda3\\envs\\tf-gpu2.0\\lib\\site-packages\\sklearn\\discriminant_analysis.py:388: UserWarning: Variables are collinear.\n",
      "  warnings.warn(\"Variables are collinear.\")\n",
      "C:\\Users\\jonat\\Anaconda3\\envs\\tf-gpu2.0\\lib\\site-packages\\sklearn\\discriminant_analysis.py:388: UserWarning: Variables are collinear.\n",
      "  warnings.warn(\"Variables are collinear.\")\n",
      "C:\\Users\\jonat\\Anaconda3\\envs\\tf-gpu2.0\\lib\\site-packages\\sklearn\\discriminant_analysis.py:388: UserWarning: Variables are collinear.\n",
      "  warnings.warn(\"Variables are collinear.\")\n",
      "C:\\Users\\jonat\\Anaconda3\\envs\\tf-gpu2.0\\lib\\site-packages\\sklearn\\discriminant_analysis.py:388: UserWarning: Variables are collinear.\n",
      "  warnings.warn(\"Variables are collinear.\")\n",
      "C:\\Users\\jonat\\Anaconda3\\envs\\tf-gpu2.0\\lib\\site-packages\\sklearn\\discriminant_analysis.py:388: UserWarning: Variables are collinear.\n",
      "  warnings.warn(\"Variables are collinear.\")\n",
      "C:\\Users\\jonat\\Anaconda3\\envs\\tf-gpu2.0\\lib\\site-packages\\sklearn\\discriminant_analysis.py:388: UserWarning: Variables are collinear.\n",
      "  warnings.warn(\"Variables are collinear.\")\n",
      "C:\\Users\\jonat\\Anaconda3\\envs\\tf-gpu2.0\\lib\\site-packages\\sklearn\\discriminant_analysis.py:388: UserWarning: Variables are collinear.\n",
      "  warnings.warn(\"Variables are collinear.\")\n",
      "C:\\Users\\jonat\\Anaconda3\\envs\\tf-gpu2.0\\lib\\site-packages\\sklearn\\model_selection\\_split.py:657: Warning: The least populated class in y has only 5 members, which is too few. The minimum number of members in any class cannot be less than n_splits=10.\n",
      "  % (min_groups, self.n_splits)), Warning)\n",
      "C:\\Users\\jonat\\Anaconda3\\envs\\tf-gpu2.0\\lib\\site-packages\\sklearn\\model_selection\\_split.py:657: Warning: The least populated class in y has only 5 members, which is too few. The minimum number of members in any class cannot be less than n_splits=10.\n",
      "  % (min_groups, self.n_splits)), Warning)\n"
     ]
    },
    {
     "name": "stdout",
     "output_type": "stream",
     "text": [
      "LR: 0.607862 (0.036139)\n",
      "LDA: 0.602230 (0.048056)\n",
      "KNN: 0.571642 (0.039633)\n",
      "CART: 0.474763 (0.040473)\n"
     ]
    },
    {
     "name": "stderr",
     "output_type": "stream",
     "text": [
      "C:\\Users\\jonat\\Anaconda3\\envs\\tf-gpu2.0\\lib\\site-packages\\sklearn\\model_selection\\_split.py:657: Warning: The least populated class in y has only 5 members, which is too few. The minimum number of members in any class cannot be less than n_splits=10.\n",
      "  % (min_groups, self.n_splits)), Warning)\n"
     ]
    },
    {
     "name": "stdout",
     "output_type": "stream",
     "text": [
      "ABC: 0.380976 (0.098785)\n"
     ]
    },
    {
     "name": "stderr",
     "output_type": "stream",
     "text": [
      "C:\\Users\\jonat\\Anaconda3\\envs\\tf-gpu2.0\\lib\\site-packages\\sklearn\\model_selection\\_split.py:657: Warning: The least populated class in y has only 5 members, which is too few. The minimum number of members in any class cannot be less than n_splits=10.\n",
      "  % (min_groups, self.n_splits)), Warning)\n"
     ]
    },
    {
     "name": "stdout",
     "output_type": "stream",
     "text": [
      "GBC: 0.569089 (0.043485)\n",
      "RFC: 0.558285 (0.055232)\n",
      "GNB: 0.424857 (0.028796)\n"
     ]
    },
    {
     "name": "stderr",
     "output_type": "stream",
     "text": [
      "C:\\Users\\jonat\\Anaconda3\\envs\\tf-gpu2.0\\lib\\site-packages\\sklearn\\model_selection\\_split.py:657: Warning: The least populated class in y has only 5 members, which is too few. The minimum number of members in any class cannot be less than n_splits=10.\n",
      "  % (min_groups, self.n_splits)), Warning)\n",
      "C:\\Users\\jonat\\Anaconda3\\envs\\tf-gpu2.0\\lib\\site-packages\\sklearn\\ensemble\\forest.py:245: FutureWarning: The default value of n_estimators will change from 10 in version 0.20 to 100 in 0.22.\n",
      "  \"10 in version 0.20 to 100 in 0.22.\", FutureWarning)\n",
      "C:\\Users\\jonat\\Anaconda3\\envs\\tf-gpu2.0\\lib\\site-packages\\sklearn\\ensemble\\forest.py:245: FutureWarning: The default value of n_estimators will change from 10 in version 0.20 to 100 in 0.22.\n",
      "  \"10 in version 0.20 to 100 in 0.22.\", FutureWarning)\n",
      "C:\\Users\\jonat\\Anaconda3\\envs\\tf-gpu2.0\\lib\\site-packages\\sklearn\\ensemble\\forest.py:245: FutureWarning: The default value of n_estimators will change from 10 in version 0.20 to 100 in 0.22.\n",
      "  \"10 in version 0.20 to 100 in 0.22.\", FutureWarning)\n",
      "C:\\Users\\jonat\\Anaconda3\\envs\\tf-gpu2.0\\lib\\site-packages\\sklearn\\ensemble\\forest.py:245: FutureWarning: The default value of n_estimators will change from 10 in version 0.20 to 100 in 0.22.\n",
      "  \"10 in version 0.20 to 100 in 0.22.\", FutureWarning)\n",
      "C:\\Users\\jonat\\Anaconda3\\envs\\tf-gpu2.0\\lib\\site-packages\\sklearn\\ensemble\\forest.py:245: FutureWarning: The default value of n_estimators will change from 10 in version 0.20 to 100 in 0.22.\n",
      "  \"10 in version 0.20 to 100 in 0.22.\", FutureWarning)\n",
      "C:\\Users\\jonat\\Anaconda3\\envs\\tf-gpu2.0\\lib\\site-packages\\sklearn\\ensemble\\forest.py:245: FutureWarning: The default value of n_estimators will change from 10 in version 0.20 to 100 in 0.22.\n",
      "  \"10 in version 0.20 to 100 in 0.22.\", FutureWarning)\n",
      "C:\\Users\\jonat\\Anaconda3\\envs\\tf-gpu2.0\\lib\\site-packages\\sklearn\\ensemble\\forest.py:245: FutureWarning: The default value of n_estimators will change from 10 in version 0.20 to 100 in 0.22.\n",
      "  \"10 in version 0.20 to 100 in 0.22.\", FutureWarning)\n",
      "C:\\Users\\jonat\\Anaconda3\\envs\\tf-gpu2.0\\lib\\site-packages\\sklearn\\ensemble\\forest.py:245: FutureWarning: The default value of n_estimators will change from 10 in version 0.20 to 100 in 0.22.\n",
      "  \"10 in version 0.20 to 100 in 0.22.\", FutureWarning)\n",
      "C:\\Users\\jonat\\Anaconda3\\envs\\tf-gpu2.0\\lib\\site-packages\\sklearn\\ensemble\\forest.py:245: FutureWarning: The default value of n_estimators will change from 10 in version 0.20 to 100 in 0.22.\n",
      "  \"10 in version 0.20 to 100 in 0.22.\", FutureWarning)\n",
      "C:\\Users\\jonat\\Anaconda3\\envs\\tf-gpu2.0\\lib\\site-packages\\sklearn\\ensemble\\forest.py:245: FutureWarning: The default value of n_estimators will change from 10 in version 0.20 to 100 in 0.22.\n",
      "  \"10 in version 0.20 to 100 in 0.22.\", FutureWarning)\n",
      "C:\\Users\\jonat\\Anaconda3\\envs\\tf-gpu2.0\\lib\\site-packages\\sklearn\\model_selection\\_split.py:657: Warning: The least populated class in y has only 5 members, which is too few. The minimum number of members in any class cannot be less than n_splits=10.\n",
      "  % (min_groups, self.n_splits)), Warning)\n",
      "C:\\Users\\jonat\\Anaconda3\\envs\\tf-gpu2.0\\lib\\site-packages\\sklearn\\model_selection\\_split.py:657: Warning: The least populated class in y has only 5 members, which is too few. The minimum number of members in any class cannot be less than n_splits=10.\n",
      "  % (min_groups, self.n_splits)), Warning)\n"
     ]
    },
    {
     "name": "stdout",
     "output_type": "stream",
     "text": [
      "SVM: 0.603827 (0.013537)\n",
      "ETC: 0.584713 (0.031729)\n"
     ]
    },
    {
     "name": "stderr",
     "output_type": "stream",
     "text": [
      "C:\\Users\\jonat\\Anaconda3\\envs\\tf-gpu2.0\\lib\\site-packages\\sklearn\\model_selection\\_split.py:657: Warning: The least populated class in y has only 5 members, which is too few. The minimum number of members in any class cannot be less than n_splits=10.\n",
      "  % (min_groups, self.n_splits)), Warning)\n",
      "C:\\Users\\jonat\\Anaconda3\\envs\\tf-gpu2.0\\lib\\site-packages\\sklearn\\ensemble\\forest.py:245: FutureWarning: The default value of n_estimators will change from 10 in version 0.20 to 100 in 0.22.\n",
      "  \"10 in version 0.20 to 100 in 0.22.\", FutureWarning)\n",
      "C:\\Users\\jonat\\Anaconda3\\envs\\tf-gpu2.0\\lib\\site-packages\\sklearn\\ensemble\\forest.py:245: FutureWarning: The default value of n_estimators will change from 10 in version 0.20 to 100 in 0.22.\n",
      "  \"10 in version 0.20 to 100 in 0.22.\", FutureWarning)\n",
      "C:\\Users\\jonat\\Anaconda3\\envs\\tf-gpu2.0\\lib\\site-packages\\sklearn\\ensemble\\forest.py:245: FutureWarning: The default value of n_estimators will change from 10 in version 0.20 to 100 in 0.22.\n",
      "  \"10 in version 0.20 to 100 in 0.22.\", FutureWarning)\n",
      "C:\\Users\\jonat\\Anaconda3\\envs\\tf-gpu2.0\\lib\\site-packages\\sklearn\\ensemble\\forest.py:245: FutureWarning: The default value of n_estimators will change from 10 in version 0.20 to 100 in 0.22.\n",
      "  \"10 in version 0.20 to 100 in 0.22.\", FutureWarning)\n",
      "C:\\Users\\jonat\\Anaconda3\\envs\\tf-gpu2.0\\lib\\site-packages\\sklearn\\ensemble\\forest.py:245: FutureWarning: The default value of n_estimators will change from 10 in version 0.20 to 100 in 0.22.\n",
      "  \"10 in version 0.20 to 100 in 0.22.\", FutureWarning)\n",
      "C:\\Users\\jonat\\Anaconda3\\envs\\tf-gpu2.0\\lib\\site-packages\\sklearn\\ensemble\\forest.py:245: FutureWarning: The default value of n_estimators will change from 10 in version 0.20 to 100 in 0.22.\n",
      "  \"10 in version 0.20 to 100 in 0.22.\", FutureWarning)\n",
      "C:\\Users\\jonat\\Anaconda3\\envs\\tf-gpu2.0\\lib\\site-packages\\sklearn\\ensemble\\forest.py:245: FutureWarning: The default value of n_estimators will change from 10 in version 0.20 to 100 in 0.22.\n",
      "  \"10 in version 0.20 to 100 in 0.22.\", FutureWarning)\n",
      "C:\\Users\\jonat\\Anaconda3\\envs\\tf-gpu2.0\\lib\\site-packages\\sklearn\\ensemble\\forest.py:245: FutureWarning: The default value of n_estimators will change from 10 in version 0.20 to 100 in 0.22.\n",
      "  \"10 in version 0.20 to 100 in 0.22.\", FutureWarning)\n",
      "C:\\Users\\jonat\\Anaconda3\\envs\\tf-gpu2.0\\lib\\site-packages\\sklearn\\ensemble\\forest.py:245: FutureWarning: The default value of n_estimators will change from 10 in version 0.20 to 100 in 0.22.\n",
      "  \"10 in version 0.20 to 100 in 0.22.\", FutureWarning)\n",
      "C:\\Users\\jonat\\Anaconda3\\envs\\tf-gpu2.0\\lib\\site-packages\\sklearn\\ensemble\\forest.py:245: FutureWarning: The default value of n_estimators will change from 10 in version 0.20 to 100 in 0.22.\n",
      "  \"10 in version 0.20 to 100 in 0.22.\", FutureWarning)\n"
     ]
    }
   ],
   "source": [
    "# Spot Check Algorithms\n",
    "models = []\n",
    "models.append(('LR', LogisticRegression(solver='liblinear', multi_class='ovr')))\n",
    "#models.append(('LASSO', Lasso(alpha=0.1)))\n",
    "models.append(('LDA', LinearDiscriminantAnalysis()))\n",
    "models.append(('KNN', KNeighborsClassifier()))\n",
    "models.append(('CART', DecisionTreeClassifier()))\n",
    "models.append(('ABC', AdaBoostClassifier()))\n",
    "models.append(('GBC', GradientBoostingClassifier(n_estimators=200)))\n",
    "models.append(('RFC', RandomForestClassifier()))\n",
    "models.append(('GNB', GaussianNB()))\n",
    "models.append(('SVM', SVC(gamma='auto')))\n",
    "models.append(('ETC', ExtraTreesClassifier()))\n",
    "\n",
    "# evaluate each model in turn\n",
    "results = []\n",
    "names = []\n",
    "\n",
    "for name, model in models:\n",
    "    kfold = StratifiedKFold(n_splits=10, random_state=1, shuffle=True)\n",
    "    cv_results = cross_val_score(model, value_data, label_data, cv=kfold, scoring='accuracy')\n",
    "    results.append(cv_results)\n",
    "    names.append(name)\n",
    "    print('%s: %f (%f)' % (name, cv_results.mean(), cv_results.std()))\n"
   ]
  },
  {
   "cell_type": "code",
   "execution_count": 619,
   "metadata": {},
   "outputs": [
    {
     "data": {
      "image/png": "[encoded data removed]",
      "text/plain": [
       "<Figure size 432x288 with 1 Axes>"
      ]
     },
     "metadata": {
      "needs_background": "light"
     },
     "output_type": "display_data"
    }
   ],
   "source": [
    "# Compare Algorithms\n",
    "pyplot.boxplot(results, labels=names)\n",
    "pyplot.title('Algorithm Comparison')\n",
    "pyplot.show()"
   ]
  },
  {
   "cell_type": "code",
   "execution_count": null,
   "metadata": {},
   "outputs": [],
   "source": []
  }
 ],
 "metadata": {
  "kernelspec": {
   "display_name": "Python 3",
   "language": "python",
   "name": "python3"
  },
  "language_info": {
   "codemirror_mode": {
    "name": "ipython",
    "version": 3
   },
   "file_extension": ".py",
   "mimetype": "text/x-python",
   "name": "python",
   "nbconvert_exporter": "python",
   "pygments_lexer": "ipython3",
   "version": "3.7.3"
  }
 },
 "nbformat": 4,
 "nbformat_minor": 2
}
