{
 "cells": [
  {
   "cell_type": "markdown",
   "metadata": {},
   "source": [
    "This notebook exists to help perform some transformations and inspections of data.  Goal is to eventually collapse this into a .py file.\n",
    "\n",
    "Data Sources / credits:\n",
    "* To do: nab data from Census for City/State https://www.census.gov/developers/\n",
    "* Andrew's API key: 809a11b265cd8f07473e64706d722d9c5aa77b23\n"
   ]
  },
  {
   "cell_type": "code",
   "execution_count": 6,
   "metadata": {},
   "outputs": [],
   "source": [
    "# Install some helpful libraries\n",
    "#!pip install geopy\n",
    "\n",
    "# Importing necessary libraries\n",
    "import pandas as pd\n",
    "from geopy.geocoders import Nominatim\n",
    "from functools import partial\n",
    "\n",
    "# Setup our geolocator\n",
    "geolocator = Nominatim(user_agent=\"college-town-weather-extractor-v2\")\n",
    "geocode = partial(geolocator.geocode, language=\"en\", timeout=120)"
   ]
  },
  {
   "cell_type": "code",
   "execution_count": 7,
   "metadata": {},
   "outputs": [],
   "source": [
    "# Reading the files\n",
    "fpath = '../economics-input.csv'\n",
    "city_df = pd.read_csv(fpath,header=0)\n",
    "city_df['city_lat'],city_df['city_lon']='',''"
   ]
  },
  {
   "cell_type": "code",
   "execution_count": null,
   "metadata": {},
   "outputs": [],
   "source": [
    "# Put some economics analysis here.\n",
    "for i in range(city_df.shape[0]):\n",
    "    city,state = city_df['Geographic Location'][i].split(\",\")\n",
    "    location = geolocator.geocode(city_df['Geographic Location'][i])\n",
    "    clat,clon = location.latitude, location.longitude\n",
    "    city_df.at[i,'city_lat'],city_df.at[i,'city_lon']=clat,clon"
   ]
  },
  {
   "cell_type": "code",
   "execution_count": null,
   "metadata": {
    "scrolled": true
   },
   "outputs": [],
   "source": [
    "city_df"
   ]
  },
  {
   "cell_type": "code",
   "execution_count": null,
   "metadata": {},
   "outputs": [],
   "source": [
    "city_df.to_csv('../economics-output.csv', index=True)"
   ]
  },
  {
   "cell_type": "code",
   "execution_count": null,
   "metadata": {},
   "outputs": [],
   "source": []
  },
  {
   "cell_type": "code",
   "execution_count": null,
   "metadata": {},
   "outputs": [],
   "source": []
  }
 ],
 "metadata": {
  "kernelspec": {
   "display_name": "Python 3",
   "language": "python",
   "name": "python3"
  },
  "language_info": {
   "codemirror_mode": {
    "name": "ipython",
    "version": 3
   },
   "file_extension": ".py",
   "mimetype": "text/x-python",
   "name": "python",
   "nbconvert_exporter": "python",
   "pygments_lexer": "ipython3",
   "version": "3.7.6"
  }
 },
 "nbformat": 4,
 "nbformat_minor": 4
}
