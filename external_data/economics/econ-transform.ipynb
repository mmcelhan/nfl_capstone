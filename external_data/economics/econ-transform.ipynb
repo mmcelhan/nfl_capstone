{
 "cells": [
  {
   "cell_type": "markdown",
   "metadata": {},
   "source": [
    "This notebook exists to help perform some transformations and inspections of data.  Goal is to eventually collapse this into a .py file.\n",
    "\n",
    "Data Sources / credits:\n",
    "* Census data selector CSV download from: https://www.census.gov/data-tools/demo/saipe/#/?map_geoSelector=aa_c&s_year=2018,2017,2015,2009&map_yearSelector=2009\n",
    "* Andrew's API key: 809a11b265cd8f07473e64706d722d9c5aa77b23\n"
   ]
  },
  {
   "cell_type": "code",
   "execution_count": 1,
   "metadata": {},
   "outputs": [],
   "source": [
    "# Install some helpful libraries\n",
    "#!pip install geopy\n",
    "\n",
    "# Importing necessary libraries\n",
    "import pandas as pd\n",
    "from geopy.geocoders import Nominatim\n",
    "from functools import partial\n",
    "\n",
    "# Setup our geolocator\n",
    "geolocator = Nominatim(user_agent=\"college-town-weather-extractor-v2\")\n",
    "geocode = partial(geolocator.geocode, language=\"en\", timeout=120)"
   ]
  },
  {
   "cell_type": "code",
   "execution_count": 6,
   "metadata": {},
   "outputs": [],
   "source": [
    "# Reading the files\n",
    "fpath = '../economics-input.csv'\n",
    "city_df = pd.read_csv(fpath,header=0)\n",
    "city_df['county'],city_df['state'],city_df['poverty_pct'],city_df['med_income']='','','',''\n",
    "fpath = './census/SAIPESNC_30MAY20_00_49_30_76.csv'\n",
    "census_df = pd.read_csv(fpath)"
   ]
  },
  {
   "cell_type": "code",
   "execution_count": null,
   "metadata": {},
   "outputs": [
    {
     "name": "stdout",
     "output_type": "stream",
     "text": [
      "County not found for: Chestnut Hill, Massachusetts, 02102, United States of America\n",
      "County not found for: Hampton, Hampton City, Virginia, 23669-4019, United States of America\n",
      "County not found for: Harrisonburg, Virginia, 22801:22802, United States of America\n",
      "County not found for: Lynchburg, Lynchburg (city), Virginia, 24505, United States of America\n",
      "County not found for: Baltimore, Maryland, United States of America\n",
      "County not found for: Norfolk, Virginia, United States of America\n",
      "County not found for: Cedar Falls, Iowa, 50613, United States of America\n",
      "County not found for: Norman, Oklahoma, United States of America\n",
      "County not found for: Stillwater, Oklahoma, United States of America\n",
      "County not found for: Stillwater, Oklahoma, United States of America\n",
      "County not found for: Norfolk, Virginia, United States of America\n",
      "County not found for: Richmond, Richmond City, Virginia, 23298, United States of America\n",
      "County not found for: Charlottesville, Virginia, United States of America\n"
     ]
    }
   ],
   "source": [
    "# Identify counties and econ data for each city\n",
    "# Starting with a single year\n",
    "year = 2018\n",
    "\n",
    "for i in range(city_df.shape[0]):\n",
    "    city,state = city_df['Geographic Location'][i].split(\",\")\n",
    "    location = geolocator.geocode(city+state+\" usa\")\n",
    "    loc = location[0].split(',')[1:3]\n",
    "    #print(city,state,\" - \",end=\"\")\n",
    "    #print(location)\n",
    "    cty = \"\"\n",
    "    for l in location[0].split(','):\n",
    "        if 'county' in l.lower():\n",
    "            cty = l\n",
    "        else:\n",
    "            if 'parish' in l.lower():\n",
    "                cty = l\n",
    "    if cty == \"\":\n",
    "        print(\"County not found for:\",location)\n",
    "        continue\n",
    "    city_df.at[i,'county'],city_df.at[i,'state']=cty,state\n",
    "    for n in range(census_df.shape[0]):\n",
    "        if census_df['State / County Name'][n].split(\"(\")[0].strip() == cty.strip():\n",
    "            if int(census_df['Year'][n]) == year:\n",
    "                city_df.at[i,'poverty_pct'],city_df['med_income'] = float(census_df['All Ages in Poverty Percent'][n]),census_df['Median Household Income in Dollars'][n]"
   ]
  },
  {
   "cell_type": "code",
   "execution_count": null,
   "metadata": {
    "scrolled": true
   },
   "outputs": [],
   "source": []
  },
  {
   "cell_type": "code",
   "execution_count": null,
   "metadata": {},
   "outputs": [],
   "source": [
    "city_df"
   ]
  },
  {
   "cell_type": "code",
   "execution_count": null,
   "metadata": {},
   "outputs": [],
   "source": [
    "census_df"
   ]
  },
  {
   "cell_type": "code",
   "execution_count": null,
   "metadata": {},
   "outputs": [],
   "source": []
  },
  {
   "cell_type": "code",
   "execution_count": null,
   "metadata": {},
   "outputs": [],
   "source": []
  },
  {
   "cell_type": "code",
   "execution_count": 6,
   "metadata": {},
   "outputs": [],
   "source": [
    "city_df.to_csv('../economics-output.csv', index=True)"
   ]
  }
 ],
 "metadata": {
  "kernelspec": {
   "display_name": "Python 3",
   "language": "python",
   "name": "python3"
  },
  "language_info": {
   "codemirror_mode": {
    "name": "ipython",
    "version": 3
   },
   "file_extension": ".py",
   "mimetype": "text/x-python",
   "name": "python",
   "nbconvert_exporter": "python",
   "pygments_lexer": "ipython3",
   "version": "3.7.6"
  }
 },
 "nbformat": 4,
 "nbformat_minor": 4
}
